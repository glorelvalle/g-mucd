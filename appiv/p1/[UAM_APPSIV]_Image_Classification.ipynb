{
  "nbformat": 4,
  "nbformat_minor": 0,
  "metadata": {
    "colab": {
      "name": "[UAM-APPSIV] Image Classification.ipynb",
      "provenance": [],
      "collapsed_sections": []
    },
    "kernelspec": {
      "name": "python3",
      "display_name": "Python 3"
    },
    "accelerator": "GPU",
    "widgets": {
      "application/vnd.jupyter.widget-state+json": {
        "27e630d76f224ac3ae84c6035777ae56": {
          "model_module": "@jupyter-widgets/controls",
          "model_name": "HBoxModel",
          "model_module_version": "1.5.0",
          "state": {
            "_dom_classes": [],
            "_model_module": "@jupyter-widgets/controls",
            "_model_module_version": "1.5.0",
            "_model_name": "HBoxModel",
            "_view_count": null,
            "_view_module": "@jupyter-widgets/controls",
            "_view_module_version": "1.5.0",
            "_view_name": "HBoxView",
            "box_style": "",
            "children": [
              "IPY_MODEL_d3e4a45d048e4285be2021992028a02a",
              "IPY_MODEL_95403851b9434fa88a6d995662513a63",
              "IPY_MODEL_378aab270b114739b2f4f8ed081f9e61"
            ],
            "layout": "IPY_MODEL_5900f4554e894174aa26099116bcf839"
          }
        },
        "d3e4a45d048e4285be2021992028a02a": {
          "model_module": "@jupyter-widgets/controls",
          "model_name": "HTMLModel",
          "model_module_version": "1.5.0",
          "state": {
            "_dom_classes": [],
            "_model_module": "@jupyter-widgets/controls",
            "_model_module_version": "1.5.0",
            "_model_name": "HTMLModel",
            "_view_count": null,
            "_view_module": "@jupyter-widgets/controls",
            "_view_module_version": "1.5.0",
            "_view_name": "HTMLView",
            "description": "",
            "description_tooltip": null,
            "layout": "IPY_MODEL_b23ba841a36a41908e2ef4bf5d27cf0c",
            "placeholder": "​",
            "style": "IPY_MODEL_c8b2606a697c4acface390a295b3f93d",
            "value": ""
          }
        },
        "95403851b9434fa88a6d995662513a63": {
          "model_module": "@jupyter-widgets/controls",
          "model_name": "FloatProgressModel",
          "model_module_version": "1.5.0",
          "state": {
            "_dom_classes": [],
            "_model_module": "@jupyter-widgets/controls",
            "_model_module_version": "1.5.0",
            "_model_name": "FloatProgressModel",
            "_view_count": null,
            "_view_module": "@jupyter-widgets/controls",
            "_view_module_version": "1.5.0",
            "_view_name": "ProgressView",
            "bar_style": "success",
            "description": "",
            "description_tooltip": null,
            "layout": "IPY_MODEL_7c8ddf8af3fe47b49693b553e3ebff09",
            "max": 9912422,
            "min": 0,
            "orientation": "horizontal",
            "style": "IPY_MODEL_fa643fe18b7a4c7abfa81e3d4161b58a",
            "value": 9912422
          }
        },
        "378aab270b114739b2f4f8ed081f9e61": {
          "model_module": "@jupyter-widgets/controls",
          "model_name": "HTMLModel",
          "model_module_version": "1.5.0",
          "state": {
            "_dom_classes": [],
            "_model_module": "@jupyter-widgets/controls",
            "_model_module_version": "1.5.0",
            "_model_name": "HTMLModel",
            "_view_count": null,
            "_view_module": "@jupyter-widgets/controls",
            "_view_module_version": "1.5.0",
            "_view_name": "HTMLView",
            "description": "",
            "description_tooltip": null,
            "layout": "IPY_MODEL_f526bf7c97ec4bcaa2a67863f865053d",
            "placeholder": "​",
            "style": "IPY_MODEL_cb0a67ab681c4460a48398f923e0c573",
            "value": " 9913344/? [00:00&lt;00:00, 49367239.42it/s]"
          }
        },
        "5900f4554e894174aa26099116bcf839": {
          "model_module": "@jupyter-widgets/base",
          "model_name": "LayoutModel",
          "model_module_version": "1.2.0",
          "state": {
            "_model_module": "@jupyter-widgets/base",
            "_model_module_version": "1.2.0",
            "_model_name": "LayoutModel",
            "_view_count": null,
            "_view_module": "@jupyter-widgets/base",
            "_view_module_version": "1.2.0",
            "_view_name": "LayoutView",
            "align_content": null,
            "align_items": null,
            "align_self": null,
            "border": null,
            "bottom": null,
            "display": null,
            "flex": null,
            "flex_flow": null,
            "grid_area": null,
            "grid_auto_columns": null,
            "grid_auto_flow": null,
            "grid_auto_rows": null,
            "grid_column": null,
            "grid_gap": null,
            "grid_row": null,
            "grid_template_areas": null,
            "grid_template_columns": null,
            "grid_template_rows": null,
            "height": null,
            "justify_content": null,
            "justify_items": null,
            "left": null,
            "margin": null,
            "max_height": null,
            "max_width": null,
            "min_height": null,
            "min_width": null,
            "object_fit": null,
            "object_position": null,
            "order": null,
            "overflow": null,
            "overflow_x": null,
            "overflow_y": null,
            "padding": null,
            "right": null,
            "top": null,
            "visibility": null,
            "width": null
          }
        },
        "b23ba841a36a41908e2ef4bf5d27cf0c": {
          "model_module": "@jupyter-widgets/base",
          "model_name": "LayoutModel",
          "model_module_version": "1.2.0",
          "state": {
            "_model_module": "@jupyter-widgets/base",
            "_model_module_version": "1.2.0",
            "_model_name": "LayoutModel",
            "_view_count": null,
            "_view_module": "@jupyter-widgets/base",
            "_view_module_version": "1.2.0",
            "_view_name": "LayoutView",
            "align_content": null,
            "align_items": null,
            "align_self": null,
            "border": null,
            "bottom": null,
            "display": null,
            "flex": null,
            "flex_flow": null,
            "grid_area": null,
            "grid_auto_columns": null,
            "grid_auto_flow": null,
            "grid_auto_rows": null,
            "grid_column": null,
            "grid_gap": null,
            "grid_row": null,
            "grid_template_areas": null,
            "grid_template_columns": null,
            "grid_template_rows": null,
            "height": null,
            "justify_content": null,
            "justify_items": null,
            "left": null,
            "margin": null,
            "max_height": null,
            "max_width": null,
            "min_height": null,
            "min_width": null,
            "object_fit": null,
            "object_position": null,
            "order": null,
            "overflow": null,
            "overflow_x": null,
            "overflow_y": null,
            "padding": null,
            "right": null,
            "top": null,
            "visibility": null,
            "width": null
          }
        },
        "c8b2606a697c4acface390a295b3f93d": {
          "model_module": "@jupyter-widgets/controls",
          "model_name": "DescriptionStyleModel",
          "model_module_version": "1.5.0",
          "state": {
            "_model_module": "@jupyter-widgets/controls",
            "_model_module_version": "1.5.0",
            "_model_name": "DescriptionStyleModel",
            "_view_count": null,
            "_view_module": "@jupyter-widgets/base",
            "_view_module_version": "1.2.0",
            "_view_name": "StyleView",
            "description_width": ""
          }
        },
        "7c8ddf8af3fe47b49693b553e3ebff09": {
          "model_module": "@jupyter-widgets/base",
          "model_name": "LayoutModel",
          "model_module_version": "1.2.0",
          "state": {
            "_model_module": "@jupyter-widgets/base",
            "_model_module_version": "1.2.0",
            "_model_name": "LayoutModel",
            "_view_count": null,
            "_view_module": "@jupyter-widgets/base",
            "_view_module_version": "1.2.0",
            "_view_name": "LayoutView",
            "align_content": null,
            "align_items": null,
            "align_self": null,
            "border": null,
            "bottom": null,
            "display": null,
            "flex": null,
            "flex_flow": null,
            "grid_area": null,
            "grid_auto_columns": null,
            "grid_auto_flow": null,
            "grid_auto_rows": null,
            "grid_column": null,
            "grid_gap": null,
            "grid_row": null,
            "grid_template_areas": null,
            "grid_template_columns": null,
            "grid_template_rows": null,
            "height": null,
            "justify_content": null,
            "justify_items": null,
            "left": null,
            "margin": null,
            "max_height": null,
            "max_width": null,
            "min_height": null,
            "min_width": null,
            "object_fit": null,
            "object_position": null,
            "order": null,
            "overflow": null,
            "overflow_x": null,
            "overflow_y": null,
            "padding": null,
            "right": null,
            "top": null,
            "visibility": null,
            "width": null
          }
        },
        "fa643fe18b7a4c7abfa81e3d4161b58a": {
          "model_module": "@jupyter-widgets/controls",
          "model_name": "ProgressStyleModel",
          "model_module_version": "1.5.0",
          "state": {
            "_model_module": "@jupyter-widgets/controls",
            "_model_module_version": "1.5.0",
            "_model_name": "ProgressStyleModel",
            "_view_count": null,
            "_view_module": "@jupyter-widgets/base",
            "_view_module_version": "1.2.0",
            "_view_name": "StyleView",
            "bar_color": null,
            "description_width": ""
          }
        },
        "f526bf7c97ec4bcaa2a67863f865053d": {
          "model_module": "@jupyter-widgets/base",
          "model_name": "LayoutModel",
          "model_module_version": "1.2.0",
          "state": {
            "_model_module": "@jupyter-widgets/base",
            "_model_module_version": "1.2.0",
            "_model_name": "LayoutModel",
            "_view_count": null,
            "_view_module": "@jupyter-widgets/base",
            "_view_module_version": "1.2.0",
            "_view_name": "LayoutView",
            "align_content": null,
            "align_items": null,
            "align_self": null,
            "border": null,
            "bottom": null,
            "display": null,
            "flex": null,
            "flex_flow": null,
            "grid_area": null,
            "grid_auto_columns": null,
            "grid_auto_flow": null,
            "grid_auto_rows": null,
            "grid_column": null,
            "grid_gap": null,
            "grid_row": null,
            "grid_template_areas": null,
            "grid_template_columns": null,
            "grid_template_rows": null,
            "height": null,
            "justify_content": null,
            "justify_items": null,
            "left": null,
            "margin": null,
            "max_height": null,
            "max_width": null,
            "min_height": null,
            "min_width": null,
            "object_fit": null,
            "object_position": null,
            "order": null,
            "overflow": null,
            "overflow_x": null,
            "overflow_y": null,
            "padding": null,
            "right": null,
            "top": null,
            "visibility": null,
            "width": null
          }
        },
        "cb0a67ab681c4460a48398f923e0c573": {
          "model_module": "@jupyter-widgets/controls",
          "model_name": "DescriptionStyleModel",
          "model_module_version": "1.5.0",
          "state": {
            "_model_module": "@jupyter-widgets/controls",
            "_model_module_version": "1.5.0",
            "_model_name": "DescriptionStyleModel",
            "_view_count": null,
            "_view_module": "@jupyter-widgets/base",
            "_view_module_version": "1.2.0",
            "_view_name": "StyleView",
            "description_width": ""
          }
        },
        "d15dcc31861141feac5cc6e299ab52aa": {
          "model_module": "@jupyter-widgets/controls",
          "model_name": "HBoxModel",
          "model_module_version": "1.5.0",
          "state": {
            "_dom_classes": [],
            "_model_module": "@jupyter-widgets/controls",
            "_model_module_version": "1.5.0",
            "_model_name": "HBoxModel",
            "_view_count": null,
            "_view_module": "@jupyter-widgets/controls",
            "_view_module_version": "1.5.0",
            "_view_name": "HBoxView",
            "box_style": "",
            "children": [
              "IPY_MODEL_5da774e6cfa0454e855c2eef9e9a15d9",
              "IPY_MODEL_f5b6016e76234fbf9b19d0ebf7688b61",
              "IPY_MODEL_89d77568dd3c4eb19e66d017ebcbf68d"
            ],
            "layout": "IPY_MODEL_e88d559c114b4f99befcc1f847b83396"
          }
        },
        "5da774e6cfa0454e855c2eef9e9a15d9": {
          "model_module": "@jupyter-widgets/controls",
          "model_name": "HTMLModel",
          "model_module_version": "1.5.0",
          "state": {
            "_dom_classes": [],
            "_model_module": "@jupyter-widgets/controls",
            "_model_module_version": "1.5.0",
            "_model_name": "HTMLModel",
            "_view_count": null,
            "_view_module": "@jupyter-widgets/controls",
            "_view_module_version": "1.5.0",
            "_view_name": "HTMLView",
            "description": "",
            "description_tooltip": null,
            "layout": "IPY_MODEL_09286ac1b5434b549194713ec75b352d",
            "placeholder": "​",
            "style": "IPY_MODEL_013699a941534b46ac749040ae3aaa8c",
            "value": ""
          }
        },
        "f5b6016e76234fbf9b19d0ebf7688b61": {
          "model_module": "@jupyter-widgets/controls",
          "model_name": "FloatProgressModel",
          "model_module_version": "1.5.0",
          "state": {
            "_dom_classes": [],
            "_model_module": "@jupyter-widgets/controls",
            "_model_module_version": "1.5.0",
            "_model_name": "FloatProgressModel",
            "_view_count": null,
            "_view_module": "@jupyter-widgets/controls",
            "_view_module_version": "1.5.0",
            "_view_name": "ProgressView",
            "bar_style": "success",
            "description": "",
            "description_tooltip": null,
            "layout": "IPY_MODEL_1b4d1302b2614363bec6fe31ca0789b1",
            "max": 28881,
            "min": 0,
            "orientation": "horizontal",
            "style": "IPY_MODEL_68e63d86d9cb432d88734df49959f39f",
            "value": 28881
          }
        },
        "89d77568dd3c4eb19e66d017ebcbf68d": {
          "model_module": "@jupyter-widgets/controls",
          "model_name": "HTMLModel",
          "model_module_version": "1.5.0",
          "state": {
            "_dom_classes": [],
            "_model_module": "@jupyter-widgets/controls",
            "_model_module_version": "1.5.0",
            "_model_name": "HTMLModel",
            "_view_count": null,
            "_view_module": "@jupyter-widgets/controls",
            "_view_module_version": "1.5.0",
            "_view_name": "HTMLView",
            "description": "",
            "description_tooltip": null,
            "layout": "IPY_MODEL_9fc569ea5c024f588bee84ae87300e28",
            "placeholder": "​",
            "style": "IPY_MODEL_0d3906504f844240b76fcd0ecfcfb9c9",
            "value": " 29696/? [00:00&lt;00:00, 728586.52it/s]"
          }
        },
        "e88d559c114b4f99befcc1f847b83396": {
          "model_module": "@jupyter-widgets/base",
          "model_name": "LayoutModel",
          "model_module_version": "1.2.0",
          "state": {
            "_model_module": "@jupyter-widgets/base",
            "_model_module_version": "1.2.0",
            "_model_name": "LayoutModel",
            "_view_count": null,
            "_view_module": "@jupyter-widgets/base",
            "_view_module_version": "1.2.0",
            "_view_name": "LayoutView",
            "align_content": null,
            "align_items": null,
            "align_self": null,
            "border": null,
            "bottom": null,
            "display": null,
            "flex": null,
            "flex_flow": null,
            "grid_area": null,
            "grid_auto_columns": null,
            "grid_auto_flow": null,
            "grid_auto_rows": null,
            "grid_column": null,
            "grid_gap": null,
            "grid_row": null,
            "grid_template_areas": null,
            "grid_template_columns": null,
            "grid_template_rows": null,
            "height": null,
            "justify_content": null,
            "justify_items": null,
            "left": null,
            "margin": null,
            "max_height": null,
            "max_width": null,
            "min_height": null,
            "min_width": null,
            "object_fit": null,
            "object_position": null,
            "order": null,
            "overflow": null,
            "overflow_x": null,
            "overflow_y": null,
            "padding": null,
            "right": null,
            "top": null,
            "visibility": null,
            "width": null
          }
        },
        "09286ac1b5434b549194713ec75b352d": {
          "model_module": "@jupyter-widgets/base",
          "model_name": "LayoutModel",
          "model_module_version": "1.2.0",
          "state": {
            "_model_module": "@jupyter-widgets/base",
            "_model_module_version": "1.2.0",
            "_model_name": "LayoutModel",
            "_view_count": null,
            "_view_module": "@jupyter-widgets/base",
            "_view_module_version": "1.2.0",
            "_view_name": "LayoutView",
            "align_content": null,
            "align_items": null,
            "align_self": null,
            "border": null,
            "bottom": null,
            "display": null,
            "flex": null,
            "flex_flow": null,
            "grid_area": null,
            "grid_auto_columns": null,
            "grid_auto_flow": null,
            "grid_auto_rows": null,
            "grid_column": null,
            "grid_gap": null,
            "grid_row": null,
            "grid_template_areas": null,
            "grid_template_columns": null,
            "grid_template_rows": null,
            "height": null,
            "justify_content": null,
            "justify_items": null,
            "left": null,
            "margin": null,
            "max_height": null,
            "max_width": null,
            "min_height": null,
            "min_width": null,
            "object_fit": null,
            "object_position": null,
            "order": null,
            "overflow": null,
            "overflow_x": null,
            "overflow_y": null,
            "padding": null,
            "right": null,
            "top": null,
            "visibility": null,
            "width": null
          }
        },
        "013699a941534b46ac749040ae3aaa8c": {
          "model_module": "@jupyter-widgets/controls",
          "model_name": "DescriptionStyleModel",
          "model_module_version": "1.5.0",
          "state": {
            "_model_module": "@jupyter-widgets/controls",
            "_model_module_version": "1.5.0",
            "_model_name": "DescriptionStyleModel",
            "_view_count": null,
            "_view_module": "@jupyter-widgets/base",
            "_view_module_version": "1.2.0",
            "_view_name": "StyleView",
            "description_width": ""
          }
        },
        "1b4d1302b2614363bec6fe31ca0789b1": {
          "model_module": "@jupyter-widgets/base",
          "model_name": "LayoutModel",
          "model_module_version": "1.2.0",
          "state": {
            "_model_module": "@jupyter-widgets/base",
            "_model_module_version": "1.2.0",
            "_model_name": "LayoutModel",
            "_view_count": null,
            "_view_module": "@jupyter-widgets/base",
            "_view_module_version": "1.2.0",
            "_view_name": "LayoutView",
            "align_content": null,
            "align_items": null,
            "align_self": null,
            "border": null,
            "bottom": null,
            "display": null,
            "flex": null,
            "flex_flow": null,
            "grid_area": null,
            "grid_auto_columns": null,
            "grid_auto_flow": null,
            "grid_auto_rows": null,
            "grid_column": null,
            "grid_gap": null,
            "grid_row": null,
            "grid_template_areas": null,
            "grid_template_columns": null,
            "grid_template_rows": null,
            "height": null,
            "justify_content": null,
            "justify_items": null,
            "left": null,
            "margin": null,
            "max_height": null,
            "max_width": null,
            "min_height": null,
            "min_width": null,
            "object_fit": null,
            "object_position": null,
            "order": null,
            "overflow": null,
            "overflow_x": null,
            "overflow_y": null,
            "padding": null,
            "right": null,
            "top": null,
            "visibility": null,
            "width": null
          }
        },
        "68e63d86d9cb432d88734df49959f39f": {
          "model_module": "@jupyter-widgets/controls",
          "model_name": "ProgressStyleModel",
          "model_module_version": "1.5.0",
          "state": {
            "_model_module": "@jupyter-widgets/controls",
            "_model_module_version": "1.5.0",
            "_model_name": "ProgressStyleModel",
            "_view_count": null,
            "_view_module": "@jupyter-widgets/base",
            "_view_module_version": "1.2.0",
            "_view_name": "StyleView",
            "bar_color": null,
            "description_width": ""
          }
        },
        "9fc569ea5c024f588bee84ae87300e28": {
          "model_module": "@jupyter-widgets/base",
          "model_name": "LayoutModel",
          "model_module_version": "1.2.0",
          "state": {
            "_model_module": "@jupyter-widgets/base",
            "_model_module_version": "1.2.0",
            "_model_name": "LayoutModel",
            "_view_count": null,
            "_view_module": "@jupyter-widgets/base",
            "_view_module_version": "1.2.0",
            "_view_name": "LayoutView",
            "align_content": null,
            "align_items": null,
            "align_self": null,
            "border": null,
            "bottom": null,
            "display": null,
            "flex": null,
            "flex_flow": null,
            "grid_area": null,
            "grid_auto_columns": null,
            "grid_auto_flow": null,
            "grid_auto_rows": null,
            "grid_column": null,
            "grid_gap": null,
            "grid_row": null,
            "grid_template_areas": null,
            "grid_template_columns": null,
            "grid_template_rows": null,
            "height": null,
            "justify_content": null,
            "justify_items": null,
            "left": null,
            "margin": null,
            "max_height": null,
            "max_width": null,
            "min_height": null,
            "min_width": null,
            "object_fit": null,
            "object_position": null,
            "order": null,
            "overflow": null,
            "overflow_x": null,
            "overflow_y": null,
            "padding": null,
            "right": null,
            "top": null,
            "visibility": null,
            "width": null
          }
        },
        "0d3906504f844240b76fcd0ecfcfb9c9": {
          "model_module": "@jupyter-widgets/controls",
          "model_name": "DescriptionStyleModel",
          "model_module_version": "1.5.0",
          "state": {
            "_model_module": "@jupyter-widgets/controls",
            "_model_module_version": "1.5.0",
            "_model_name": "DescriptionStyleModel",
            "_view_count": null,
            "_view_module": "@jupyter-widgets/base",
            "_view_module_version": "1.2.0",
            "_view_name": "StyleView",
            "description_width": ""
          }
        },
        "bf3f309da93d4f3995aa063f4006766c": {
          "model_module": "@jupyter-widgets/controls",
          "model_name": "HBoxModel",
          "model_module_version": "1.5.0",
          "state": {
            "_dom_classes": [],
            "_model_module": "@jupyter-widgets/controls",
            "_model_module_version": "1.5.0",
            "_model_name": "HBoxModel",
            "_view_count": null,
            "_view_module": "@jupyter-widgets/controls",
            "_view_module_version": "1.5.0",
            "_view_name": "HBoxView",
            "box_style": "",
            "children": [
              "IPY_MODEL_9c78dc5894524c5b8b404deb7f688915",
              "IPY_MODEL_f5217c6b8b264e818c4c013667d5bb2f",
              "IPY_MODEL_d6e3744ae6b9461fb39d529970da236e"
            ],
            "layout": "IPY_MODEL_62635684ebcb499a9c51a7b381278f12"
          }
        },
        "9c78dc5894524c5b8b404deb7f688915": {
          "model_module": "@jupyter-widgets/controls",
          "model_name": "HTMLModel",
          "model_module_version": "1.5.0",
          "state": {
            "_dom_classes": [],
            "_model_module": "@jupyter-widgets/controls",
            "_model_module_version": "1.5.0",
            "_model_name": "HTMLModel",
            "_view_count": null,
            "_view_module": "@jupyter-widgets/controls",
            "_view_module_version": "1.5.0",
            "_view_name": "HTMLView",
            "description": "",
            "description_tooltip": null,
            "layout": "IPY_MODEL_87b4a2bcda8b4eeaae99de9dc8551db2",
            "placeholder": "​",
            "style": "IPY_MODEL_452765059308454a9145e4f94f32e996",
            "value": ""
          }
        },
        "f5217c6b8b264e818c4c013667d5bb2f": {
          "model_module": "@jupyter-widgets/controls",
          "model_name": "FloatProgressModel",
          "model_module_version": "1.5.0",
          "state": {
            "_dom_classes": [],
            "_model_module": "@jupyter-widgets/controls",
            "_model_module_version": "1.5.0",
            "_model_name": "FloatProgressModel",
            "_view_count": null,
            "_view_module": "@jupyter-widgets/controls",
            "_view_module_version": "1.5.0",
            "_view_name": "ProgressView",
            "bar_style": "success",
            "description": "",
            "description_tooltip": null,
            "layout": "IPY_MODEL_fd4f614a5acb4ebc8ebdc4ba618bfff5",
            "max": 1648877,
            "min": 0,
            "orientation": "horizontal",
            "style": "IPY_MODEL_464dcb069673478e8d0b9e74631ba57c",
            "value": 1648877
          }
        },
        "d6e3744ae6b9461fb39d529970da236e": {
          "model_module": "@jupyter-widgets/controls",
          "model_name": "HTMLModel",
          "model_module_version": "1.5.0",
          "state": {
            "_dom_classes": [],
            "_model_module": "@jupyter-widgets/controls",
            "_model_module_version": "1.5.0",
            "_model_name": "HTMLModel",
            "_view_count": null,
            "_view_module": "@jupyter-widgets/controls",
            "_view_module_version": "1.5.0",
            "_view_name": "HTMLView",
            "description": "",
            "description_tooltip": null,
            "layout": "IPY_MODEL_b4a5d0bf637f4c8087ae443e14a4dcb1",
            "placeholder": "​",
            "style": "IPY_MODEL_4dc90800a5664ceda3ecc0f839c14c69",
            "value": " 1649664/? [00:00&lt;00:00, 12728028.68it/s]"
          }
        },
        "62635684ebcb499a9c51a7b381278f12": {
          "model_module": "@jupyter-widgets/base",
          "model_name": "LayoutModel",
          "model_module_version": "1.2.0",
          "state": {
            "_model_module": "@jupyter-widgets/base",
            "_model_module_version": "1.2.0",
            "_model_name": "LayoutModel",
            "_view_count": null,
            "_view_module": "@jupyter-widgets/base",
            "_view_module_version": "1.2.0",
            "_view_name": "LayoutView",
            "align_content": null,
            "align_items": null,
            "align_self": null,
            "border": null,
            "bottom": null,
            "display": null,
            "flex": null,
            "flex_flow": null,
            "grid_area": null,
            "grid_auto_columns": null,
            "grid_auto_flow": null,
            "grid_auto_rows": null,
            "grid_column": null,
            "grid_gap": null,
            "grid_row": null,
            "grid_template_areas": null,
            "grid_template_columns": null,
            "grid_template_rows": null,
            "height": null,
            "justify_content": null,
            "justify_items": null,
            "left": null,
            "margin": null,
            "max_height": null,
            "max_width": null,
            "min_height": null,
            "min_width": null,
            "object_fit": null,
            "object_position": null,
            "order": null,
            "overflow": null,
            "overflow_x": null,
            "overflow_y": null,
            "padding": null,
            "right": null,
            "top": null,
            "visibility": null,
            "width": null
          }
        },
        "87b4a2bcda8b4eeaae99de9dc8551db2": {
          "model_module": "@jupyter-widgets/base",
          "model_name": "LayoutModel",
          "model_module_version": "1.2.0",
          "state": {
            "_model_module": "@jupyter-widgets/base",
            "_model_module_version": "1.2.0",
            "_model_name": "LayoutModel",
            "_view_count": null,
            "_view_module": "@jupyter-widgets/base",
            "_view_module_version": "1.2.0",
            "_view_name": "LayoutView",
            "align_content": null,
            "align_items": null,
            "align_self": null,
            "border": null,
            "bottom": null,
            "display": null,
            "flex": null,
            "flex_flow": null,
            "grid_area": null,
            "grid_auto_columns": null,
            "grid_auto_flow": null,
            "grid_auto_rows": null,
            "grid_column": null,
            "grid_gap": null,
            "grid_row": null,
            "grid_template_areas": null,
            "grid_template_columns": null,
            "grid_template_rows": null,
            "height": null,
            "justify_content": null,
            "justify_items": null,
            "left": null,
            "margin": null,
            "max_height": null,
            "max_width": null,
            "min_height": null,
            "min_width": null,
            "object_fit": null,
            "object_position": null,
            "order": null,
            "overflow": null,
            "overflow_x": null,
            "overflow_y": null,
            "padding": null,
            "right": null,
            "top": null,
            "visibility": null,
            "width": null
          }
        },
        "452765059308454a9145e4f94f32e996": {
          "model_module": "@jupyter-widgets/controls",
          "model_name": "DescriptionStyleModel",
          "model_module_version": "1.5.0",
          "state": {
            "_model_module": "@jupyter-widgets/controls",
            "_model_module_version": "1.5.0",
            "_model_name": "DescriptionStyleModel",
            "_view_count": null,
            "_view_module": "@jupyter-widgets/base",
            "_view_module_version": "1.2.0",
            "_view_name": "StyleView",
            "description_width": ""
          }
        },
        "fd4f614a5acb4ebc8ebdc4ba618bfff5": {
          "model_module": "@jupyter-widgets/base",
          "model_name": "LayoutModel",
          "model_module_version": "1.2.0",
          "state": {
            "_model_module": "@jupyter-widgets/base",
            "_model_module_version": "1.2.0",
            "_model_name": "LayoutModel",
            "_view_count": null,
            "_view_module": "@jupyter-widgets/base",
            "_view_module_version": "1.2.0",
            "_view_name": "LayoutView",
            "align_content": null,
            "align_items": null,
            "align_self": null,
            "border": null,
            "bottom": null,
            "display": null,
            "flex": null,
            "flex_flow": null,
            "grid_area": null,
            "grid_auto_columns": null,
            "grid_auto_flow": null,
            "grid_auto_rows": null,
            "grid_column": null,
            "grid_gap": null,
            "grid_row": null,
            "grid_template_areas": null,
            "grid_template_columns": null,
            "grid_template_rows": null,
            "height": null,
            "justify_content": null,
            "justify_items": null,
            "left": null,
            "margin": null,
            "max_height": null,
            "max_width": null,
            "min_height": null,
            "min_width": null,
            "object_fit": null,
            "object_position": null,
            "order": null,
            "overflow": null,
            "overflow_x": null,
            "overflow_y": null,
            "padding": null,
            "right": null,
            "top": null,
            "visibility": null,
            "width": null
          }
        },
        "464dcb069673478e8d0b9e74631ba57c": {
          "model_module": "@jupyter-widgets/controls",
          "model_name": "ProgressStyleModel",
          "model_module_version": "1.5.0",
          "state": {
            "_model_module": "@jupyter-widgets/controls",
            "_model_module_version": "1.5.0",
            "_model_name": "ProgressStyleModel",
            "_view_count": null,
            "_view_module": "@jupyter-widgets/base",
            "_view_module_version": "1.2.0",
            "_view_name": "StyleView",
            "bar_color": null,
            "description_width": ""
          }
        },
        "b4a5d0bf637f4c8087ae443e14a4dcb1": {
          "model_module": "@jupyter-widgets/base",
          "model_name": "LayoutModel",
          "model_module_version": "1.2.0",
          "state": {
            "_model_module": "@jupyter-widgets/base",
            "_model_module_version": "1.2.0",
            "_model_name": "LayoutModel",
            "_view_count": null,
            "_view_module": "@jupyter-widgets/base",
            "_view_module_version": "1.2.0",
            "_view_name": "LayoutView",
            "align_content": null,
            "align_items": null,
            "align_self": null,
            "border": null,
            "bottom": null,
            "display": null,
            "flex": null,
            "flex_flow": null,
            "grid_area": null,
            "grid_auto_columns": null,
            "grid_auto_flow": null,
            "grid_auto_rows": null,
            "grid_column": null,
            "grid_gap": null,
            "grid_row": null,
            "grid_template_areas": null,
            "grid_template_columns": null,
            "grid_template_rows": null,
            "height": null,
            "justify_content": null,
            "justify_items": null,
            "left": null,
            "margin": null,
            "max_height": null,
            "max_width": null,
            "min_height": null,
            "min_width": null,
            "object_fit": null,
            "object_position": null,
            "order": null,
            "overflow": null,
            "overflow_x": null,
            "overflow_y": null,
            "padding": null,
            "right": null,
            "top": null,
            "visibility": null,
            "width": null
          }
        },
        "4dc90800a5664ceda3ecc0f839c14c69": {
          "model_module": "@jupyter-widgets/controls",
          "model_name": "DescriptionStyleModel",
          "model_module_version": "1.5.0",
          "state": {
            "_model_module": "@jupyter-widgets/controls",
            "_model_module_version": "1.5.0",
            "_model_name": "DescriptionStyleModel",
            "_view_count": null,
            "_view_module": "@jupyter-widgets/base",
            "_view_module_version": "1.2.0",
            "_view_name": "StyleView",
            "description_width": ""
          }
        },
        "b330fe9aa7a44b31a1012e502e19b96f": {
          "model_module": "@jupyter-widgets/controls",
          "model_name": "HBoxModel",
          "model_module_version": "1.5.0",
          "state": {
            "_dom_classes": [],
            "_model_module": "@jupyter-widgets/controls",
            "_model_module_version": "1.5.0",
            "_model_name": "HBoxModel",
            "_view_count": null,
            "_view_module": "@jupyter-widgets/controls",
            "_view_module_version": "1.5.0",
            "_view_name": "HBoxView",
            "box_style": "",
            "children": [
              "IPY_MODEL_8746435994d44a08827e5f2682671a41",
              "IPY_MODEL_d0cef4e006d74ee7ba45f896ec790bdc",
              "IPY_MODEL_4c11de660515498988c2511c8a2eeaf4"
            ],
            "layout": "IPY_MODEL_6e816d6c4d874a54b844f42c4d8c53e9"
          }
        },
        "8746435994d44a08827e5f2682671a41": {
          "model_module": "@jupyter-widgets/controls",
          "model_name": "HTMLModel",
          "model_module_version": "1.5.0",
          "state": {
            "_dom_classes": [],
            "_model_module": "@jupyter-widgets/controls",
            "_model_module_version": "1.5.0",
            "_model_name": "HTMLModel",
            "_view_count": null,
            "_view_module": "@jupyter-widgets/controls",
            "_view_module_version": "1.5.0",
            "_view_name": "HTMLView",
            "description": "",
            "description_tooltip": null,
            "layout": "IPY_MODEL_e18c19e8274a41728728d73050093351",
            "placeholder": "​",
            "style": "IPY_MODEL_6bcc2313f8f0461b8acc6c99328ae66d",
            "value": ""
          }
        },
        "d0cef4e006d74ee7ba45f896ec790bdc": {
          "model_module": "@jupyter-widgets/controls",
          "model_name": "FloatProgressModel",
          "model_module_version": "1.5.0",
          "state": {
            "_dom_classes": [],
            "_model_module": "@jupyter-widgets/controls",
            "_model_module_version": "1.5.0",
            "_model_name": "FloatProgressModel",
            "_view_count": null,
            "_view_module": "@jupyter-widgets/controls",
            "_view_module_version": "1.5.0",
            "_view_name": "ProgressView",
            "bar_style": "success",
            "description": "",
            "description_tooltip": null,
            "layout": "IPY_MODEL_8b2a461a9a9b4f589e7bf6e650db0f63",
            "max": 4542,
            "min": 0,
            "orientation": "horizontal",
            "style": "IPY_MODEL_295000448416411e98a42fd895024c5d",
            "value": 4542
          }
        },
        "4c11de660515498988c2511c8a2eeaf4": {
          "model_module": "@jupyter-widgets/controls",
          "model_name": "HTMLModel",
          "model_module_version": "1.5.0",
          "state": {
            "_dom_classes": [],
            "_model_module": "@jupyter-widgets/controls",
            "_model_module_version": "1.5.0",
            "_model_name": "HTMLModel",
            "_view_count": null,
            "_view_module": "@jupyter-widgets/controls",
            "_view_module_version": "1.5.0",
            "_view_name": "HTMLView",
            "description": "",
            "description_tooltip": null,
            "layout": "IPY_MODEL_b9b2472536464caeb0900973406ad92f",
            "placeholder": "​",
            "style": "IPY_MODEL_53d0cd0809a3481aaf609bc425352a8c",
            "value": " 5120/? [00:00&lt;00:00, 138981.31it/s]"
          }
        },
        "6e816d6c4d874a54b844f42c4d8c53e9": {
          "model_module": "@jupyter-widgets/base",
          "model_name": "LayoutModel",
          "model_module_version": "1.2.0",
          "state": {
            "_model_module": "@jupyter-widgets/base",
            "_model_module_version": "1.2.0",
            "_model_name": "LayoutModel",
            "_view_count": null,
            "_view_module": "@jupyter-widgets/base",
            "_view_module_version": "1.2.0",
            "_view_name": "LayoutView",
            "align_content": null,
            "align_items": null,
            "align_self": null,
            "border": null,
            "bottom": null,
            "display": null,
            "flex": null,
            "flex_flow": null,
            "grid_area": null,
            "grid_auto_columns": null,
            "grid_auto_flow": null,
            "grid_auto_rows": null,
            "grid_column": null,
            "grid_gap": null,
            "grid_row": null,
            "grid_template_areas": null,
            "grid_template_columns": null,
            "grid_template_rows": null,
            "height": null,
            "justify_content": null,
            "justify_items": null,
            "left": null,
            "margin": null,
            "max_height": null,
            "max_width": null,
            "min_height": null,
            "min_width": null,
            "object_fit": null,
            "object_position": null,
            "order": null,
            "overflow": null,
            "overflow_x": null,
            "overflow_y": null,
            "padding": null,
            "right": null,
            "top": null,
            "visibility": null,
            "width": null
          }
        },
        "e18c19e8274a41728728d73050093351": {
          "model_module": "@jupyter-widgets/base",
          "model_name": "LayoutModel",
          "model_module_version": "1.2.0",
          "state": {
            "_model_module": "@jupyter-widgets/base",
            "_model_module_version": "1.2.0",
            "_model_name": "LayoutModel",
            "_view_count": null,
            "_view_module": "@jupyter-widgets/base",
            "_view_module_version": "1.2.0",
            "_view_name": "LayoutView",
            "align_content": null,
            "align_items": null,
            "align_self": null,
            "border": null,
            "bottom": null,
            "display": null,
            "flex": null,
            "flex_flow": null,
            "grid_area": null,
            "grid_auto_columns": null,
            "grid_auto_flow": null,
            "grid_auto_rows": null,
            "grid_column": null,
            "grid_gap": null,
            "grid_row": null,
            "grid_template_areas": null,
            "grid_template_columns": null,
            "grid_template_rows": null,
            "height": null,
            "justify_content": null,
            "justify_items": null,
            "left": null,
            "margin": null,
            "max_height": null,
            "max_width": null,
            "min_height": null,
            "min_width": null,
            "object_fit": null,
            "object_position": null,
            "order": null,
            "overflow": null,
            "overflow_x": null,
            "overflow_y": null,
            "padding": null,
            "right": null,
            "top": null,
            "visibility": null,
            "width": null
          }
        },
        "6bcc2313f8f0461b8acc6c99328ae66d": {
          "model_module": "@jupyter-widgets/controls",
          "model_name": "DescriptionStyleModel",
          "model_module_version": "1.5.0",
          "state": {
            "_model_module": "@jupyter-widgets/controls",
            "_model_module_version": "1.5.0",
            "_model_name": "DescriptionStyleModel",
            "_view_count": null,
            "_view_module": "@jupyter-widgets/base",
            "_view_module_version": "1.2.0",
            "_view_name": "StyleView",
            "description_width": ""
          }
        },
        "8b2a461a9a9b4f589e7bf6e650db0f63": {
          "model_module": "@jupyter-widgets/base",
          "model_name": "LayoutModel",
          "model_module_version": "1.2.0",
          "state": {
            "_model_module": "@jupyter-widgets/base",
            "_model_module_version": "1.2.0",
            "_model_name": "LayoutModel",
            "_view_count": null,
            "_view_module": "@jupyter-widgets/base",
            "_view_module_version": "1.2.0",
            "_view_name": "LayoutView",
            "align_content": null,
            "align_items": null,
            "align_self": null,
            "border": null,
            "bottom": null,
            "display": null,
            "flex": null,
            "flex_flow": null,
            "grid_area": null,
            "grid_auto_columns": null,
            "grid_auto_flow": null,
            "grid_auto_rows": null,
            "grid_column": null,
            "grid_gap": null,
            "grid_row": null,
            "grid_template_areas": null,
            "grid_template_columns": null,
            "grid_template_rows": null,
            "height": null,
            "justify_content": null,
            "justify_items": null,
            "left": null,
            "margin": null,
            "max_height": null,
            "max_width": null,
            "min_height": null,
            "min_width": null,
            "object_fit": null,
            "object_position": null,
            "order": null,
            "overflow": null,
            "overflow_x": null,
            "overflow_y": null,
            "padding": null,
            "right": null,
            "top": null,
            "visibility": null,
            "width": null
          }
        },
        "295000448416411e98a42fd895024c5d": {
          "model_module": "@jupyter-widgets/controls",
          "model_name": "ProgressStyleModel",
          "model_module_version": "1.5.0",
          "state": {
            "_model_module": "@jupyter-widgets/controls",
            "_model_module_version": "1.5.0",
            "_model_name": "ProgressStyleModel",
            "_view_count": null,
            "_view_module": "@jupyter-widgets/base",
            "_view_module_version": "1.2.0",
            "_view_name": "StyleView",
            "bar_color": null,
            "description_width": ""
          }
        },
        "b9b2472536464caeb0900973406ad92f": {
          "model_module": "@jupyter-widgets/base",
          "model_name": "LayoutModel",
          "model_module_version": "1.2.0",
          "state": {
            "_model_module": "@jupyter-widgets/base",
            "_model_module_version": "1.2.0",
            "_model_name": "LayoutModel",
            "_view_count": null,
            "_view_module": "@jupyter-widgets/base",
            "_view_module_version": "1.2.0",
            "_view_name": "LayoutView",
            "align_content": null,
            "align_items": null,
            "align_self": null,
            "border": null,
            "bottom": null,
            "display": null,
            "flex": null,
            "flex_flow": null,
            "grid_area": null,
            "grid_auto_columns": null,
            "grid_auto_flow": null,
            "grid_auto_rows": null,
            "grid_column": null,
            "grid_gap": null,
            "grid_row": null,
            "grid_template_areas": null,
            "grid_template_columns": null,
            "grid_template_rows": null,
            "height": null,
            "justify_content": null,
            "justify_items": null,
            "left": null,
            "margin": null,
            "max_height": null,
            "max_width": null,
            "min_height": null,
            "min_width": null,
            "object_fit": null,
            "object_position": null,
            "order": null,
            "overflow": null,
            "overflow_x": null,
            "overflow_y": null,
            "padding": null,
            "right": null,
            "top": null,
            "visibility": null,
            "width": null
          }
        },
        "53d0cd0809a3481aaf609bc425352a8c": {
          "model_module": "@jupyter-widgets/controls",
          "model_name": "DescriptionStyleModel",
          "model_module_version": "1.5.0",
          "state": {
            "_model_module": "@jupyter-widgets/controls",
            "_model_module_version": "1.5.0",
            "_model_name": "DescriptionStyleModel",
            "_view_count": null,
            "_view_module": "@jupyter-widgets/base",
            "_view_module_version": "1.2.0",
            "_view_name": "StyleView",
            "description_width": ""
          }
        }
      }
    }
  },
  "cells": [
    {
      "cell_type": "markdown",
      "metadata": {
        "id": "GtiQjkq8PnI6"
      },
      "source": [
        "# Image Classification with PyTorch: Simple CNN \n",
        "\n",
        "[Pablo Carballeira] (http://dymas.ii.uam.es/webvpu/gti/user/186/), Escuela Politecnica Superior, Universidad Autónoma de Madrid.\n",
        "\n",
        "Parts of this code have been adapted from then work of Kevin McGuinness (http://www.eeng.dcu.ie/~mcguinne/), School of Electronic Engineering, Dublin City University, and the work of Ben Trevett (https://github.com/bentrevett), Heriot-Watt University\n",
        "\n",
        "You can find documentation about working in Colab here (https://colab.research.google.com/notebooks/intro.ipynb)\n",
        "\n",
        "\n",
        "---\n",
        "\n",
        "In this lab assignment you will learn how to use the [PyTorch](https://pytorch.org/) deep learning framework to create and train a simple deep learning model for handwritten digit classification. You will also learn about data loaders and datasets in PyTorch and how to track model training progress.\n"
      ]
    },
    {
      "cell_type": "markdown",
      "metadata": {
        "id": "FGmS80CT8aCw"
      },
      "source": [
        "## Instructions\n",
        "\n",
        "Anywhere you see a **???** in the code below, fill in in with the correct code."
      ]
    },
    {
      "cell_type": "markdown",
      "metadata": {
        "id": "Ywspo1LiklkS"
      },
      "source": [
        "# Import packages\n",
        "\n",
        "Find the PyTorch docs at https://pytorch.org/docs/stable/index.html \n",
        "\n",
        "Tutorials: https://pytorch.org/tutorials/"
      ]
    },
    {
      "cell_type": "code",
      "metadata": {
        "id": "V8TdKha5hoCs"
      },
      "source": [
        "import numpy as np\n",
        "import matplotlib.pyplot as plt\n",
        "\n",
        "import torch\n",
        "import torch.nn.functional as F\n",
        "import torch.nn as nn\n",
        "import torch.optim as optim\n",
        "import torchvision.transforms as transforms\n",
        "\n",
        "from torch.utils.data import DataLoader\n",
        "# import torch.utils.data as data\n",
        "\n",
        "import torchvision.datasets as datasets\n",
        "from torchvision.datasets import MNIST\n",
        "\n",
        "from sklearn import decomposition\n",
        "from sklearn import manifold\n",
        "from sklearn.metrics import confusion_matrix\n",
        "from sklearn.metrics import ConfusionMatrixDisplay\n",
        "\n",
        "import copy\n",
        "import random\n",
        "import time"
      ],
      "execution_count": 1,
      "outputs": []
    },
    {
      "cell_type": "markdown",
      "metadata": {
        "id": "-MGvs0jJ0JgA"
      },
      "source": [
        "# Enable GPU acceleration\n",
        "\n",
        "Open to the Edit menu and select *Notebook settings* and check that *GPU* is selected under hardware accelerator.\n"
      ]
    },
    {
      "cell_type": "code",
      "metadata": {
        "id": "eiSDmqiA2es2",
        "colab": {
          "base_uri": "https://localhost:8080/"
        },
        "outputId": "99a00a08-236f-4e65-c3ea-fe8b95bf2678"
      },
      "source": [
        "# make sure to enable GPU acceleration!\n",
        "device = torch.device('cuda' if torch.cuda.is_available() else 'cpu')\n",
        "print(device)"
      ],
      "execution_count": 2,
      "outputs": [
        {
          "output_type": "stream",
          "name": "stdout",
          "text": [
            "cuda\n"
          ]
        }
      ]
    },
    {
      "cell_type": "markdown",
      "metadata": {
        "id": "1FcvzjWq-0xs"
      },
      "source": [
        "We set the random seed so all of our experiments can be reproduced."
      ]
    },
    {
      "cell_type": "code",
      "metadata": {
        "id": "9bexQC8PaL9w"
      },
      "source": [
        "# Set random seed for reproducability\n",
        "\n",
        "SEED = 1234\n",
        "\n",
        "torch.manual_seed(SEED)\n",
        "np.random.seed(SEED)\n",
        "\n",
        "random.seed(SEED)\n",
        "torch.cuda.manual_seed(SEED)\n",
        "torch.backends.cudnn.deterministic = True\n",
        "torch.backends.cudnn.benchmark = False\n"
      ],
      "execution_count": 3,
      "outputs": []
    },
    {
      "cell_type": "markdown",
      "metadata": {
        "id": "mTq9KUW_7dct"
      },
      "source": [
        "# Specify a model architecture\n",
        "\n",
        "We will use this simple CNN with two conv layers, one pooling layer, two fully connected, and some dropout.\n",
        "\n",
        "![Model Architecture](http://www.eeng.dcu.ie/~mcguinne/media/cnn.png)"
      ]
    },
    {
      "cell_type": "code",
      "metadata": {
        "id": "KAaUNorqjKO_"
      },
      "source": [
        "class SimpleCNN(nn.Module):\n",
        "\n",
        "    def __init__(self, num_channels=1, num_classes=10):\n",
        "        super(SimpleCNN, self).__init__()\n",
        "\n",
        "        # create the first convolution layer (bottom of the diagram)\n",
        "        self.conv1 = nn.Conv2d(num_channels, 32, 3, stride=1, padding=1)\n",
        "\n",
        "        # create the second convolution layer\n",
        "        self.conv2 = nn.Conv2d(32, 32, 3, stride=1, padding=1)\n",
        "\n",
        "        # create the 2x2 max pooling layer\n",
        "        self.pool1 = nn.MaxPool2d(3, stride=2)\n",
        "\n",
        "        # create the dropout operation with p = 0.25\n",
        "        self.drop1 = nn.Dropout(p=0.25)\n",
        "        \n",
        "        # create a fully connected layer mapping the output of the pooling layer to 128 dimensions. \n",
        "        # Use nn.Linear \n",
        "        self.fc1 = nn.Linear(in_features=5408, out_features=128, bias=False)\n",
        "        \n",
        "        # create the second dropout operation with p = 0.5\n",
        "        self.drop2 = nn.Dropout2d(p=0.5)\n",
        "        \n",
        "        # create the final fully connected layer mapping 128 dimensions to 10 classes\n",
        "        self.fc2 = nn.Linear(in_features=128, out_features=10, bias=False)\n",
        "        \n",
        "    def forward(self, X):\n",
        "\n",
        "        # apply conv1 and a relu\n",
        "        X = F.relu(self.conv1(X))\n",
        "\n",
        "        # apply conv2 and a relu\n",
        "        X = F.relu(self.conv2(X))\n",
        "        \n",
        "        # apply the pooling layer and dropout with p=0.25\n",
        "        X = self.pool1(X)\n",
        "        X = self.drop1(X)\n",
        "\n",
        "        # flatten the spatial features. You can use the reshape() function for this\n",
        "          # view() or flatten()\n",
        "        #X = X.flatten(X, 2)\n",
        "        X = X.reshape(1, -1)\n",
        "        \n",
        "        # apply the first fully connected layer and a relu\n",
        "        X = self.fc1(X)\n",
        "        X = F.relu(X)\n",
        "        \n",
        "        # apply dropout with p = 0.5\n",
        "        X = self.drop2(X)\n",
        "        \n",
        "        interm_features = X # we will use this output for an intermedeate representation of the network \n",
        "\n",
        "        # apply the final fully connected layer\n",
        "        X = self.fc2(X)\n",
        "        \n",
        "        # return the logits (pre-softmax activations)\n",
        "        return X, interm_features "
      ],
      "execution_count": 23,
      "outputs": []
    },
    {
      "cell_type": "markdown",
      "metadata": {
        "id": "YMahrmY05F01"
      },
      "source": [
        "The code below is used to check that the model architecture is defined correctly. The code should not return any error, and the output should be the following: \n",
        "\n",
        "```\n",
        "Output size:  torch.Size([1, 10])\n",
        "Output: tensor([[ 0.0091,  0.0461, -0.0732, -0.1247,  0.1205, -0.1493, -0.1618,  0.0994, -0.0953,  0.0748]], grad_fn=<AddmmBackward0>)\n",
        "```\n",
        "\n"
      ]
    },
    {
      "cell_type": "code",
      "metadata": {
        "id": "6Skxdd0E6j3S",
        "colab": {
          "base_uri": "https://localhost:8080/"
        },
        "outputId": "8b83f488-b1fd-4d9f-c0af-dc9be198779b"
      },
      "source": [
        "SEED = 1234\n",
        "torch.manual_seed(SEED)\n",
        "\n",
        "dummy_input = torch.rand(1,1,28,28)\n",
        "\n",
        "model = SimpleCNN()\n",
        "\n",
        "print(model)\n",
        "\n",
        "output = model(dummy_input)\n",
        "\n",
        "print('Output size: ',format(output[0].shape))\n",
        "print('Output:')\n",
        "print(output[0])"
      ],
      "execution_count": 24,
      "outputs": [
        {
          "output_type": "stream",
          "name": "stdout",
          "text": [
            "SimpleCNN(\n",
            "  (conv1): Conv2d(1, 32, kernel_size=(3, 3), stride=(1, 1), padding=(1, 1))\n",
            "  (conv2): Conv2d(32, 32, kernel_size=(3, 3), stride=(1, 1), padding=(1, 1))\n",
            "  (pool1): MaxPool2d(kernel_size=3, stride=2, padding=0, dilation=1, ceil_mode=False)\n",
            "  (drop1): Dropout(p=0.25, inplace=False)\n",
            "  (fc1): Linear(in_features=5408, out_features=128, bias=False)\n",
            "  (drop2): Dropout2d(p=0.5, inplace=False)\n",
            "  (fc2): Linear(in_features=128, out_features=10, bias=False)\n",
            ")\n",
            "Output size:  torch.Size([1, 10])\n",
            "Output:\n",
            "tensor([[-0.0840, -0.0565, -0.0319, -0.0447, -0.0028,  0.0946,  0.0514, -0.0205,\n",
            "          0.0820,  0.0989]], grad_fn=<MmBackward0>)\n"
          ]
        }
      ]
    },
    {
      "cell_type": "markdown",
      "metadata": {
        "id": "UrynDn0t7rLY"
      },
      "source": [
        "# Load the datasets\n",
        "\n",
        "Here, we will download and prepare the MNIST dataset. For that, we need to specify a **transform** to convert images to torch tensors.\n",
        "\n",
        "We are adding a **normalization** transform here too so that the images have mean zero and unit variance. This is optional. For some problems (models/datasets) proper normalization is important for performance. For others (e.g. models with batch normalization early on), the importance of normalization is less.\n",
        "\n",
        "PyTorch comes with a built-in dataset class for the MNIST digit classification task in the ``torchvision`` package. It also has built-in for other common datasets and tasks like CIFAR-10 and ImageNet. See: https://pytorch.org/docs/stable/torchvision/datasets.html\n"
      ]
    },
    {
      "cell_type": "code",
      "metadata": {
        "id": "oe6InO7QnZca",
        "colab": {
          "base_uri": "https://localhost:8080/",
          "height": 408,
          "referenced_widgets": [
            "27e630d76f224ac3ae84c6035777ae56",
            "d3e4a45d048e4285be2021992028a02a",
            "95403851b9434fa88a6d995662513a63",
            "378aab270b114739b2f4f8ed081f9e61",
            "5900f4554e894174aa26099116bcf839",
            "b23ba841a36a41908e2ef4bf5d27cf0c",
            "c8b2606a697c4acface390a295b3f93d",
            "7c8ddf8af3fe47b49693b553e3ebff09",
            "fa643fe18b7a4c7abfa81e3d4161b58a",
            "f526bf7c97ec4bcaa2a67863f865053d",
            "cb0a67ab681c4460a48398f923e0c573",
            "d15dcc31861141feac5cc6e299ab52aa",
            "5da774e6cfa0454e855c2eef9e9a15d9",
            "f5b6016e76234fbf9b19d0ebf7688b61",
            "89d77568dd3c4eb19e66d017ebcbf68d",
            "e88d559c114b4f99befcc1f847b83396",
            "09286ac1b5434b549194713ec75b352d",
            "013699a941534b46ac749040ae3aaa8c",
            "1b4d1302b2614363bec6fe31ca0789b1",
            "68e63d86d9cb432d88734df49959f39f",
            "9fc569ea5c024f588bee84ae87300e28",
            "0d3906504f844240b76fcd0ecfcfb9c9",
            "bf3f309da93d4f3995aa063f4006766c",
            "9c78dc5894524c5b8b404deb7f688915",
            "f5217c6b8b264e818c4c013667d5bb2f",
            "d6e3744ae6b9461fb39d529970da236e",
            "62635684ebcb499a9c51a7b381278f12",
            "87b4a2bcda8b4eeaae99de9dc8551db2",
            "452765059308454a9145e4f94f32e996",
            "fd4f614a5acb4ebc8ebdc4ba618bfff5",
            "464dcb069673478e8d0b9e74631ba57c",
            "b4a5d0bf637f4c8087ae443e14a4dcb1",
            "4dc90800a5664ceda3ecc0f839c14c69",
            "b330fe9aa7a44b31a1012e502e19b96f",
            "8746435994d44a08827e5f2682671a41",
            "d0cef4e006d74ee7ba45f896ec790bdc",
            "4c11de660515498988c2511c8a2eeaf4",
            "6e816d6c4d874a54b844f42c4d8c53e9",
            "e18c19e8274a41728728d73050093351",
            "6bcc2313f8f0461b8acc6c99328ae66d",
            "8b2a461a9a9b4f589e7bf6e650db0f63",
            "295000448416411e98a42fd895024c5d",
            "b9b2472536464caeb0900973406ad92f",
            "53d0cd0809a3481aaf609bc425352a8c"
          ]
        },
        "outputId": "7ea6c2a3-ebd6-4e24-ae26-322dbf4d3903"
      },
      "source": [
        "# transform for the training data\n",
        "# normalization uses mean and std values of the training data\n",
        "train_transform = transforms.Compose([\n",
        "    transforms.ToTensor(),\n",
        "    transforms.Normalize([0.1307], [0.3081]) # normalization coefficients are precomputed\n",
        "])\n",
        "\n",
        "# use the same transform for the validation data\n",
        "valid_transform = train_transform\n",
        "\n",
        "# load train data, downloading if needed\n",
        "train_set = MNIST('./data/mnist', train=True, download=True, \n",
        "                  transform=train_transform)\n",
        "# load validation data, downloading if needed\n",
        "valid_set = MNIST('./data/mnist', train=False, download=True, \n",
        "                  transform=train_transform)\n"
      ],
      "execution_count": 25,
      "outputs": [
        {
          "output_type": "stream",
          "name": "stdout",
          "text": [
            "Downloading http://yann.lecun.com/exdb/mnist/train-images-idx3-ubyte.gz\n",
            "Downloading http://yann.lecun.com/exdb/mnist/train-images-idx3-ubyte.gz to ./data/mnist/MNIST/raw/train-images-idx3-ubyte.gz\n"
          ]
        },
        {
          "output_type": "display_data",
          "data": {
            "text/plain": [
              "  0%|          | 0/9912422 [00:00<?, ?it/s]"
            ],
            "application/vnd.jupyter.widget-view+json": {
              "version_major": 2,
              "version_minor": 0,
              "model_id": "27e630d76f224ac3ae84c6035777ae56"
            }
          },
          "metadata": {}
        },
        {
          "output_type": "stream",
          "name": "stdout",
          "text": [
            "Extracting ./data/mnist/MNIST/raw/train-images-idx3-ubyte.gz to ./data/mnist/MNIST/raw\n",
            "\n",
            "Downloading http://yann.lecun.com/exdb/mnist/train-labels-idx1-ubyte.gz\n",
            "Downloading http://yann.lecun.com/exdb/mnist/train-labels-idx1-ubyte.gz to ./data/mnist/MNIST/raw/train-labels-idx1-ubyte.gz\n"
          ]
        },
        {
          "output_type": "display_data",
          "data": {
            "text/plain": [
              "  0%|          | 0/28881 [00:00<?, ?it/s]"
            ],
            "application/vnd.jupyter.widget-view+json": {
              "version_major": 2,
              "version_minor": 0,
              "model_id": "d15dcc31861141feac5cc6e299ab52aa"
            }
          },
          "metadata": {}
        },
        {
          "output_type": "stream",
          "name": "stdout",
          "text": [
            "Extracting ./data/mnist/MNIST/raw/train-labels-idx1-ubyte.gz to ./data/mnist/MNIST/raw\n",
            "\n",
            "Downloading http://yann.lecun.com/exdb/mnist/t10k-images-idx3-ubyte.gz\n",
            "Downloading http://yann.lecun.com/exdb/mnist/t10k-images-idx3-ubyte.gz to ./data/mnist/MNIST/raw/t10k-images-idx3-ubyte.gz\n"
          ]
        },
        {
          "output_type": "display_data",
          "data": {
            "text/plain": [
              "  0%|          | 0/1648877 [00:00<?, ?it/s]"
            ],
            "application/vnd.jupyter.widget-view+json": {
              "version_major": 2,
              "version_minor": 0,
              "model_id": "bf3f309da93d4f3995aa063f4006766c"
            }
          },
          "metadata": {}
        },
        {
          "output_type": "stream",
          "name": "stdout",
          "text": [
            "Extracting ./data/mnist/MNIST/raw/t10k-images-idx3-ubyte.gz to ./data/mnist/MNIST/raw\n",
            "\n",
            "Downloading http://yann.lecun.com/exdb/mnist/t10k-labels-idx1-ubyte.gz\n",
            "Downloading http://yann.lecun.com/exdb/mnist/t10k-labels-idx1-ubyte.gz to ./data/mnist/MNIST/raw/t10k-labels-idx1-ubyte.gz\n"
          ]
        },
        {
          "output_type": "display_data",
          "data": {
            "text/plain": [
              "  0%|          | 0/4542 [00:00<?, ?it/s]"
            ],
            "application/vnd.jupyter.widget-view+json": {
              "version_major": 2,
              "version_minor": 0,
              "model_id": "b330fe9aa7a44b31a1012e502e19b96f"
            }
          },
          "metadata": {}
        },
        {
          "output_type": "stream",
          "name": "stdout",
          "text": [
            "Extracting ./data/mnist/MNIST/raw/t10k-labels-idx1-ubyte.gz to ./data/mnist/MNIST/raw\n",
            "\n"
          ]
        }
      ]
    },
    {
      "cell_type": "code",
      "metadata": {
        "id": "6Sl9tT_Jnym0",
        "colab": {
          "base_uri": "https://localhost:8080/"
        },
        "outputId": "2d69a7cf-c3fc-4818-8adb-3e4438b3cebb"
      },
      "source": [
        "print(f'train set is', ' x '.join(str(x) for x in train_set.data.shape))\n",
        "print(f'valid set is', ' x '.join(str(x) for x in valid_set.data.shape))"
      ],
      "execution_count": 26,
      "outputs": [
        {
          "output_type": "stream",
          "name": "stdout",
          "text": [
            "train set is 60000 x 28 x 28\n",
            "valid set is 10000 x 28 x 28\n"
          ]
        }
      ]
    },
    {
      "cell_type": "code",
      "metadata": {
        "id": "ykAVQWwrRLU3"
      },
      "source": [
        ""
      ],
      "execution_count": null,
      "outputs": []
    },
    {
      "cell_type": "markdown",
      "metadata": {
        "id": "G3zD2yzfU3dC"
      },
      "source": [
        "## Some notes about the training data\n",
        "\n",
        "There are two subsets of the data being used here:\n",
        "\n",
        "- **Training data** Data that is used to optimize model parameters\n",
        "- **Validation data** Data that is used for model selection (choosing hyperparameters).\n",
        "\n",
        "The data that we use to monitor the training progress is the validation data, since it can be used to tune the model architecture (number of layers, etc) and other hyperparameters.\n",
        "\n",
        "Usually, we would keep another separate **test set** for testing the final model in order to get an unbiased estimate of *out of sample* accuracy. Unfortunately, MNIST doesn't have a separate test set and it is common practice on this task to use the validation set both for validation and test. **Warning**: This is considered BAD PRACTICE in most situations!\n",
        "\n",
        "\n"
      ]
    },
    {
      "cell_type": "markdown",
      "metadata": {
        "id": "9NDg-mJ23kg5"
      },
      "source": [
        "# Preview the data\n",
        "\n",
        "Let's look at a sample of the training data. Here we'll use some indexing tricks (reshaping and permuting axes) to put the first 64 digits in the dataset into a grid."
      ]
    },
    {
      "cell_type": "code",
      "metadata": {
        "id": "x0uIuozf57GB",
        "colab": {
          "base_uri": "https://localhost:8080/",
          "height": 623
        },
        "outputId": "13468eaf-0b26-4e64-c308-f5655a28e5cf"
      },
      "source": [
        "# grab the first 64 samples from the training set\n",
        "sample = train_set.data[:64]\n",
        "\n",
        "# sample shape is (64, 28, 28), but we would like a grid of 8x8 images, each of size 28x28.\n",
        "# this would mean an image with width and height of 8*28. How do we go from a (64, 28, 28)\n",
        "# image to one of size (8*28, 8*28)?\n",
        "\n",
        "# start by splitting the first dimension (64) int 8 x 8\n",
        "sample = sample.reshape(8, 8, 28, 28)\n",
        "\n",
        "# the shape is now (8, 8, 28, 28). Next, move the second dimension to the third position\n",
        "sample = sample.permute(0, 2, 1, 3)\n",
        "\n",
        "# the shape is now (8, 28, 8, 28). Finally, collapse the first-second and third-forth\n",
        "# dimensions into one.\n",
        "sample = sample.reshape(8*28, 8*28)\n",
        "\n",
        "# Voila! the shape is (8*28, 8*28). Note that we can't just reshape to this shape immediately,\n",
        "# because the dimension permute in step two above is also needed.\n",
        "\n",
        "# Show the images\n",
        "plt.figure(figsize=(10,10))\n",
        "plt.imshow(sample)\n",
        "plt.axis('off')\n",
        "plt.title('First 64 MNIST digits in the training set')\n",
        "plt.gray()\n",
        "plt.show()\n",
        "\n",
        "print('Labels:', train_set.targets[:64].numpy())"
      ],
      "execution_count": 27,
      "outputs": [
        {
          "output_type": "display_data",
          "data": {
            "text/plain": [
              "<Figure size 720x720 with 1 Axes>"
            ],
            "image/png": "[encoded data removed]"
          },
          "metadata": {
            "needs_background": "light"
          }
        },
        {
          "output_type": "stream",
          "name": "stdout",
          "text": [
            "Labels: [5 0 4 1 9 2 1 3 1 4 3 5 3 6 1 7 2 8 6 9 4 0 9 1 1 2 4 3 2 7 3 8 6 9 0 5 6\n",
            " 0 7 6 1 8 7 9 3 9 8 5 9 3 3 0 7 4 9 8 0 9 4 1 4 4 6 0]\n"
          ]
        }
      ]
    },
    {
      "cell_type": "markdown",
      "metadata": {
        "id": "IdExkrRS43Fo"
      },
      "source": [
        "# Setup the data loaders\n",
        "\n",
        "PyTorch provides a [DataLoader](https://pytorch.org/docs/stable/data.html#torch.utils.data.DataLoader) class in `torch.utils.data` that can be used to manage loading data from datasets using multiple worker threads and packaging data into datasets. It also provides data **shuffling** and **sampling** strategies.\n",
        "\n",
        "Having multiple threads to load the data improves the performance when training larger models on large datasets since the CPU threads can be busy loading and transforming data while the GPU is doing forward and backward propagation.\n",
        "\n",
        "\n",
        "**Note**: The `Dataset` and `DataLoader` classes are not mandatory in PyTorch; you can write your own data loading mechanisms. "
      ]
    },
    {
      "cell_type": "code",
      "metadata": {
        "id": "PIftYkluoDbF"
      },
      "source": [
        "train_loader = DataLoader(train_set, batch_size=256, num_workers=0, shuffle=True)\n",
        "\n",
        "# create a similar data loader for the validation set, but turn off shuffling\n",
        "# (it is unnecessary to shuffle validation data) and make the batch size 512\n",
        "valid_loader = DataLoader(valid_set, batch_size=512, num_workers=0, shuffle=False)\n"
      ],
      "execution_count": 30,
      "outputs": []
    },
    {
      "cell_type": "markdown",
      "metadata": {
        "id": "fZlNXgHG6q-g"
      },
      "source": [
        "# Instantiate the model\n",
        "\n",
        "Create an instance of the model and move it (memory and operations) to the CUDA device."
      ]
    },
    {
      "cell_type": "code",
      "metadata": {
        "id": "eU_kiKpypYu0",
        "colab": {
          "base_uri": "https://localhost:8080/"
        },
        "outputId": "235c72da-4561-42a1-dd3c-f06e07348d8c"
      },
      "source": [
        "model = SimpleCNN()\n",
        "model.to(device)"
      ],
      "execution_count": 31,
      "outputs": [
        {
          "output_type": "execute_result",
          "data": {
            "text/plain": [
              "SimpleCNN(\n",
              "  (conv1): Conv2d(1, 32, kernel_size=(3, 3), stride=(1, 1), padding=(1, 1))\n",
              "  (conv2): Conv2d(32, 32, kernel_size=(3, 3), stride=(1, 1), padding=(1, 1))\n",
              "  (pool1): MaxPool2d(kernel_size=3, stride=2, padding=0, dilation=1, ceil_mode=False)\n",
              "  (drop1): Dropout(p=0.25, inplace=False)\n",
              "  (fc1): Linear(in_features=5408, out_features=128, bias=False)\n",
              "  (drop2): Dropout2d(p=0.5, inplace=False)\n",
              "  (fc2): Linear(in_features=128, out_features=10, bias=False)\n",
              ")"
            ]
          },
          "metadata": {},
          "execution_count": 31
        }
      ]
    },
    {
      "cell_type": "markdown",
      "metadata": {
        "id": "d7j7Ug2cwUQM"
      },
      "source": [
        "Let's count the total number of parameters in our model."
      ]
    },
    {
      "cell_type": "code",
      "metadata": {
        "id": "wn-3_0WvRRdR",
        "colab": {
          "base_uri": "https://localhost:8080/"
        },
        "outputId": "10a9f4ee-05f7-4fe4-a398-d6b8bb64a74c"
      },
      "source": [
        "def count_parameters(model):\n",
        "    total = 0\n",
        "    for p in model.parameters():\n",
        "        \n",
        "        # compute the total parameters in the layer\n",
        "        # which is equal to the product of the dimensions\n",
        "        # in p.shape (np.prod may be helpful)\n",
        "        layer_count = np.prod(p.shape)\n",
        "        total += layer_count\n",
        "        \n",
        "    return total\n",
        "\n",
        "\n",
        "print(f'The model has {count_parameters(model)} parameters')"
      ],
      "execution_count": 32,
      "outputs": [
        {
          "output_type": "stream",
          "name": "stdout",
          "text": [
            "The model has 703072 parameters\n"
          ]
        }
      ]
    },
    {
      "cell_type": "markdown",
      "metadata": {
        "id": "vPrYMlDSEljV"
      },
      "source": [
        "# Train the model\n",
        "\n",
        "We're almost ready to train the model!\n",
        "\n",
        "Each pass through the training loop is called an *epoch* (an epoch is when every training example has been seen once). \n",
        "\n",
        "It's a good idea to save a snapshot (or *checkpoint*) of the model and the optimizer after every epoch. Let's setup some helpers to do this"
      ]
    },
    {
      "cell_type": "code",
      "metadata": {
        "id": "QYk-zSLJRqx9"
      },
      "source": [
        "# we will save checkpoints to the checkpoints folder. Create it.\n",
        "!mkdir -p checkpoints"
      ],
      "execution_count": 33,
      "outputs": []
    },
    {
      "cell_type": "code",
      "metadata": {
        "id": "Vpx7HCnXRKoM"
      },
      "source": [
        "def save_checkpoint(optimizer, model, epoch, filename):\n",
        "    checkpoint_dict = {\n",
        "        'optimizer': optimizer.state_dict(),\n",
        "        'model': model.state_dict(),\n",
        "        'epoch': epoch\n",
        "    }\n",
        "    torch.save(checkpoint_dict, filename)\n",
        "\n",
        "\n",
        "def load_checkpoint(optimizer, model, filename):\n",
        "    checkpoint_dict = torch.load(filename)\n",
        "    epoch = checkpoint_dict['epoch']\n",
        "    model.load_state_dict(checkpoint_dict['model'])\n",
        "    if optimizer is not None:\n",
        "        optimizer.load_state_dict(checkpoint_dict['optimizer'])\n",
        "    return epoch"
      ],
      "execution_count": 34,
      "outputs": []
    },
    {
      "cell_type": "markdown",
      "metadata": {
        "id": "CYLgPSzbS5KD"
      },
      "source": [
        "Let's code up the training loop as a function. There are two parts to the loop:\n",
        "- **Train phase**: where batches of data are loaded from the training set and the model parameters are optimized using backpropagation to compute gradients.\n",
        "- **Validation phase**: where batches of data are loaded from the validation set and out of sample error is estimated using this data."
      ]
    },
    {
      "cell_type": "code",
      "metadata": {
        "id": "9QAuxIQvoSDV"
      },
      "source": [
        "# create the criterion to optimize (the loss function). This is a multi-class classification \n",
        "# problem, so categorical cross entropy is an appropriate loss.\n",
        "# it also applies the softmax activation function\n",
        "# criterion = ??\n",
        "criterion = nn.CrossEntropyLoss()\n",
        "\n",
        "# create an SGD optimizer with learning rate 0.01, momentum 0.9, and nesterov momentum turned on\n",
        "optimizer = optim.SGD(model.parameters(), lr=0.01, momentum=0.9)\n",
        "\n",
        "def train_for_epoch():\n",
        "\n",
        "    # put model in train mode\n",
        "    model.train()\n",
        "\n",
        "    # keep track of the training losses during the epoch\n",
        "    train_losses = []\n",
        "\n",
        "    for batch, targets in train_loader:\n",
        "        # Move the training data to the GPU\n",
        "        batch = batch.to(device)\n",
        "        targets = targets.to(device)\n",
        "        \n",
        "        # clear previous gradient computation\n",
        "        optimizer.zero_grad()\n",
        "\n",
        "        # forward propagation\n",
        "        predictions, interm_feats = model(batch)\n",
        "        \n",
        "        # calculate the lossfor the batch\n",
        "        loss = criterion(predictions, interm_feats)\n",
        "        \n",
        "        # backpropagate to compute gradients\n",
        "        loss.backward()\n",
        "\n",
        "        # update model weights\n",
        "        optimizer.step()\n",
        "\n",
        "        # update the array of batch losses\n",
        "        train_losses.append(loss.item())\n",
        "\n",
        "    # calculate average training loss of the epch\n",
        "    train_loss = loss / len(train_loader)\n",
        "        \n",
        "    return train_loss\n",
        "\n",
        "\n",
        "def validate():\n",
        "\n",
        "    # put model in evaluation mode\n",
        "    model.eval()\n",
        "\n",
        "    # keep track of losses and predictions\n",
        "    valid_losses = []\n",
        "    y_pred = []\n",
        "\n",
        "    # We don't need gradients for validation, so wrap in \n",
        "    # no_grad to save memory\n",
        "    with torch.no_grad():\n",
        "\n",
        "        for batch, targets in valid_loader:\n",
        "\n",
        "            # Move the validation batch to the GPU\n",
        "            batch = batch.to(device)\n",
        "            targets = targets.to(device)\n",
        "\n",
        "            # forward propagation\n",
        "            # predictions, interm_feats = ??? \n",
        "            predictions, interm_feats = model(batch)\n",
        "\n",
        "            # calculate the loss\n",
        "            loss = criterion(predictions, interm_feats)\n",
        "\n",
        "            # update running loss value\n",
        "            valid_losses.append(loss.item())\n",
        "\n",
        "            # save predictions\n",
        "            y_pred.extend(predictions.argmax(dim=1).cpu().numpy())\n",
        "\n",
        "    # compute the average validation loss\n",
        "    valid_loss = loss / len(valid_loader)\n",
        "\n",
        "    # Collect predictions into y_pred and ground truth into y_true\n",
        "    y_pred = np.array(y_pred, dtype=np.float32)\n",
        "    y_true = np.array(valid_set.targets, dtype=np.float32)\n",
        "\n",
        "    # Calculate accuracy as the average number of times y_true == y_pred\n",
        "    accuracy = np.mean(y_true == y_pred)\n",
        "\n",
        "    return valid_loss, accuracy\n",
        "\n",
        "\n",
        "def train(first_epoch, num_epochs):\n",
        "    \n",
        "    train_losses, valid_losses = [],  []\n",
        "\n",
        "    for epoch in range(first_epoch, first_epoch + num_epochs):\n",
        "\n",
        "        # training phase\n",
        "        train_loss = train_for_epoch()\n",
        "\n",
        "        # validation phase\n",
        "        valid_loss, valid_acc = validate()        \n",
        "\n",
        "        print(f'[{epoch:03d}] train loss: {train_loss:04f}  '\n",
        "              f'val loss: {valid_loss:04f}  '\n",
        "              f'val acc: {valid_acc*100:.4f}%')\n",
        "        \n",
        "        train_losses.append(train_loss)\n",
        "        valid_losses.append(valid_loss)\n",
        "\n",
        "        # Save a checkpoint\n",
        "        checkpoint_filename = f'checkpoints/mnist-{epoch:03d}.pkl'\n",
        "        save_checkpoint(optimizer, model, epoch, checkpoint_filename)\n",
        "    \n",
        "    return train_losses, valid_losses"
      ],
      "execution_count": 40,
      "outputs": []
    },
    {
      "cell_type": "markdown",
      "metadata": {
        "id": "vVRUaMzEwLH3"
      },
      "source": [
        "Train the model for 10 epochs using the functions we have defined\n",
        "\n"
      ]
    },
    {
      "cell_type": "code",
      "metadata": {
        "id": "VDdFK6RDSZ1X",
        "colab": {
          "base_uri": "https://localhost:8080/",
          "height": 990
        },
        "outputId": "da89fc0f-cd9e-49c1-d706-522488702214"
      },
      "source": [
        "train_losses, valid_losses = train(1, 10)"
      ],
      "execution_count": 41,
      "outputs": [
        {
          "output_type": "error",
          "ename": "RuntimeError",
          "evalue": "ignored",
          "traceback": [
            "\u001b[0;31m---------------------------------------------------------------------------\u001b[0m",
            "\u001b[0;31mRuntimeError\u001b[0m                              Traceback (most recent call last)",
            "\u001b[0;32m<ipython-input-41-349939d981a3>\u001b[0m in \u001b[0;36m<module>\u001b[0;34m()\u001b[0m\n\u001b[0;32m----> 1\u001b[0;31m \u001b[0mtrain_losses\u001b[0m\u001b[0;34m,\u001b[0m \u001b[0mvalid_losses\u001b[0m \u001b[0;34m=\u001b[0m \u001b[0mtrain\u001b[0m\u001b[0;34m(\u001b[0m\u001b[0;36m1\u001b[0m\u001b[0;34m,\u001b[0m \u001b[0;36m10\u001b[0m\u001b[0;34m)\u001b[0m\u001b[0;34m\u001b[0m\u001b[0;34m\u001b[0m\u001b[0m\n\u001b[0m",
            "\u001b[0;32m<ipython-input-40-2b2be6e21d66>\u001b[0m in \u001b[0;36mtrain\u001b[0;34m(first_epoch, num_epochs)\u001b[0m\n\u001b[1;32m     97\u001b[0m \u001b[0;34m\u001b[0m\u001b[0m\n\u001b[1;32m     98\u001b[0m         \u001b[0;31m# training phase\u001b[0m\u001b[0;34m\u001b[0m\u001b[0;34m\u001b[0m\u001b[0;34m\u001b[0m\u001b[0m\n\u001b[0;32m---> 99\u001b[0;31m         \u001b[0mtrain_loss\u001b[0m \u001b[0;34m=\u001b[0m \u001b[0mtrain_for_epoch\u001b[0m\u001b[0;34m(\u001b[0m\u001b[0;34m)\u001b[0m\u001b[0;34m\u001b[0m\u001b[0;34m\u001b[0m\u001b[0m\n\u001b[0m\u001b[1;32m    100\u001b[0m \u001b[0;34m\u001b[0m\u001b[0m\n\u001b[1;32m    101\u001b[0m         \u001b[0;31m# validation phase\u001b[0m\u001b[0;34m\u001b[0m\u001b[0;34m\u001b[0m\u001b[0;34m\u001b[0m\u001b[0m\n",
            "\u001b[0;32m<ipython-input-40-2b2be6e21d66>\u001b[0m in \u001b[0;36mtrain_for_epoch\u001b[0;34m()\u001b[0m\n\u001b[1;32m     25\u001b[0m \u001b[0;34m\u001b[0m\u001b[0m\n\u001b[1;32m     26\u001b[0m         \u001b[0;31m# forward propagation\u001b[0m\u001b[0;34m\u001b[0m\u001b[0;34m\u001b[0m\u001b[0;34m\u001b[0m\u001b[0m\n\u001b[0;32m---> 27\u001b[0;31m         \u001b[0mpredictions\u001b[0m\u001b[0;34m,\u001b[0m \u001b[0minterm_feats\u001b[0m \u001b[0;34m=\u001b[0m \u001b[0mmodel\u001b[0m\u001b[0;34m(\u001b[0m\u001b[0mbatch\u001b[0m\u001b[0;34m)\u001b[0m\u001b[0;34m\u001b[0m\u001b[0;34m\u001b[0m\u001b[0m\n\u001b[0m\u001b[1;32m     28\u001b[0m \u001b[0;34m\u001b[0m\u001b[0m\n\u001b[1;32m     29\u001b[0m         \u001b[0;31m# calculate the lossfor the batch\u001b[0m\u001b[0;34m\u001b[0m\u001b[0;34m\u001b[0m\u001b[0;34m\u001b[0m\u001b[0m\n",
            "\u001b[0;32m/usr/local/lib/python3.7/dist-packages/torch/nn/modules/module.py\u001b[0m in \u001b[0;36m_call_impl\u001b[0;34m(self, *input, **kwargs)\u001b[0m\n\u001b[1;32m   1100\u001b[0m         if not (self._backward_hooks or self._forward_hooks or self._forward_pre_hooks or _global_backward_hooks\n\u001b[1;32m   1101\u001b[0m                 or _global_forward_hooks or _global_forward_pre_hooks):\n\u001b[0;32m-> 1102\u001b[0;31m             \u001b[0;32mreturn\u001b[0m \u001b[0mforward_call\u001b[0m\u001b[0;34m(\u001b[0m\u001b[0;34m*\u001b[0m\u001b[0minput\u001b[0m\u001b[0;34m,\u001b[0m \u001b[0;34m**\u001b[0m\u001b[0mkwargs\u001b[0m\u001b[0;34m)\u001b[0m\u001b[0;34m\u001b[0m\u001b[0;34m\u001b[0m\u001b[0m\n\u001b[0m\u001b[1;32m   1103\u001b[0m         \u001b[0;31m# Do not call functions when jit is used\u001b[0m\u001b[0;34m\u001b[0m\u001b[0;34m\u001b[0m\u001b[0;34m\u001b[0m\u001b[0m\n\u001b[1;32m   1104\u001b[0m         \u001b[0mfull_backward_hooks\u001b[0m\u001b[0;34m,\u001b[0m \u001b[0mnon_full_backward_hooks\u001b[0m \u001b[0;34m=\u001b[0m \u001b[0;34m[\u001b[0m\u001b[0;34m]\u001b[0m\u001b[0;34m,\u001b[0m \u001b[0;34m[\u001b[0m\u001b[0;34m]\u001b[0m\u001b[0;34m\u001b[0m\u001b[0;34m\u001b[0m\u001b[0m\n",
            "\u001b[0;32m<ipython-input-23-6217dd70fc74>\u001b[0m in \u001b[0;36mforward\u001b[0;34m(self, X)\u001b[0m\n\u001b[1;32m     44\u001b[0m \u001b[0;34m\u001b[0m\u001b[0m\n\u001b[1;32m     45\u001b[0m         \u001b[0;31m# apply the first fully connected layer and a relu\u001b[0m\u001b[0;34m\u001b[0m\u001b[0;34m\u001b[0m\u001b[0;34m\u001b[0m\u001b[0m\n\u001b[0;32m---> 46\u001b[0;31m         \u001b[0mX\u001b[0m \u001b[0;34m=\u001b[0m \u001b[0mself\u001b[0m\u001b[0;34m.\u001b[0m\u001b[0mfc1\u001b[0m\u001b[0;34m(\u001b[0m\u001b[0mX\u001b[0m\u001b[0;34m)\u001b[0m\u001b[0;34m\u001b[0m\u001b[0;34m\u001b[0m\u001b[0m\n\u001b[0m\u001b[1;32m     47\u001b[0m         \u001b[0mX\u001b[0m \u001b[0;34m=\u001b[0m \u001b[0mF\u001b[0m\u001b[0;34m.\u001b[0m\u001b[0mrelu\u001b[0m\u001b[0;34m(\u001b[0m\u001b[0mX\u001b[0m\u001b[0;34m)\u001b[0m\u001b[0;34m\u001b[0m\u001b[0;34m\u001b[0m\u001b[0m\n\u001b[1;32m     48\u001b[0m \u001b[0;34m\u001b[0m\u001b[0m\n",
            "\u001b[0;32m/usr/local/lib/python3.7/dist-packages/torch/nn/modules/module.py\u001b[0m in \u001b[0;36m_call_impl\u001b[0;34m(self, *input, **kwargs)\u001b[0m\n\u001b[1;32m   1100\u001b[0m         if not (self._backward_hooks or self._forward_hooks or self._forward_pre_hooks or _global_backward_hooks\n\u001b[1;32m   1101\u001b[0m                 or _global_forward_hooks or _global_forward_pre_hooks):\n\u001b[0;32m-> 1102\u001b[0;31m             \u001b[0;32mreturn\u001b[0m \u001b[0mforward_call\u001b[0m\u001b[0;34m(\u001b[0m\u001b[0;34m*\u001b[0m\u001b[0minput\u001b[0m\u001b[0;34m,\u001b[0m \u001b[0;34m**\u001b[0m\u001b[0mkwargs\u001b[0m\u001b[0;34m)\u001b[0m\u001b[0;34m\u001b[0m\u001b[0;34m\u001b[0m\u001b[0m\n\u001b[0m\u001b[1;32m   1103\u001b[0m         \u001b[0;31m# Do not call functions when jit is used\u001b[0m\u001b[0;34m\u001b[0m\u001b[0;34m\u001b[0m\u001b[0;34m\u001b[0m\u001b[0m\n\u001b[1;32m   1104\u001b[0m         \u001b[0mfull_backward_hooks\u001b[0m\u001b[0;34m,\u001b[0m \u001b[0mnon_full_backward_hooks\u001b[0m \u001b[0;34m=\u001b[0m \u001b[0;34m[\u001b[0m\u001b[0;34m]\u001b[0m\u001b[0;34m,\u001b[0m \u001b[0;34m[\u001b[0m\u001b[0;34m]\u001b[0m\u001b[0;34m\u001b[0m\u001b[0;34m\u001b[0m\u001b[0m\n",
            "\u001b[0;32m/usr/local/lib/python3.7/dist-packages/torch/nn/modules/linear.py\u001b[0m in \u001b[0;36mforward\u001b[0;34m(self, input)\u001b[0m\n\u001b[1;32m    101\u001b[0m \u001b[0;34m\u001b[0m\u001b[0m\n\u001b[1;32m    102\u001b[0m     \u001b[0;32mdef\u001b[0m \u001b[0mforward\u001b[0m\u001b[0;34m(\u001b[0m\u001b[0mself\u001b[0m\u001b[0;34m,\u001b[0m \u001b[0minput\u001b[0m\u001b[0;34m:\u001b[0m \u001b[0mTensor\u001b[0m\u001b[0;34m)\u001b[0m \u001b[0;34m->\u001b[0m \u001b[0mTensor\u001b[0m\u001b[0;34m:\u001b[0m\u001b[0;34m\u001b[0m\u001b[0;34m\u001b[0m\u001b[0m\n\u001b[0;32m--> 103\u001b[0;31m         \u001b[0;32mreturn\u001b[0m \u001b[0mF\u001b[0m\u001b[0;34m.\u001b[0m\u001b[0mlinear\u001b[0m\u001b[0;34m(\u001b[0m\u001b[0minput\u001b[0m\u001b[0;34m,\u001b[0m \u001b[0mself\u001b[0m\u001b[0;34m.\u001b[0m\u001b[0mweight\u001b[0m\u001b[0;34m,\u001b[0m \u001b[0mself\u001b[0m\u001b[0;34m.\u001b[0m\u001b[0mbias\u001b[0m\u001b[0;34m)\u001b[0m\u001b[0;34m\u001b[0m\u001b[0;34m\u001b[0m\u001b[0m\n\u001b[0m\u001b[1;32m    104\u001b[0m \u001b[0;34m\u001b[0m\u001b[0m\n\u001b[1;32m    105\u001b[0m     \u001b[0;32mdef\u001b[0m \u001b[0mextra_repr\u001b[0m\u001b[0;34m(\u001b[0m\u001b[0mself\u001b[0m\u001b[0;34m)\u001b[0m \u001b[0;34m->\u001b[0m \u001b[0mstr\u001b[0m\u001b[0;34m:\u001b[0m\u001b[0;34m\u001b[0m\u001b[0;34m\u001b[0m\u001b[0m\n",
            "\u001b[0;32m/usr/local/lib/python3.7/dist-packages/torch/nn/functional.py\u001b[0m in \u001b[0;36mlinear\u001b[0;34m(input, weight, bias)\u001b[0m\n\u001b[1;32m   1846\u001b[0m     \u001b[0;32mif\u001b[0m \u001b[0mhas_torch_function_variadic\u001b[0m\u001b[0;34m(\u001b[0m\u001b[0minput\u001b[0m\u001b[0;34m,\u001b[0m \u001b[0mweight\u001b[0m\u001b[0;34m,\u001b[0m \u001b[0mbias\u001b[0m\u001b[0;34m)\u001b[0m\u001b[0;34m:\u001b[0m\u001b[0;34m\u001b[0m\u001b[0;34m\u001b[0m\u001b[0m\n\u001b[1;32m   1847\u001b[0m         \u001b[0;32mreturn\u001b[0m \u001b[0mhandle_torch_function\u001b[0m\u001b[0;34m(\u001b[0m\u001b[0mlinear\u001b[0m\u001b[0;34m,\u001b[0m \u001b[0;34m(\u001b[0m\u001b[0minput\u001b[0m\u001b[0;34m,\u001b[0m \u001b[0mweight\u001b[0m\u001b[0;34m,\u001b[0m \u001b[0mbias\u001b[0m\u001b[0;34m)\u001b[0m\u001b[0;34m,\u001b[0m \u001b[0minput\u001b[0m\u001b[0;34m,\u001b[0m \u001b[0mweight\u001b[0m\u001b[0;34m,\u001b[0m \u001b[0mbias\u001b[0m\u001b[0;34m=\u001b[0m\u001b[0mbias\u001b[0m\u001b[0;34m)\u001b[0m\u001b[0;34m\u001b[0m\u001b[0;34m\u001b[0m\u001b[0m\n\u001b[0;32m-> 1848\u001b[0;31m     \u001b[0;32mreturn\u001b[0m \u001b[0mtorch\u001b[0m\u001b[0;34m.\u001b[0m\u001b[0m_C\u001b[0m\u001b[0;34m.\u001b[0m\u001b[0m_nn\u001b[0m\u001b[0;34m.\u001b[0m\u001b[0mlinear\u001b[0m\u001b[0;34m(\u001b[0m\u001b[0minput\u001b[0m\u001b[0;34m,\u001b[0m \u001b[0mweight\u001b[0m\u001b[0;34m,\u001b[0m \u001b[0mbias\u001b[0m\u001b[0;34m)\u001b[0m\u001b[0;34m\u001b[0m\u001b[0;34m\u001b[0m\u001b[0m\n\u001b[0m\u001b[1;32m   1849\u001b[0m \u001b[0;34m\u001b[0m\u001b[0m\n\u001b[1;32m   1850\u001b[0m \u001b[0;34m\u001b[0m\u001b[0m\n",
            "\u001b[0;31mRuntimeError\u001b[0m: mat1 and mat2 shapes cannot be multiplied (1x1384448 and 5408x128)"
          ]
        }
      ]
    },
    {
      "cell_type": "markdown",
      "metadata": {
        "id": "Urau1xFIKtFY"
      },
      "source": [
        "# Plot the learning curves\n",
        "\n",
        "Here we plot the learning curves after training. Note that you can also use [Tensorboard](https://www.tensorflow.org/guide/summaries_and_tensorboard) with PyTorch in Google Colab \n"
      ]
    },
    {
      "cell_type": "code",
      "metadata": {
        "id": "dzwmuvqrzXpE"
      },
      "source": [
        "epochs = range(1, len(train_losses) + 1)\n",
        "\n",
        "plt.figure(figsize=(10,6))\n",
        "# use matplotlib to plot the training and validation losses in a single graph,\n",
        "# and label them accordingly\n",
        "???\n",
        "\n",
        "plt.legend()\n",
        "plt.title('Learning curves')\n",
        "plt.xlabel('Epoch')\n",
        "plt.ylabel('Loss')\n",
        "plt.xticks(epochs)\n",
        "plt.show()"
      ],
      "execution_count": null,
      "outputs": []
    },
    {
      "cell_type": "markdown",
      "metadata": {
        "id": "u1rSJSroPYaL"
      },
      "source": [
        "# Error analysis\n",
        "\n",
        "Here we will take a look at the validation samples that the model got wrong. This is often a good idea when trying to improve a models, since it gives you some intuition about the kinds of examples the model finds difficult, which can lead to insights on how to improve models."
      ]
    },
    {
      "cell_type": "markdown",
      "metadata": {
        "id": "B-gBJCx29mjn"
      },
      "source": [
        "We'll examine our model by: plotting a confusion matrix, seeing which incorrect examples our model was most confident about, view our model's learned representations in two dimensions with t-SNE, and take a look at the weights of our model.\n",
        "\n",
        "First, we'll define a function to fet the model's predictions across a dataset training/valid/test that alos provides other outputs"
      ]
    },
    {
      "cell_type": "markdown",
      "metadata": {
        "id": "zg0yyhz-t77M"
      },
      "source": [
        "## Predictions of the model in the validation set\n",
        "\n",
        "We start by defining a predict function which takes a data loader and produces predictions for all samples.\n",
        "\n",
        "In addition to the predictions, this function also provides other useful outputs\n",
        "\n",
        "The predictions here are a categorical distribution over the 10 different digits, which means that each prediction has dimension 10. We can recover the label for which the model is most confident by taking an $\\arg\\max$ over the predicted distribution."
      ]
    },
    {
      "cell_type": "code",
      "metadata": {
        "id": "w6PJMaehrEC3"
      },
      "source": [
        "def get_predictions(model, iterator, device):\n",
        "\n",
        "    model.eval()\n",
        "\n",
        "    # save the predictions, images and labels in this list\n",
        "    y_preds = []\n",
        "    images = []\n",
        "    labels = []\n",
        "    \n",
        "    with torch.no_grad():\n",
        "\n",
        "        for batch, targets in iterator:\n",
        "            batch = batch.to(device)\n",
        "            # predict probabilities of each class\n",
        "            predictions, _ = model(batch)\n",
        "            # apply a softmax to the predictions\n",
        "            predictions = ???\n",
        "            \n",
        "            # top_pred = y_preds.argmax(1, keepdim = True)\n",
        "\n",
        "            # save\n",
        "            images.append(batch.cpu())\n",
        "            labels.append(targets.cpu())\n",
        "            y_preds.append(predictions.cpu())\n",
        "\n",
        "    # stack\n",
        "    images = torch.cat(images, dim = 0)\n",
        "    labels = torch.cat(labels, dim = 0)\n",
        "    y_preds = torch.cat(y_preds, dim = 0)\n",
        "\n",
        "    return images, labels, y_preds"
      ],
      "execution_count": null,
      "outputs": []
    },
    {
      "cell_type": "code",
      "metadata": {
        "id": "8nzP0-he-4i_"
      },
      "source": [
        "# compute predictions on the validation set\n",
        "# images, labels, probs =\n",
        "images, labels, probs = get_predictions(model, valid_loader, device)\n",
        "\n",
        "# ...and then get the predicted labels from the model's predictions. Use torch.argmax\n",
        "pred_labels = ???\n"
      ],
      "execution_count": null,
      "outputs": []
    },
    {
      "cell_type": "code",
      "metadata": {
        "id": "87r7l8ewG6v-"
      },
      "source": [
        "# convert to numpy\n",
        "y_true = np.array(labels)\n",
        "y_pred = np.array(pred_labels)\n",
        "\n",
        "# calculate the number of errors\n",
        "num_errors = ???\n",
        "\n",
        "print(f'Validation errors {num_errors} (out of {len(valid_set)})')"
      ],
      "execution_count": null,
      "outputs": []
    },
    {
      "cell_type": "markdown",
      "metadata": {
        "id": "uSoN7mTdq_WA"
      },
      "source": [
        "## Confusion matrix\n",
        " \n",
        "We'll examine our model by plotting a confusion matrix, which helps us understand which classes the model is more frequently mixing"
      ]
    },
    {
      "cell_type": "code",
      "metadata": {
        "id": "sjczzk9OmT5s"
      },
      "source": [
        "def plot_confusion_matrix(labels, pred_labels):\n",
        "    \n",
        "    fig = plt.figure(figsize = (10, 10));\n",
        "    ax = fig.add_subplot(1, 1, 1);\n",
        "    # use the confusion_matrix and ConfusionMatrixDisplay functions\n",
        "    # from sklearn.metrics to display the confusion matrix\n",
        "    cm = ???\n",
        "    \n",
        "    cm.plot(values_format = 'd', cmap = 'Blues', ax = ax)"
      ],
      "execution_count": null,
      "outputs": []
    },
    {
      "cell_type": "code",
      "metadata": {
        "id": "FKM5MvaV_jSa"
      },
      "source": [
        "plot_confusion_matrix(labels, pred_labels)"
      ],
      "execution_count": null,
      "outputs": []
    },
    {
      "cell_type": "markdown",
      "metadata": {
        "id": "j9Pj6JjvkjAw"
      },
      "source": [
        "## Analysis of samples predicted wrongly\n",
        "Here we will find the samples that the model is predicting wrongly and we will. Especifically, we will look at those samples that the model is predicting wrongly with a high score for the wrong class"
      ]
    },
    {
      "cell_type": "markdown",
      "metadata": {
        "id": "IeI3saG_lYvP"
      },
      "source": [
        "Find out if each sample is correctly or wrongly predicted"
      ]
    },
    {
      "cell_type": "code",
      "metadata": {
        "id": "YiocAm39_Trm"
      },
      "source": [
        "# you can use torch.eq\n",
        "corrects = ??? "
      ],
      "execution_count": null,
      "outputs": []
    },
    {
      "cell_type": "markdown",
      "metadata": {
        "id": "CX7G_bNZEhyf"
      },
      "source": [
        "Then, get all of the incorrect examples and sort them by descending confidence in their prediction."
      ]
    },
    {
      "cell_type": "code",
      "metadata": {
        "id": "6jGk1rLc_faC"
      },
      "source": [
        "incorrect_examples = []\n",
        "\n",
        "for image, label, prob, correct in zip(images, labels, probs, corrects):\n",
        "    if not correct:\n",
        "        incorrect_examples.append((image, label, prob))\n",
        "\n",
        "incorrect_examples.sort(reverse = True, key = lambda x: torch.max(x[2], dim = 0).values)"
      ],
      "execution_count": null,
      "outputs": []
    },
    {
      "cell_type": "markdown",
      "metadata": {
        "id": "skuRvz1dEhyg"
      },
      "source": [
        "We can then use this to plot the examples the model got wrong and was most confident about."
      ]
    },
    {
      "cell_type": "code",
      "metadata": {
        "id": "F_mELVDsrd_T"
      },
      "source": [
        "def plot_most_incorrect(incorrect, n_images):\n",
        "\n",
        "    rows = int(np.sqrt(n_images))\n",
        "    cols = int(np.sqrt(n_images))\n",
        "\n",
        "    fig = plt.figure(figsize = (20, 10))\n",
        "    for i in range(rows*cols):\n",
        "        ax = fig.add_subplot(rows, cols, i+1)\n",
        "        image, true_label, probs = incorrect[i]\n",
        "        true_prob = probs[true_label]\n",
        "        incorrect_prob, incorrect_label = torch.max(probs, dim = 0)\n",
        "        ax.imshow(image.view(28, 28).cpu().numpy(), cmap = 'bone')\n",
        "        ax.set_title(f'true label: {true_label} ({true_prob:.3f})\\n' \\\n",
        "                     f'pred label: {incorrect_label} ({incorrect_prob:.3f})')\n",
        "        ax.axis('off')\n",
        "    fig.subplots_adjust(hspace=0.5)"
      ],
      "execution_count": null,
      "outputs": []
    },
    {
      "cell_type": "markdown",
      "metadata": {
        "id": "DG5ah9JPEhyj"
      },
      "source": [
        "Most of the mistakes look pretty reasonable as most of the digits shown are a bit off. Models are trained to be  incredibly confident with its predictions, so it's not unreasonable for it to be incredibly confident when they are wrong."
      ]
    },
    {
      "cell_type": "code",
      "metadata": {
        "id": "uxPqPkYCrgGD"
      },
      "source": [
        "N_IMAGES = 25\n",
        "\n",
        "plot_most_incorrect(incorrect_examples, N_IMAGES)"
      ],
      "execution_count": null,
      "outputs": []
    },
    {
      "cell_type": "markdown",
      "metadata": {
        "id": "ahtWY4LzQL43"
      },
      "source": [
        "# T-SNE representations: final and intermediate layer"
      ]
    },
    {
      "cell_type": "markdown",
      "metadata": {
        "id": "of9NCgP3Ehyl"
      },
      "source": [
        "Let's move on to plotting the model's representations in lower dimensions so we can visualize them.\n",
        "\n",
        "We will use the t-Distributed Stochastic Neighbor Embedding (t-SNE) technique to do this. It is a very useful dimensionality reduction techinque for the visualization of high-dimensional datasets (as it happens with the representations of a CNN). You can find more information about t-SNE here: (https://lvdmaaten.github.io/tsne/)\n",
        "\n",
        "First, we'll get the representations (features) from the model...\n",
        "\n"
      ]
    },
    {
      "cell_type": "code",
      "metadata": {
        "id": "plZRbvc1riVT"
      },
      "source": [
        "def get_representations(model, iterator, device):\n",
        "\n",
        "    model.eval()\n",
        "\n",
        "    outputs = []\n",
        "    intermediates = []\n",
        "    labels = []\n",
        "\n",
        "    with torch.no_grad():\n",
        "        \n",
        "        for (x, y) in iterator:\n",
        "\n",
        "            x = x.to(device)\n",
        "\n",
        "            y_pred, interm_feats = model(x)\n",
        "\n",
        "            outputs.append(y_pred.cpu())\n",
        "            intermediates.append(interm_feats.cpu())\n",
        "            labels.append(y)\n",
        "        \n",
        "    outputs = torch.cat(outputs, dim = 0)\n",
        "    intermediates = torch.cat(intermediates, dim = 0)\n",
        "    labels = torch.cat(labels, dim = 0)\n",
        "\n",
        "    return outputs, intermediates, labels\n",
        "    # return outputs, labels"
      ],
      "execution_count": null,
      "outputs": []
    },
    {
      "cell_type": "code",
      "metadata": {
        "id": "3vPRW_BIrkQT"
      },
      "source": [
        "outputs, intermediates, labels = get_representations(model, valid_loader, device)"
      ],
      "execution_count": null,
      "outputs": []
    },
    {
      "cell_type": "markdown",
      "metadata": {
        "id": "IGPy9n-0WyKs"
      },
      "source": [
        "Now, let's define the functions to get the t-SNE representations in two dimensions and plot them."
      ]
    },
    {
      "cell_type": "code",
      "metadata": {
        "id": "qkgOhleVrtbi"
      },
      "source": [
        "def get_tsne(data, n_components = 2, n_images = None):\n",
        "    if n_images is not None:\n",
        "        data = data[:n_images]\n",
        "    tsne = manifold.TSNE(n_components = n_components, random_state = 0)\n",
        "    tsne_data = tsne.fit_transform(data)\n",
        "    return tsne_data"
      ],
      "execution_count": null,
      "outputs": []
    },
    {
      "cell_type": "code",
      "metadata": {
        "id": "Fbs1ZNOsrntL"
      },
      "source": [
        "def plot_representations(data, labels, n_images = None):\n",
        "    if n_images is not None:\n",
        "        data = data[:n_images]\n",
        "        labels = labels[:n_images]\n",
        "    fig = plt.figure(figsize = (10, 10))\n",
        "    ax = fig.add_subplot(111)\n",
        "    scatter = ax.scatter(data[:, 0], data[:, 1], c = labels, cmap = 'tab10')\n",
        "    handles, labels = scatter.legend_elements()\n",
        "    legend = ax.legend(handles = handles, labels = labels)"
      ],
      "execution_count": null,
      "outputs": []
    },
    {
      "cell_type": "markdown",
      "metadata": {
        "id": "RTJkpqEGXELW"
      },
      "source": [
        "Let's plot the t-SNE representations for a set of validation images. We will first plot the t-SNE representations of the outputs of the network"
      ]
    },
    {
      "cell_type": "code",
      "metadata": {
        "id": "2OABeIBWrvdq"
      },
      "source": [
        "N_IMAGES = 5000\n",
        "\n",
        "output_tsne_data = get_tsne(outputs, n_images = N_IMAGES)\n",
        "plot_representations(output_tsne_data, labels, n_images = N_IMAGES)"
      ],
      "execution_count": null,
      "outputs": []
    },
    {
      "cell_type": "markdown",
      "metadata": {
        "id": "WvbLe9XjEhzB"
      },
      "source": [
        "Each of the colors represent the samples that belong to one class (ground truth label). The samples grouped in a cluster present features that are categorized by the network as belonging to the same class (most predictions will be correct). Cluster density and distancing reflect the capacity of the network to correctly identify samples from different classes. "
      ]
    },
    {
      "cell_type": "markdown",
      "metadata": {
        "id": "K3XUmNTV2sZB"
      },
      "source": [
        "Now let's check if intermediate representations would be enough to  obtain a correct classification of validation samples"
      ]
    },
    {
      "cell_type": "code",
      "metadata": {
        "id": "NMddFrKCryQq"
      },
      "source": [
        "intermediate_tsne_data = get_tsne(intermediates, n_images = N_IMAGES)\n",
        "plot_representations(intermediate_tsne_data, labels, n_images = N_IMAGES)"
      ],
      "execution_count": null,
      "outputs": []
    },
    {
      "cell_type": "markdown",
      "metadata": {
        "id": "L3k9cOWWS8en"
      },
      "source": [
        "# Resuming training\n",
        "\n",
        "Let's load up the final model and resume training to see how far we can push up the accuracy."
      ]
    },
    {
      "cell_type": "code",
      "metadata": {
        "id": "vqUkPWZnW9Vi"
      },
      "source": [
        "ls checkpoints"
      ],
      "execution_count": null,
      "outputs": []
    },
    {
      "cell_type": "code",
      "metadata": {
        "id": "ncKeZmnNoAeD"
      },
      "source": [
        "# Load the checkpoint corresponding to the 10th epoch\n",
        "???\n",
        "\n",
        "print('Resuming training from epoch', epoch)"
      ],
      "execution_count": null,
      "outputs": []
    },
    {
      "cell_type": "code",
      "metadata": {
        "id": "u9XfbK_wS-3v"
      },
      "source": [
        "# Resume training from the 10th epoch\n",
        "# train for 10 more epochs\n",
        "train_losses, valid_losses = ???"
      ],
      "execution_count": null,
      "outputs": []
    },
    {
      "cell_type": "markdown",
      "metadata": {
        "id": "tfRiDrmJ0UDi"
      },
      "source": [
        "Plot the learning curves. "
      ]
    },
    {
      "cell_type": "code",
      "metadata": {
        "id": "kJ33E08Goc4i"
      },
      "source": [
        "# Use the previous code\n",
        "???"
      ],
      "execution_count": null,
      "outputs": []
    }
  ]
}