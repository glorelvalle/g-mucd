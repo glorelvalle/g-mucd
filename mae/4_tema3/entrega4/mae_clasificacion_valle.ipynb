{
 "cells": [
  {
   "cell_type": "markdown",
   "id": "42a75739",
   "metadata": {},
   "source": [
    "<center style=\"font-size:30px;padding-bottom:10px;color:DarkBlue;\">Métodos Avanzados en Estadística</center>\n",
    "<center> _____________________________________________________________________________________________ </center>\n",
    "<p>&nbsp;</p>\n",
    "<center style=\"font-size:25px;padding-bottom:10px;color:CornFlowerBlue;\">Tema 4: Clasificación</center>\n",
    "<center style=\"font-size:20px;padding-bottom:10px;color:LightCoral;\">Entrega de ejercicios</center>\n",
    "<center style=\"font-size:14px;\">22 de diciembre 2021</center>\n",
    "<center style=\"font-size:12px;\">Gloria del Valle Cano</center>\n",
    "<center style=\"font-size:12px;\"><a href=\"mailto:gloria.valle@estudiante.uam.es\">gloria.valle@estudiante.uam.es</a></center>"
   ]
  },
  {
   "cell_type": "markdown",
   "id": "08dc0a3b",
   "metadata": {},
   "source": [
    "# Ejercicio 4\n",
    "**Sea $(X, Y) \\in \\mathbb{R}^2$ un vector aleatorio tal que la distribución de $Y$ condicionada a $X$ es de Bernoulli de parámetro $(1 + e^{-\\beta X})^{−1}$, donde $\\beta \\in \\mathbb{R}$, y $P(Y = 0) = P(Y = 1) = 1/2$. Supongamos que queremos predecir $Y$ a partir de $X$. Responde a las siguientes preguntas, dejando el resultado en función del parámetro $\\beta$.**\n",
    "\n",
    "**(a) Determina la regla de clasificación óptima en este modelo.**\n",
    "\n",
    "Se cumple por tanto que:\n",
    "\n",
    "+ $P(Y = 1 | X = x) = (1 + e^{-\\beta x})^{−1}$\n",
    "+ $P(Y = 0 | X = x) = 1 - (1 + e^{-\\beta x})^{−1}$\n",
    "\n",
    "A raíz de esto podemos obtener los valores para los que la probabilidad es mayor que $\\frac 1 2$.\n",
    "\n",
    "$$\n",
    "\\begin{align}\n",
    "(1 + e^{-\\beta x})^{-1} > \\frac 1 2 &\\Longleftrightarrow 2 > 1 + e^{-\\beta x} \\\\ &\\Longleftrightarrow 1 < e^{-\\beta x} \\\\ &\\Longleftrightarrow \\ln (1) < \\ln (e)\\beta x \\\\ &\\Longleftrightarrow \\beta x > 0\n",
    "\\end{align}\n",
    "$$\n",
    "\n",
    "Por tanto, la regla de clasificación óptima es la siguiente:\n",
    "\n",
    "$$\n",
    "g^{*}(x) = \\begin{cases} 1, &\\quad\\text{ si } \\beta x > 0 \\\\ 0, &\\quad\\text{ si } \\beta x ≤ 0 \\end{cases}\n",
    "$$\n"
   ]
  },
  {
   "cell_type": "markdown",
   "id": "f7d2e2da",
   "metadata": {},
   "source": [
    "**(b) Si $X$ tiene distribución uniforme en $(0, 1)$, calcula el error de la regla de clasificación del apartado anterior (error Bayes).**\n",
    "\n",
    "La probabilidad de error de clasificación viene dada por:\n",
    "\n",
    "$$\n",
    "\\mathcal{L}^* = \\mathbb{E}\\big(min\\{\\eta(X), 1 - \\eta(X)\\}\\big) = \\int \\underbrace{min\\{\\eta(X), 1 - \\eta(X)\\}}_{h(x)}f(x)dx,\n",
    "$$\n",
    "tomando como $\\eta(X) = P(Y = 1 | X = x) = (1 + e^{-\\beta x})^{−1} $, $f(x)$ la distribución uniforme y $h(x)$:\n",
    "\n",
    "$$\n",
    "h(x) = \\begin{cases} \\eta(x), &\\quad\\text{ si } \\beta < 0 \\\\ 1-\\eta(x), &\\quad\\text{ si } \\beta ≥ 0 \\end{cases}\n",
    "$$\n",
    "\n",
    "Por tanto, para $\\beta < 0$\n",
    "\n",
    "$$\n",
    "\\begin{align}\n",
    "\\mathcal{L}^* = \\int (1 + e^{-\\beta x})^{−1} f(x)dx &= \\int_0^1 (1 + e^{-\\beta x})^{−1} dx \\\\ \n",
    "&= \\int_0^1 \\frac{e^{\\beta x}}{1+e^{\\beta x}}dx \\\\\n",
    "&= \\frac 1 \\beta \\int_0^1 \\frac{\\beta e ^{\\beta x}}{1+e^{\\beta x}}dx \\\\\n",
    "&=\\frac 1 \\beta \\ln(1 + e^{\\beta x}) \\Big|_0^1 \\\\\n",
    "&= \\frac{1}{2 \\beta} \\ln \\Big(1 + e^{\\beta}\\Big)\n",
    "\\end{align}\n",
    "$$\n",
    "\n",
    "Para el caso completo\n",
    "$$\n",
    "\\mathcal{L}^* = \\begin{cases}  \\frac{1}{2\\beta} \\ln \\Big(1 + e^{\\beta}\\Big) , &\\quad\\text{ si } \\beta < 0 \\\\ 1-  \\frac{1}{2\\beta} \\ln \\Big(1 + e^{\\beta}\\Big), &\\quad\\text{ si } \\beta ≥ 0 \\end{cases}\n",
    "$$\n"
   ]
  },
  {
   "cell_type": "markdown",
   "id": "9a834706",
   "metadata": {},
   "source": [
    "**(c) Si $X$ tiene distribución uniforme en $(0, 1)$, calcula $\\lim_{n \\to \\infty}$ $EL_n$, donde $L_n$ es la probabilidad de error correspondiente al clasificador del vecino más próximo. Compara el resultado con el del apartado anterior.**\n",
    "\n",
    "Como vimos en clase, si $(X_1, Y_1)$ es el vecino más próximo de $(X,Y)$ entonces $X_1 \\approx X$ y como consecuencia $Y_1$ e $Y$ se comportan aproximadamente como vaiid $B(1,\\eta(x))$. Entonces:\n",
    "\n",
    "$$\n",
    "\\mathbb{E}(\\mathcal{L}_n) \\approx \\mathcal{L}_{1NN} := 2 \\mathbb{E}(\\eta(X)(1-\\eta(X)))\n",
    "$$\n",
    "\n",
    "Por lo que se puede probar que $\\lim_{n \\to \\infty}\\mathbb{E}(\\mathcal{L}_n) = \\mathcal{L}_{1NN}$ para cualquier distribución de datos. Como además se verifica\n",
    "\n",
    "$$\n",
    "\\mathcal{L}^* ≤ \\mathcal{L}_{1NN} ≤ 2\\mathcal{L}^*(1 - \\mathcal{L}^*)\n",
    "$$\n",
    "\n",
    "calcularemos $\\mathcal{L}_{1NN}$ y lo compararemos con el error bayes calculado en el apartado **b)**.\n",
    "\n",
    "$$\n",
    "\\begin{align}\n",
    "\\mathcal{L}_{1NN} &= 2 \\int f(x) (\\eta(x)(1-\\eta(x)))dx \\\\\n",
    "                  &= 2 \\int_0^1  (1 + e^{-\\beta x})^{−1}  (1 - (1 + e^{-\\beta x})^{−1}) dx \\\\\n",
    "                  &= 2 \\int_0^1 \\frac{1-\\frac{1}{1+e^{-\\beta x}}}{1+e^{-\\beta x}} dx \\\\\n",
    "                  &= 2 \\frac{tanh(\\frac \\beta 2)}{2\\beta} = \\frac{tanh(\\frac \\beta 2)}{\\beta}\n",
    "\\end{align}\n",
    "$$\n",
    "\n",
    "* Para $\\beta < 0$, $\\beta = -1$:\n",
    "\n",
    "$$\n",
    "-\\frac{\\ln(e^{-1}+1)}{2}≤-\\tanh\\Big(-\\frac{1}{2}\\Big) \\Longleftrightarrow -0.15... ≤ 0.46... \\text{       Sí se cumple.}\n",
    "$$\n",
    "\n",
    "* Para $\\beta ≥ 0$, $\\beta = 1$:\n",
    "$$\n",
    "1-\\frac{\\ln(e+1)}{2}≤\\tanh \\Big(\\frac 1 2\\Big) \\Longleftrightarrow 0.35 ... ≤ 0.46... \\text{       Sí se cumple.}\n",
    "$$"
   ]
  },
  {
   "cell_type": "markdown",
   "id": "ad8653ef",
   "metadata": {},
   "source": [
    "# Ejercicio 6\n",
    "**En un experimento descrito en Prentice (1976) se expuso una muestra de escarabajos a cierto pesticida. Tras cinco horas de exposición a distintos niveles de concentración del pesticida algunos de los escarabajos murieron y otros sobrevivieron. Los resultados para cada dosis aparecen en la tabla siguiente.**\n",
    "\n",
    "$$\n",
    "\\begin{aligned}[]\n",
    "\\begin{array}{ccc}\n",
    "\\hline\n",
    "\\text{Dosis} \\; (log_10CS_2mgl^{-1})  & \\text{N. insectos} & \\text{N. muertos} \\\\ \\hline\n",
    "1.6907 & 59          & 6          \\\\ \\hline\n",
    "1.7242 & 60          & 13         \\\\ \\hline\n",
    "1.7552 & 62          & 18         \\\\ \\hline\n",
    "1.7842 & 56          & 28         \\\\ \\hline\n",
    "1.8113 & 63          & 52         \\\\ \\hline\n",
    "1.8369 & 59          & 53         \\\\ \\hline\n",
    "1.8610 & 62          & 61         \\\\ \\hline\n",
    "1.8839 & 60          & 60         \\\\ \\hline\n",
    "\\end{array}\n",
    "\\end{aligned}\n",
    "$$\n",
    "\n",
    "\n",
    "**Formula un modelo de regresión logística para analizar estos datos y estima la probabilidad de que muera un escarabajo expuesto durante cinco horas a una dosis de concentración $1.8$.**\n",
    "\n",
    "Se vuelcan los resultados del dataset en un dataframe y se ajusta el modelo con la función ```glm```de R (Generalized Linear Model) con el parámetro *family* como binomial, donde $X$ es referente a la dosis, $Y = 0$ si el escarabajo sobrevive y $Y = 1$ en caso contrario."
   ]
  },
  {
   "cell_type": "code",
   "execution_count": 1,
   "id": "07272abc",
   "metadata": {},
   "outputs": [
    {
     "data": {
      "text/html": [
       "<table class=\"dataframe\">\n",
       "<caption>A data.frame: 8 × 3</caption>\n",
       "<thead>\n",
       "\t<tr><th scope=col>Dose</th><th scope=col>Insects</th><th scope=col>Deaths</th></tr>\n",
       "\t<tr><th scope=col>&lt;dbl&gt;</th><th scope=col>&lt;dbl&gt;</th><th scope=col>&lt;dbl&gt;</th></tr>\n",
       "</thead>\n",
       "<tbody>\n",
       "\t<tr><td>1.6907</td><td>59</td><td> 6</td></tr>\n",
       "\t<tr><td>1.7242</td><td>60</td><td>13</td></tr>\n",
       "\t<tr><td>1.7552</td><td>62</td><td>18</td></tr>\n",
       "\t<tr><td>1.7842</td><td>56</td><td>28</td></tr>\n",
       "\t<tr><td>1.8113</td><td>63</td><td>52</td></tr>\n",
       "\t<tr><td>1.8369</td><td>59</td><td>53</td></tr>\n",
       "\t<tr><td>1.8610</td><td>62</td><td>61</td></tr>\n",
       "\t<tr><td>1.8839</td><td>60</td><td>60</td></tr>\n",
       "</tbody>\n",
       "</table>\n"
      ],
      "text/latex": [
       "A data.frame: 8 × 3\n",
       "\\begin{tabular}{lll}\n",
       " Dose & Insects & Deaths\\\\\n",
       " <dbl> & <dbl> & <dbl>\\\\\n",
       "\\hline\n",
       "\t 1.6907 & 59 &  6\\\\\n",
       "\t 1.7242 & 60 & 13\\\\\n",
       "\t 1.7552 & 62 & 18\\\\\n",
       "\t 1.7842 & 56 & 28\\\\\n",
       "\t 1.8113 & 63 & 52\\\\\n",
       "\t 1.8369 & 59 & 53\\\\\n",
       "\t 1.8610 & 62 & 61\\\\\n",
       "\t 1.8839 & 60 & 60\\\\\n",
       "\\end{tabular}\n"
      ],
      "text/markdown": [
       "\n",
       "A data.frame: 8 × 3\n",
       "\n",
       "| Dose &lt;dbl&gt; | Insects &lt;dbl&gt; | Deaths &lt;dbl&gt; |\n",
       "|---|---|---|\n",
       "| 1.6907 | 59 |  6 |\n",
       "| 1.7242 | 60 | 13 |\n",
       "| 1.7552 | 62 | 18 |\n",
       "| 1.7842 | 56 | 28 |\n",
       "| 1.8113 | 63 | 52 |\n",
       "| 1.8369 | 59 | 53 |\n",
       "| 1.8610 | 62 | 61 |\n",
       "| 1.8839 | 60 | 60 |\n",
       "\n"
      ],
      "text/plain": [
       "  Dose   Insects Deaths\n",
       "1 1.6907 59       6    \n",
       "2 1.7242 60      13    \n",
       "3 1.7552 62      18    \n",
       "4 1.7842 56      28    \n",
       "5 1.8113 63      52    \n",
       "6 1.8369 59      53    \n",
       "7 1.8610 62      61    \n",
       "8 1.8839 60      60    "
      ]
     },
     "metadata": {},
     "output_type": "display_data"
    },
    {
     "name": "stdout",
     "output_type": "stream",
     "text": [
      "Probabilidad de que el escarabajo muera:  0.7249464"
     ]
    }
   ],
   "source": [
    "# Load data \n",
    "data <- cbind(c(1.6907, 59, 6),\n",
    "              c(1.7242, 60, 13),\n",
    "              c(1.7552, 62, 18),\n",
    "              c(1.7842, 56, 28),\n",
    "              c(1.8113, 63, 52),\n",
    "              c(1.8369, 59, 53),\n",
    "              c(1.8610, 62, 61),\n",
    "              c(1.8839, 60, 60))\n",
    "\n",
    "# Create dataframe\n",
    "df <- as.data.frame(t(data))\n",
    "colnames(df) <- c(\"Dose\", \"Insects\", \"Deaths\")\n",
    "df\n",
    "\n",
    "# Get dose values\n",
    "value <- df$Dose\n",
    "\n",
    "# Fit model (deaths vs survivors)\n",
    "model <- glm(cbind(df$Deaths, df$Insects-df$Deaths) ~ value, family=binomial)\n",
    "\n",
    "# Predict\n",
    "predicted <- predict(model, data.frame(value=1.8), type='response')\n",
    "\n",
    "# Print\n",
    "cat(\"Probabilidad de que el escarabajo muera: \", predicted)"
   ]
  },
  {
   "cell_type": "code",
   "execution_count": 2,
   "id": "94181f92",
   "metadata": {},
   "outputs": [
    {
     "data": {
      "text/plain": [
       "\n",
       "Call:\n",
       "glm(formula = cbind(df$Deaths, df$Insects - df$Deaths) ~ value, \n",
       "    family = binomial)\n",
       "\n",
       "Deviance Residuals: \n",
       "    Min       1Q   Median       3Q      Max  \n",
       "-1.5941  -0.3944   0.8329   1.2592   1.5940  \n",
       "\n",
       "Coefficients:\n",
       "            Estimate Std. Error z value Pr(>|z|)    \n",
       "(Intercept)  -60.717      5.181  -11.72   <2e-16 ***\n",
       "value         34.270      2.912   11.77   <2e-16 ***\n",
       "---\n",
       "Signif. codes:  0 '***' 0.001 '**' 0.01 '*' 0.05 '.' 0.1 ' ' 1\n",
       "\n",
       "(Dispersion parameter for binomial family taken to be 1)\n",
       "\n",
       "    Null deviance: 284.202  on 7  degrees of freedom\n",
       "Residual deviance:  11.232  on 6  degrees of freedom\n",
       "AIC: 41.43\n",
       "\n",
       "Number of Fisher Scoring iterations: 4\n"
      ]
     },
     "metadata": {},
     "output_type": "display_data"
    }
   ],
   "source": [
    "summary(model)"
   ]
  },
  {
   "cell_type": "code",
   "execution_count": 6,
   "id": "e3c46ab9",
   "metadata": {},
   "outputs": [
    {
     "data": {
      "image/png": "[encoded data removed]",
      "text/plain": [
       "plot without title"
      ]
     },
     "metadata": {
      "image/png": {
       "height": 420,
       "width": 420
      }
     },
     "output_type": "display_data"
    }
   ],
   "source": [
    "new_data <- data.frame(Dose = seq(min(df$Dose), max(df$Dose), len=8))\n",
    "pred_value <- predict(model, new_data, type='response')\n",
    "plot(value, df$Deaths / df$Insects, pch=16, ylab='death probability', xlab='dose')\n",
    "lines(new_data$Dose, pred_value, col='red', lwd=2)\n",
    "abline(v=1.8)"
   ]
  },
  {
   "cell_type": "code",
   "execution_count": null,
   "id": "3e238d48",
   "metadata": {},
   "outputs": [],
   "source": []
  }
 ],
 "metadata": {
  "kernelspec": {
   "display_name": "R",
   "language": "R",
   "name": "ir"
  },
  "language_info": {
   "codemirror_mode": "r",
   "file_extension": ".r",
   "mimetype": "text/x-r-source",
   "name": "R",
   "pygments_lexer": "r",
   "version": "4.1.2"
  }
 },
 "nbformat": 4,
 "nbformat_minor": 5
}
