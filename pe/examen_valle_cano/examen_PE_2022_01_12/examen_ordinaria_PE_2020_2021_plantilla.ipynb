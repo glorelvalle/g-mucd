{
 "cells": [
  {
   "cell_type": "code",
   "execution_count": 1,
   "metadata": {},
   "outputs": [],
   "source": [
    "%load_ext autoreload\n",
    "%autoreload 2\n",
    "import numpy as np\n",
    "import matplotlib.pyplot as plt\n",
    "import stochastic_plots as stoch\n",
    "import examen_ordinaria_PE_2020_2021_plantilla_corregido as pe\n",
    "import BM_simulators as bm\n",
    "\n",
    "# Author: <gloria.valle@estudiante.uam.es>"
   ]
  },
  {
   "cell_type": "markdown",
   "metadata": {},
   "source": [
    "# Ejercicio 1\n",
    "\n",
    "Consideremos una sede en red *(website)* compuesta por tres páginas cuyas etiquetas son $P_1$, $P_2$, $P_3$, respectivamente.\n",
    "Para identificar usuarios con un comportamiento atípico supondremos que el patrón de\n",
    "navegación sigue una cadena de Markov en tiempo continuo. Con el fin estimar los parámetros del modelo\n",
    "hemos recopilado datos de navegación para un grupo representativo de usuarios. Los datos han sido registrados\n",
    "el mismo día de la semana y a la misma hora, de forma que podamos asumir que los parámetros\n",
    "del modelo son constantes con el tiempo.\n",
    "\n",
    "Los resultados de las mediciones son los siguientes:\n",
    "\n",
    "* En promedio, los usuarios pasan 2 minutos en P1, 30 segundos en P2 y 1 minuto en P3.\n",
    "\n",
    "* Las transiciones entre páginas del sitio en red tienen las siguientes probabilidades.\n",
    "\n",
    "<center>\n",
    "\n",
    "| Estado inicial / final | P1  | P2  | P3  |\n",
    "|------------------------|-----|-----|-----|\n",
    "| P1                     | *   | 0.2 | 0.8 |\n",
    "| P2                     | 0.3 | *   | 0.7 |\n",
    "| P3                     | 0.6 | 0.4 | *   |\n",
    "\n",
    "</center>"
   ]
  },
  {
   "cell_type": "markdown",
   "metadata": {},
   "source": [
    "**a)** Dibuja el diagrama de transiciones de la cadena de Markov. Etiqueta las transiciones con la probabilidad\n",
    "correspondiente.\n",
    "\n",
    "<center><img src=\"img/ctmc.png\" width=\"400\"></center>"
   ]
  },
  {
   "cell_type": "markdown",
   "metadata": {},
   "source": [
    "**b)** Escribe la matriz de transiciones para el proceso de saltos subyacente (*jump process*).\n",
    "\n",
    "La matriz de transiciones para el proceso de saltos se determina de la siguiente manera.\n",
    "\n",
    "$$\n",
    "\\tilde P = (p_{ij}) =\\begin{pmatrix}\n",
    "  0 & 0.2 & 0.8\\\\\n",
    "  0.3 & 0 & 0.7\\\\\n",
    "  0.6 & 0.4 & 0\n",
    "\\end{pmatrix}.\n",
    "$$\n",
    "\n",
    "Escribimos la matriz en $\\texttt{numpy}$ y guardamos las $\\lambda$ asociadas, las cuales se extraen del tiempo promedio que pasan los usuarios en cada estado, sabiendo que están exponencialmente distribuidos."
   ]
  },
  {
   "cell_type": "code",
   "execution_count": 2,
   "metadata": {},
   "outputs": [],
   "source": [
    "# Transition matrix of the jump process\n",
    "P = np.array([[0. , 0.2, 0.8 ],\n",
    "              [0.3, 0. , 0.7 ],\n",
    "              [0.6, 0.4, 0.  ]])\n",
    "\n",
    "# Lambdas\n",
    "lambda_rate1, lambda_rate2, lambda_rate3 = 1/2, 2., 1.\n",
    "lambda_rates = [lambda_rate1, lambda_rate2, lambda_rate3]"
   ]
  },
  {
   "cell_type": "markdown",
   "metadata": {},
   "source": [
    "**c)** Deriva la distribución estacionaria para el proceso de saltos.\n",
    "\n",
    "Sabemos que la distribución estacionaria verifica que $\\tilde \\pi P=\\tilde \\pi$, siendo $\\tilde \\pi=(\\tilde \\pi_1, \\tilde \\pi_2,\\tilde \\pi_3)$.\n",
    "$$\n",
    "(\\tilde \\pi_1 \\ \\tilde \\pi_2 \\ \\tilde \\pi_3)=\\begin{pmatrix}\n",
    "  0 & 0.2 & 0.8\\\\\n",
    "  0.3 & 0 & 0.7\\\\\n",
    "  0.6 & 0.4 & 0\n",
    "\\end{pmatrix}=(\\tilde \\pi_1 \\ \\tilde \\pi_2 \\ \\tilde \\pi_3).\n",
    "$$\n",
    "\n",
    "Lo que nos deja el siguiente sistema de ecuaciones.\n",
    "\n",
    "$$\n",
    "\\begin{cases}\n",
    "  \\displaystyle\n",
    "  0.3 \\tilde \\pi_2 + 0.6 \\tilde \\pi_3 = \\tilde \\pi_1,\\\\\n",
    "  \\displaystyle 0.2 \\tilde \\pi_1 + 0.4 \\tilde \\pi_3 = \\tilde \\pi_2,\\\\\n",
    "  0.8 \\tilde \\pi_1 + 0.7 \\tilde \\pi_2 = \\tilde \\pi_3, \\\\\n",
    "  \\displaystyle \\tilde \\pi_1 + \\tilde \\pi_2 + \\tilde \\pi_3 = 1.\n",
    "\\end{cases}\n",
    "$$\n",
    "\n",
    "Resolvemos el sistema de ecuaciones con la calculadora científica, obteniendo la siguiente solución.\n",
    "\n",
    "$$\n",
    "\\tilde \\pi = \\Big(\\frac{36}{109}, \\frac{26}{109}, \\frac{47}{109}\\Big).\n",
    "$$\n"
   ]
  },
  {
   "cell_type": "markdown",
   "metadata": {},
   "source": [
    "**d)** Deriva la distribución estacionaria para la cadena de Markov en tiempo continuo.\n",
    "\n",
    "Utilizando la distribución estacionaria de la cadena de Markov en tiempo continuo, $\\pi=(\\pi_1, \\pi_2, \\pi_3)$, tenemos la siguiente relación.\n",
    "\n",
    "$$\n",
    "\\pi_j = \\frac{\\dfrac{\\tilde \\pi_j}{\\lambda_j}}{S}, \\quad j=1,2,3.\n",
    "$$\n",
    "\n",
    "\n",
    "Teniendo que $S = \\sum_{k=1}^3 \\frac{\\tilde \\pi_k}{\\lambda_k}$, obtenemos $S = \\frac{132}{109},$\n",
    "\n",
    "Operando para cada $\\pi_i$, tenemos el siguiente cálculo teórico para la distribución estacionaria:\n",
    "\n",
    "$$\n",
    "\\pi=\\left( \\frac{6}{11}, \\frac{13}{132}, \\frac{47}{132}\\right).\n",
    "$$"
   ]
  },
  {
   "cell_type": "markdown",
   "metadata": {},
   "source": [
    "**e)** Deriva el correspondiente generador infinitesimal.\n",
    "\n",
    "Para la matriz generadora infinitesimal $G = g_{i,j}$ se cumple que:\n",
    "\n",
    "$$\n",
    "g_{ij}=\\begin{cases}\n",
    "  \\lambda_ip_{ij}, & i\\neq j,\\\\\n",
    "  -\\lambda_i, & i=j.\n",
    "\\end{cases}\n",
    "$$\n",
    "\n",
    "Por tanto obtenemos:\n",
    "\n",
    "$$\n",
    "G=\\begin{pmatrix}\n",
    "  -0.5 & 0.1 & 0.4\\\\\n",
    "  0.6 & -2 & 1.4\\\\\n",
    "  0.6 & 0.4 & -1\n",
    "\\end{pmatrix}.\n",
    "$$"
   ]
  },
  {
   "cell_type": "markdown",
   "metadata": {},
   "source": [
    "**f)** A partir del generador infinitesimal deriva la distribución estacionaria del proceso y compárala con el resultado anterior.\n",
    "\n",
    "Sabemos que la distribución estacionaria verifica que $\\pi^TG=0$. Por tanto:\n",
    "\n",
    "$$\n",
    "(\\pi_1 \\ \\pi_2 \\ \\pi_3)\\begin{pmatrix}\n",
    "  -0.5 & 0.1 & 0.4\\\\\n",
    "  0.6 & -2 & 1.4\\\\\n",
    "  0.6 & 0.4 & -1\n",
    "\\end{pmatrix} = 0.\n",
    "$$\n",
    "\n",
    "Lo cual nos genera el siguiente sistema de ecuaciones:\n",
    "\n",
    "$$\n",
    "\\begin{cases}\n",
    "  \\displaystyle -0.5 \\pi_1 + 0.6 \\pi_2 + 0.6 \\pi_3=0,\\\\\n",
    "  \\displaystyle 0.1 \\pi_1 - 2 \\pi_2 + 0.4 \\pi_3=0,\\\\\n",
    "  \\displaystyle 0.4 \\pi_1 + 1.4 \\pi_2 - 1 \\pi_3=0.\n",
    "\\end{cases}\n",
    "$$\n",
    "\n",
    "Resolviendo el sistema de ecuaciones obtenemos:\n",
    "$$\n",
    "\\pi=\\left( \\frac{6}{11}, \\frac{13}{132}, \\frac{47}{132}\\right).\n",
    "$$\n",
    "\n",
    "Observamos que el resultado coincide con el apartado **d)**, debido a la normalidad."
   ]
  },
  {
   "cell_type": "markdown",
   "metadata": {},
   "source": [
    "**g)** Simula trayectorias del proceso suponiendo que en el instante $t = 0$ el sistema se encuentra en el\n",
    "estado $P(t = 0) = P_1$."
   ]
  },
  {
   "cell_type": "code",
   "execution_count": 3,
   "metadata": {},
   "outputs": [
    {
     "data": {
      "image/png": "[encoded data removed]",
      "text/plain": [
       "<Figure size 1008x1152 with 5 Axes>"
      ]
     },
     "metadata": {
      "needs_background": "light"
     },
     "output_type": "display_data"
    }
   ],
   "source": [
    "# Simulation of a few trajectories\n",
    "T, M = 5, 5\n",
    "t0, t1 = 0., 200.\n",
    "\n",
    "# Get arrival times and trajectories\n",
    "arrival_times_CTMC, trajectories_CTMC = pe.simulate_continuous_time_Markov_Chain(P, lambda_rates, 0, M, t0, t1)\n",
    "\n",
    "# Plot simulation\n",
    "pe.plot_ctmc_simulation(arrival_times_CTMC, trajectories_CTMC, M)"
   ]
  },
  {
   "cell_type": "markdown",
   "metadata": {},
   "source": [
    "**h)** Utilizando la secuencia de estados de la cadena de Markov en el régimen estacionario:\n",
    "\n",
    "   *i.*  Estima la distribución estacionaria del proceso de saltos subyacente a partir de una única trayectoria de la cadena de Markov en tiempo continuo."
   ]
  },
  {
   "cell_type": "code",
   "execution_count": 4,
   "metadata": {},
   "outputs": [],
   "source": [
    "# Save arrival times and trajectories\n",
    "times, trajectories = arrival_times_CTMC[0], trajectories_CTMC[0]"
   ]
  },
  {
   "cell_type": "code",
   "execution_count": 5,
   "metadata": {},
   "outputs": [
    {
     "name": "stdout",
     "output_type": "stream",
     "text": [
      "Stationary distribution of the jump process from a single trajectory: [0.324  0.2626 0.4134]\n"
     ]
    }
   ],
   "source": [
    "# Stationary distribution of the jump process from a single trajectory\n",
    "\n",
    "# Get number of states\n",
    "_, total = np.unique(trajectories, return_counts=True)\n",
    "\n",
    "# Get distribution\n",
    "total = total/np.sum(total)\n",
    "\n",
    "print(\"Stationary distribution of the jump process from a single trajectory: {}\".format(np.around(total, 4)))"
   ]
  },
  {
   "cell_type": "markdown",
   "metadata": {},
   "source": [
    "*ii.* Estima la distribución estacionaria de la cadena de Markov en tiempo continuo a partir de una única trayectoria del proceso."
   ]
  },
  {
   "cell_type": "code",
   "execution_count": 6,
   "metadata": {},
   "outputs": [
    {
     "name": "stdout",
     "output_type": "stream",
     "text": [
      "Stationary distribution of the CTMC from a single trajectory: [0.5148 0.1041 0.3811]\n"
     ]
    }
   ],
   "source": [
    "# Stationary distribution of the CTMC from a single trajectory ## REVISAR\n",
    "\n",
    "# Store n states\n",
    "n_states = len(lambda_rates)\n",
    "\n",
    "# Add final time to arrival times\n",
    "times = np.append(np.array(times), t1)\n",
    "\n",
    "# Compute jumps which correspond to each state\n",
    "jumps = [np.where(np.array(trajectories) == st)[0] for st in range(n_states)]\n",
    "\n",
    "# Final time\n",
    "final_time = [np.sum(times[j+1]) - np.sum(times[j]) for j in jumps]\n",
    "\n",
    "print(\"Stationary distribution of the CTMC from a single trajectory: {}\".format(np.around(final_time/np.array(t1-t0), 4)))"
   ]
  },
  {
   "cell_type": "markdown",
   "metadata": {},
   "source": [
    "*iii.* Estima la distribución de la cadena de Markov en tiempo continuo en el límite $t \\to \\infty $ a partir de los estados finales en $M = 1000$ trayectorias simuladas."
   ]
  },
  {
   "cell_type": "code",
   "execution_count": 7,
   "metadata": {},
   "outputs": [
    {
     "name": "stdout",
     "output_type": "stream",
     "text": [
      "Stationary distribution of the CTMC from the final state in a sample of M trajectories: [0.549 0.107 0.344]\n"
     ]
    }
   ],
   "source": [
    "# Stationary distribution of the CTMC from the final state in a sample of M trajectories\n",
    "\n",
    "# Number of trajectories\n",
    "M = 1000\n",
    "\n",
    "# New simulation\n",
    "arrival_times_CTMC, trajectories_CTMC = pe.simulate_continuous_time_Markov_Chain(P, lambda_rates, 0, M, t0, t1)\n",
    "\n",
    "# Get final distribution\n",
    "final_states = [tr[-1] for tr in trajectories_CTMC]\n",
    "_, total = np.unique(final_states, return_counts=True)\n",
    "total = total/np.sum(total)\n",
    "\n",
    "print(\"Stationary distribution of the CTMC from the final state in a sample of M trajectories: {}\".format(np.around(total, 4)))"
   ]
  },
  {
   "cell_type": "markdown",
   "metadata": {},
   "source": [
    "*iv*. Comenta los resultados de los apartados anteriores.\n",
    "\n",
    "Observando los resultados podemos comprobar que las simulaciones nos ofrecen una buena aproximación respecto del valor teórico calculado. Además, las dos últimas simulaciones son estimaciones de la misma distribución, porque la distribución estacionaria de la cadena de Markov debe coincidir con la distribución límite en tiempo continuo."
   ]
  },
  {
   "cell_type": "markdown",
   "metadata": {},
   "source": [
    "**i)** ¿Coinciden las distribuciones estacionarias para una cadena de Markov en tiempo discreto y para el\n",
    "proceso en tiempo continuo, ambas con el mismo diagrama de transición? En caso de que coincidan\n",
    "indica la razón. En caso de que no coincidan, define una cadena de Markov en tiempo continuo con el\n",
    "mismo diagrama de transiciones que tenga la misma distribución estacionaria que la correspondiente\n",
    "en tiempo discreto.\n",
    "\n",
    "Las distribuciones estacionarias no coinciden salvo por la siguiente relación de proporcionalidad, teniendo en cuenta la condición suficiente para que ambas sean iguales, esto es, $\\lambda_i = \\lambda_j$, para todo $i,j$.\n",
    "\n",
    "$$\n",
    "\\pi_i \\propto \\frac{\\tilde \\pi_i}{\\lambda_i}, \\;\\;\\;\\; i = 1,2,3.\n",
    "$$\n",
    "\n",
    "Siendo $\\tilde \\pi$ la distribución estacionaria en tiempo discreto y ($\\pi$) la distribución estacionaria en tiempo continuo.\n",
    "\n",
    "Asimismo, cuando los parámetros lambda cumplen esta condición, se llega a la siguiente igualdad.\n",
    "\n",
    "$$\n",
    "\\pi_i = \\frac{ \\frac{\\tilde \\pi_i}{\\lambda} } { \\sum_{i=1}^n \\frac{\\tilde \\pi_i}{\\lambda}} = \\frac{\\tilde \\pi_i}{\\sum_{i=1}^n \\tilde \\pi_i} = \\tilde \\pi_i.\n",
    "$$\n",
    "\n",
    "Siendo $n=3$ y $i=1,2,3$."
   ]
  },
  {
   "cell_type": "markdown",
   "metadata": {},
   "source": [
    "**j)** En el modelo hemos supuesto que no hay usuarios que accedan desde paginas externas o abandonen\n",
    "el sitio en red: todas las transiciones son entre páginas dentro del sitio. ¿Cómo podríamos modificar\n",
    "el modelo de forma que se tengan en cuenta los usuarios que acceden y los que abandonan el sitio\n",
    "en red durante el tiempo de observación? ¿En qué condiciones el modelo modificado alcanzaría un\n",
    "estado estacionario?\n",
    "\n",
    "Para que esta modificación se pueda realizar sería necesario adaptar un estado nuevo al modelo, por ejemplo, $P_e$, de forma que exista conexiones de éste a todas las páginas $P_1, P_2, P_3$ y a la inversa."
   ]
  },
  {
   "cell_type": "markdown",
   "metadata": {},
   "source": [
    "## Exercise 2: Simulation of a Brownian bridge process"
   ]
  },
  {
   "cell_type": "markdown",
   "metadata": {},
   "source": [
    "### Expected value of the standard Wiener process"
   ]
  },
  {
   "cell_type": "markdown",
   "metadata": {},
   "source": [
    "Consider the expression for the standard Brownian bridge\n",
    "$$ \n",
    "BB_{std}(t) = W(t) - W(1) \\, t \n",
    "$$\n",
    "\n",
    "The mean of this process is\n",
    "$$ \n",
    "\\mathbb{E}\\left[ BB_{std}(t) \\right] = \\mathbb{E}\\left[ W(t) - W(1) \\, t \\right]\n",
    "$$\n",
    "The expected value operator is linear. Therefore, \n",
    "$$ \n",
    "\\mathbb{E}\\left[ BB_{std}(t) \\right] = \\mathbb{E}\\left[ W(t) \\right] - \\mathbb{E}\\left[ W(1) \\right] t.\n",
    "$$\n",
    "Since process $W(t)$ has zero mean $\\mathbb{E}\\left[ W(t) \\right] = 0, \\ \\forall t \\ge 0$\n",
    "$$ \n",
    "\\mathbb{E}\\left[ BB_{std}(t) \\right] = 0, \\quad \\forall t \\in \\left[0, 1 \\right].\n",
    "$$"
   ]
  },
  {
   "cell_type": "markdown",
   "metadata": {},
   "source": [
    "### Covariance function for the standard Brownian bridge"
   ]
  },
  {
   "cell_type": "markdown",
   "metadata": {},
   "source": [
    "The covariance function for the standard Brownian bridge is defined as\n",
    "$$ \n",
    "\\gamma(t,s) = \n",
    " \\mathbb{E} \\left[\\left(BB_{std}(s) - \\mathbb{E}\\left[ BB_{std}(s) \\right] \\right)  \\left(BB_{std}(t) \\right] - \\mathbb{E}\\left[ BB_{std}(t) \\right] \\right). \n",
    "$$ \n",
    "Using \n",
    "$$ \n",
    "BB_{std}(t) = W(t) - W(1) \\, t, \\quad \\mathbb{E}\\left[ BB_{std}(t) \\right] = 0\n",
    ",$$ \n",
    "and \n",
    "$$\n",
    "\\gamma(s, t) = \n",
    " \\mathbb{E} \\left[ \\left(W(s) - W(1) \\, s \\right) \\left(W(t) - W(1) \\,  t \\right)\\right] =\n",
    " \\mathbb{E} \\left[ W(s) W(t) \\right]  + \\mathbb{E} \\left[W^2(1)\\right] s t - \\mathbb{E} \\left[W(1) W(t)\\right] \\, s \n",
    "- \\mathbb{E} \\left[W(s) W(1) \\right]  \\, t. \n",
    "$$ \n",
    "Finally, taking into account that\n",
    "$$ \n",
    "\\mathbb{E}\\left[ W(s) W(t) \\right] = \\min(s, t), $$ \n",
    "one gets \n",
    "$$ \n",
    "\\gamma(s, t) =  \\min(s, t) + s t - t s - s t = \\min(s, t) - s t. \n",
    "$$ \n"
   ]
  },
  {
   "cell_type": "markdown",
   "metadata": {},
   "source": [
    "### Mean function for a general Brownian bridge"
   ]
  },
  {
   "cell_type": "markdown",
   "metadata": {},
   "source": []
  },
  {
   "cell_type": "markdown",
   "metadata": {},
   "source": [
    "### Covariance function for a general Brownian bridge"
   ]
  },
  {
   "cell_type": "markdown",
   "metadata": {},
   "source": []
  },
  {
   "cell_type": "code",
   "execution_count": 8,
   "metadata": {
    "scrolled": true
   },
   "outputs": [
    {
     "data": {
      "image/png": "[encoded data removed]",
      "text/plain": [
       "<Figure size 432x288 with 1 Axes>"
      ]
     },
     "metadata": {
      "needs_background": "light"
     },
     "output_type": "display_data"
    }
   ],
   "source": [
    "## Brownian bridge simulation\n",
    "\n",
    "t0, t1 = 4., 7.\n",
    "B0, B1 = 1., 3.\n",
    "M, N = 5000, 100\n",
    "sigma = 2.\n",
    "t_ref =  5.3\n",
    "\n",
    "ts, BB = bm.simulate_Brownian_bridge(t0, B0, t1, B1, sigma, M, N)\n",
    "\n",
    "ts_ref = np.where(ts >= t_ref)[0][0]\n",
    "\n",
    "covar = [np.mean((BB[:,t] - np.mean(BB[:,t])) * (BB[:,ts_ref] - np.mean(BB[:,ts_ref]))) for t in range(len(ts))]\n",
    "\n",
    "def cov_th(t, s, sigma, t1, t0):\n",
    "    return sigma**2 * (np.minimum(t-t0, s-t0) - ((s-t0)*(t-t0))/(t1-t0))\n",
    "\n",
    "plt.plot(ts, covar, label=\"Simulation\")\n",
    "plt.plot(ts, cov_th(ts, t_ref, sigma, t1, t0), \"--\", label=\"Theorical value\")\n",
    "\n",
    "plt.legend()\n",
    "plt.show()\n"
   ]
  },
  {
   "cell_type": "markdown",
   "metadata": {},
   "source": [
    "# Exercise 3: Simulation of a stochastic volatility model"
   ]
  },
  {
   "cell_type": "markdown",
   "metadata": {},
   "source": [
    "### Derivation of $\\mathbb{E}\\left[\\sigma(t)\\right]$"
   ]
  },
  {
   "cell_type": "markdown",
   "metadata": {},
   "source": [
    "Consider the Ito SDE\n",
    "$$\n",
    "d \\sigma(t) = - \\alpha \\left( \\sigma(t) -  \\sigma_{\\infty} \\right) dt + \\xi dW(t),   \n",
    "$$\n",
    "where $\\alpha > 0$ is the reversion rate, $\\xi > 0$ is the volatility of the stochastic process $\\sigma(t)$. \n",
    "\n",
    "Define the process $X(t) = \\sigma(t) - \\sigma_{\\infty}$. Since $ \\sigma_{\\infty} $ is constant, $dX(t) = d \\sigma(t)$, and the equation becomes\n",
    "$$\n",
    "d X(t) = - \\alpha X(t) dt + \\xi dW(t).\n",
    "$$\n",
    "\n",
    "\n",
    "Let's take the expected value on both sizes of the equation \n",
    "$$\n",
    "\\mathbb{E}\\left[dX(t) \\right] = \\mathbb{E}\\left[ - \\alpha  X(t) dt + \\xi  dW(t) \\right].\n",
    "$$\n",
    "\n",
    "Using the fact that the expected value is a linear operator, we get\n",
    "$$\n",
    "d\\mathbb{E} \\left[X(t) \\right] = - \\alpha \\mathbb{E}\\left[ X(t) \\right] dt + \\xi \\mathbb{E}\\left[ dW(t) \\right].\n",
    "$$\n",
    "Since the Wiener process has zero mean, the equation becomes \n",
    "$$\n",
    "d \\mathbb{E} \\left[ X(t) \\right] = - \\alpha  \\mathbb{E} \\left[ X(t) \\right] dt.\n",
    "$$\n",
    "Using the method of separation of variables\n",
    "$$\n",
    "\\frac{1}{ \\mathbb{E} \\left[ X(t) \\right]} d \\mathbb{E} \\left[ X(t) \\right] = - \\alpha dt,\n",
    "$$\n",
    "the equation can be integrated between $(t_0, X_0)$, where $X_0 = \\sigma_0 - \\sigma_{\\infty}$, and $\\left(t,  \\mathbb{E} \\left[ X(t) \\right] \\right)$\n",
    "$$\n",
    "\\int_{X_0}^{\\mathbb{E} \\left[ X(t) \\right]} \\frac{1}{ \\mathbb{E} \\left[ X \\right]} d \\mathbb{E} \\left[ X \\right]  = - \\alpha \\int_{t_0}^t d\\tau. \n",
    "$$\n",
    "The solution is\n",
    "$$\n",
    "\\log \\frac{ \\mathbb{E}\\left[X(t) \\right] }{ X_0 } = - \\alpha \\left(t- t_0 \\right).\n",
    "$$\n",
    "After some straightforward algebraic manipulation, one obtains\n",
    "$$\n",
    "\\mathbb{E} \\left[ X(t) \\right] =  X_0  e^{- \\alpha \\left(t- t_0 \\right)}.\n",
    "$$\n",
    "Undoing the change of variable, we obtain\n",
    "$$\n",
    "\\mathbb{E} \\left[ \\sigma(t) \\right] = \\sigma_{\\infty} + \\left(\\sigma_0  - \\sigma_{\\infty} \\right)  e^{- \\alpha \\left(t- t_0 \\right)}.\n",
    "$$"
   ]
  },
  {
   "cell_type": "markdown",
   "metadata": {},
   "source": [
    "### Derivation of $\\text{Var}\\left[\\sigma(t)\\right]$"
   ]
  },
  {
   "cell_type": "markdown",
   "metadata": {},
   "source": []
  },
  {
   "cell_type": "markdown",
   "metadata": {},
   "source": [
    "### Derivation of the conditional pdf:  $\\text{pdf}\\left[\\left.  t, \\sigma(t) \\right| t_0, \\sigma_0 \\right]$"
   ]
  },
  {
   "cell_type": "markdown",
   "metadata": {},
   "source": []
  },
  {
   "cell_type": "markdown",
   "metadata": {},
   "source": [
    "### Simulation of the SDE $\n",
    "d \\sigma(t) = - \\alpha \\left( \\sigma(t) -  \\sigma_{\\infty} \\right) dt + \\xi dW(t),   \n",
    "$\n"
   ]
  },
  {
   "cell_type": "code",
   "execution_count": 9,
   "metadata": {},
   "outputs": [],
   "source": [
    "# Simulation of a sample of trajectories"
   ]
  },
  {
   "cell_type": "code",
   "execution_count": 10,
   "metadata": {},
   "outputs": [],
   "source": [
    "# Mean and stdev of the trajectories simulated           \n",
    "                              "
   ]
  },
  {
   "cell_type": "code",
   "execution_count": 11,
   "metadata": {},
   "outputs": [],
   "source": [
    "# Asymptotic stationary pdf of the process"
   ]
  },
  {
   "cell_type": "markdown",
   "metadata": {},
   "source": [
    "# Exercise 4: Pricing of a European call option"
   ]
  },
  {
   "cell_type": "markdown",
   "metadata": {},
   "source": [
    "## Pricing by quadrature"
   ]
  },
  {
   "cell_type": "code",
   "execution_count": 12,
   "metadata": {},
   "outputs": [
    {
     "name": "stdout",
     "output_type": "stream",
     "text": [
      "Price = 26.2402\n"
     ]
    }
   ],
   "source": [
    "# Parameters that characterize underlying \n",
    "S0 = 100.0\n",
    "sigma = 0.3\n",
    "\n",
    "# Parameters of the EU call option\n",
    "K = 90.0\n",
    "T = 2.0\n",
    "\n",
    "# Risk-free interest rate\n",
    "r = 0.05\n",
    "\n",
    "price_EU_call = pe.price_EU_call(S0, K, r, sigma, T)\n",
    "\n",
    "print('Price = {:.4f}'.format(price_EU_call))"
   ]
  },
  {
   "cell_type": "markdown",
   "metadata": {},
   "source": [
    "## Monte Carlo pricing of a European call option"
   ]
  },
  {
   "cell_type": "code",
   "execution_count": null,
   "metadata": {},
   "outputs": [],
   "source": []
  },
  {
   "cell_type": "code",
   "execution_count": null,
   "metadata": {},
   "outputs": [],
   "source": []
  },
  {
   "cell_type": "code",
   "execution_count": null,
   "metadata": {},
   "outputs": [],
   "source": []
  }
 ],
 "metadata": {
  "kernelspec": {
   "display_name": "Python 3",
   "language": "python",
   "name": "python3"
  },
  "language_info": {
   "codemirror_mode": {
    "name": "ipython",
    "version": 3
   },
   "file_extension": ".py",
   "mimetype": "text/x-python",
   "name": "python",
   "nbconvert_exporter": "python",
   "pygments_lexer": "ipython3",
   "version": "3.9.9"
  }
 },
 "nbformat": 4,
 "nbformat_minor": 4
}
