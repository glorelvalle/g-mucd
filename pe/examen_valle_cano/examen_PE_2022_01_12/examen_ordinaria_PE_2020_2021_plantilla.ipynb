{
 "cells": [
  {
   "cell_type": "code",
   "execution_count": 1,
   "metadata": {},
   "outputs": [],
   "source": [
    "%load_ext autoreload\n",
    "%autoreload 2\n",
    "import numpy as np\n",
    "import matplotlib.pyplot as plt\n",
    "import stochastic_plots as stoch\n",
    "import examen_ordinaria_PE_2020_2021_plantilla_corregido as pe\n",
    "import BM_simulators as bm\n",
    "# Author: <alberto.suarez@uam.es>\n"
   ]
  },
  {
   "cell_type": "markdown",
   "metadata": {},
   "source": [
    "# Exercise 1"
   ]
  },
  {
   "cell_type": "markdown",
   "metadata": {},
   "source": [
    "## Continuous-time Markov Chain"
   ]
  },
  {
   "cell_type": "markdown",
   "metadata": {},
   "source": [
    "$$\n",
    "\\tilde P = (p_{ij}) =\\begin{pmatrix}\n",
    "  0 & 1 & 0\\\\\n",
    "  0 & 0 & 1\\\\\n",
    "  1/2 & 1/2 & 0\n",
    "\\end{pmatrix}.\n",
    "$$"
   ]
  },
  {
   "cell_type": "markdown",
   "metadata": {},
   "source": [
    "$\\tilde \\pi=(\\tilde \\pi_1, \\tilde \\pi_2,\\tilde \\pi_3)$, $\\tilde \\pi P=\\tilde \\pi$\n",
    "$$\n",
    "(\\tilde \\pi_1 \\ \\tilde \\pi_2 \\ \\tilde \\pi_3)=\\begin{pmatrix}\n",
    "  0 & 1 & 0\\\\\n",
    "  0 & 0 & 1\\\\\n",
    "  1/2 & 1/2 & 0\n",
    "\\end{pmatrix}=(\\tilde \\pi_1 \\ \\tilde \\pi_2 \\ \\tilde \\pi_3).\n",
    "$$\n",
    "\n",
    "$$\n",
    "\\begin{cases}\n",
    "  \\displaystyle\n",
    "  \\frac{\\tilde \\pi_3}{2} = \\tilde \\pi_1,\\\\\n",
    "  \\displaystyle \\tilde \\pi_1 + \\frac{\\tilde \\pi_3}{2}=\\tilde \\pi_2,\\\\\n",
    "  \\tilde \\pi_2 = \\tilde \\pi_3.\n",
    "\\end{cases}\n",
    "$$\n",
    "\n",
    "$\\tilde \\pi_3 = 2\\tilde \\pi_1$ y $\\tilde \\pi_3=\\tilde \\pi_2$\n",
    "\n",
    "$$\n",
    "\\left(\\frac{\\mu}{2}, \\mu, \\mu\\right).\n",
    "$$\n",
    "\n",
    "$\\tilde \\pi_1 + \\tilde \\pi_2 + \\tilde \\pi_3 = 1$\n",
    "\n",
    "$$\n",
    "\\tilde \\pi = \\frac{1}{\\frac{\\mu}{2} + \\mu + \\mu}\\left(\\frac{\\mu}{2}, \\mu, \\mu\\right) = \\left( \\frac{1}{5}, \\frac{2}{5},\\frac{2}{5}\\right).\n",
    "$$"
   ]
  },
  {
   "cell_type": "markdown",
   "metadata": {},
   "source": [
    "$\\pi=(\\pi_1, \\pi_2, \\pi_3)$.\n",
    "\n",
    "$$\n",
    "\\pi_j=\\frac{\\dfrac{\\tilde \\pi_j}{\\lambda_j}}{S}, \\quad j=1,2,3, \\quad \\text{donde } S = \\sum_{k=1}^3 \\frac{\\tilde \\pi_k}{\\lambda_k}.\n",
    "$$\n",
    "\n",
    "$S=\\frac{1}{10} + \\frac{2}{5} + \\frac{2}{15} = \\frac{19}{30},$\n",
    "\n",
    "$$\n",
    "\\pi=\\frac{30}{19}\\left( \\frac{1}{10}, \\frac{2}{5}, \\frac{2}{15}\\right) = \\left( \\frac{3}{19}, \\frac{12}{19}, \\frac{4}{19}\\right).\n",
    "$$"
   ]
  },
  {
   "cell_type": "markdown",
   "metadata": {},
   "source": [
    "$G=(g_{ij})$.\n",
    "\n",
    "$$\n",
    "g_{ij}=\\begin{cases}\n",
    "  \\lambda_ip_{ij}, & i\\neq j,\\\\\n",
    "  -\\lambda_i, & i=j.\n",
    "\\end{cases}\n",
    "$$"
   ]
  },
  {
   "cell_type": "markdown",
   "metadata": {},
   "source": [
    "$$\n",
    "G=\\begin{pmatrix}\n",
    "  -2 & 2 & 0\\\\\n",
    "  0 & -1 & 1\\\\\n",
    "  3/2 & 3/2 & -3\n",
    "\\end{pmatrix}.\n",
    "$$"
   ]
  },
  {
   "cell_type": "markdown",
   "metadata": {},
   "source": [
    "$$\n",
    "\\pi^TG=0 \\implies (\\pi_1 \\ \\pi_2 \\ \\pi_3)\\begin{pmatrix}\n",
    "  -2 & 2 & 0\\\\\n",
    "  0 & -1 & 1\\\\\n",
    "  3/2 & 3/2 & -3\n",
    "\\end{pmatrix} = 0.\n",
    "$$\n",
    "\n",
    "$$\n",
    "\\begin{cases}\n",
    "  \\displaystyle -2\\pi_1 + \\frac{3}{2}\\pi_3=0,\\\\\n",
    "  \\displaystyle 2\\pi_1 -\\pi_2+\\frac{3}{2}\\pi_3=0,\\\\\n",
    "  \\displaystyle \\pi_2-3\\pi_3=0.\n",
    "\\end{cases}\n",
    "$$\n",
    "\n",
    "$2\\pi_1=\\frac{3}{2}\\pi_3$ y $\\pi_2=3\\pi_3$\n",
    "\n",
    "$$\n",
    "\\left(\\frac{3}{4}\\mu, 3\\mu, \\mu \\right), \\quad \\mu \\in \\mathbb R.\n",
    "$$\n",
    "\n",
    "Como $\\pi$ debe ser una verdadera distribución, imponemos la condición de normalización para obtener la distribución estacionaria:\n",
    "$$\n",
    "\\pi = \\frac{1}{\\frac{3}{4}\\mu + 3\\mu + \\mu}\\left(\\frac{3}{4}\\mu, 3\\mu, \\mu \\right) = \\left(\\frac{3}{19}, \\frac{12}{19}, \\frac{4}{19} \\right).\n",
    "$$\n"
   ]
  },
  {
   "cell_type": "markdown",
   "metadata": {},
   "source": [
    "En general, la distribución estacionaria $\\tilde \\pi$ del proceso de saltos subyacente a una cadena de Markov, y la distribución estacionaria $\\pi$ de la propia cadena de Markov no coinciden. Una condición suficiente para que coincidan es que $\\lambda_i=\\lambda$ para todo $i$. En efecto, en ese caso se tiene:\n",
    "$$\n",
    "\\pi = \\frac{\\displaystyle \\frac{1}{\\lambda}\\tilde\\pi}{\\displaystyle \\frac{1}{\\lambda} \\sum \\tilde \\pi_j}=\\tilde\\pi, \\quad \\text{ya que } \\sum \\tilde \\pi_j = 1.\n",
    "$$\n",
    "\n",
    "Por tanto para que en una CMTC en la que coinciden ambas distribuciones se debería considerar $\\lambda_1=\\lambda_2=\\lambda_3=1$.\\\\\n"
   ]
  },
  {
   "cell_type": "markdown",
   "metadata": {},
   "source": []
  },
  {
   "cell_type": "markdown",
   "metadata": {},
   "source": [
    "**a)**\n",
    "\n",
    "<center><img src=\"img/ctmc.png\" width=\"400\"></center>"
   ]
  },
  {
   "cell_type": "markdown",
   "metadata": {},
   "source": [
    "**b)** \n",
    "$$\n",
    "\\tilde P = (p_{ij}) =\\begin{pmatrix}\n",
    "  0 & 0.2 & 0.8\\\\\n",
    "  0.3 & 0 & 0.7\\\\\n",
    "  0.6 & 0.4 & 0\n",
    "\\end{pmatrix}.\n",
    "$$"
   ]
  },
  {
   "cell_type": "code",
   "execution_count": 2,
   "metadata": {},
   "outputs": [],
   "source": [
    "# Transition matrix of the jump process\n",
    "\n",
    "P = np.array([[0., 0.2 , 0.8 ],\n",
    "              [0.3 , 0. , 0.7 ],\n",
    "              [0.6, 0.4, 0. ]])\n",
    "\n",
    "# Lambdas\n",
    "lambda_rate1, lambda_rate2, lambda_rate3 = 1/2, 2., 1.\n",
    "lambda_rates = [lambda_rate1, lambda_rate2, lambda_rate3]"
   ]
  },
  {
   "cell_type": "markdown",
   "metadata": {},
   "source": [
    "**c)**\n",
    "\n",
    "$\\tilde \\pi=(\\tilde \\pi_1, \\tilde \\pi_2,\\tilde \\pi_3)$, $\\tilde \\pi P=\\tilde \\pi$\n",
    "$$\n",
    "(\\tilde \\pi_1 \\ \\tilde \\pi_2 \\ \\tilde \\pi_3)=\\begin{pmatrix}\n",
    "  0 & 0.2 & 0.8\\\\\n",
    "  0.3 & 0 & 0.7\\\\\n",
    "  0.6 & 0.4 & 0\n",
    "\\end{pmatrix}=(\\tilde \\pi_1 \\ \\tilde \\pi_2 \\ \\tilde \\pi_3).\n",
    "$$\n",
    "\n",
    "$$\n",
    "\\begin{cases}\n",
    "  \\displaystyle\n",
    "  0.3 \\tilde \\pi_2 + 0.6 \\tilde \\pi_3 = \\tilde \\pi_1,\\\\\n",
    "  \\displaystyle 0.2 \\tilde \\pi_1 + 0.4 \\tilde \\pi_3 = \\tilde \\pi_2,\\\\\n",
    "  0.8 \\tilde \\pi_1 + 0.7 \\tilde \\pi_2 = \\tilde \\pi_3.\n",
    "\\end{cases}\n",
    "$$\n",
    "Como además $\\tilde \\pi_1 + \\tilde \\pi_2 + \\tilde \\pi_3 = 1$. Resolvemos el sistema de ecuaciones con la calculadora científica, obteniendo la siguiente solución.\n",
    "\n",
    "\n",
    "$$\n",
    "\\tilde \\pi^T = \\Big(\\frac{36}{109}, \\frac{26}{109}, \\frac{47}{109}\\Big).\n",
    "$$\n"
   ]
  },
  {
   "cell_type": "markdown",
   "metadata": {},
   "source": [
    "**d)**\n",
    "$\\pi=(\\pi_1, \\pi_2, \\pi_3)$.\n",
    "\n",
    "$$\n",
    "\\pi_j=\\frac{\\dfrac{\\tilde \\pi_j}{\\lambda_j}}{S}, \\quad j=1,2,3, \\quad \\text{donde } S = \\sum_{k=1}^3 \\frac{\\tilde \\pi_k}{\\lambda_k}.\n",
    "$$\n",
    "\n",
    "Siendo $S = 132,$\n",
    "\n",
    "$$\n",
    "\\pi^T=\\left( \\frac{6}{11}, \\frac{13}{132}, \\frac{47}{132}\\right).\n",
    "$$"
   ]
  },
  {
   "cell_type": "markdown",
   "metadata": {},
   "source": [
    "**e)**\n",
    "\n",
    "$G=(g_{ij})$.\n",
    "\n",
    "$$\n",
    "g_{ij}=\\begin{cases}\n",
    "  \\lambda_ip_{ij}, & i\\neq j,\\\\\n",
    "  -\\lambda_i, & i=j.\n",
    "\\end{cases}\n",
    "$$\n",
    "\n",
    "$$\n",
    "G=\\begin{pmatrix}\n",
    "  -0.5 & 0.1 & 0.4\\\\\n",
    "  0.6 & -2 & 1.4\\\\\n",
    "  0.6 & 0.4 & -1\n",
    "\\end{pmatrix}.\n",
    "$$\n",
    "\n",
    "**f)**\n",
    "\n",
    "$$\n",
    "\\pi^TG=0 \\implies (\\pi_1 \\ \\pi_2 \\ \\pi_3)\\begin{pmatrix}\n",
    "  -0.5 & 0.1 & 0.4\\\\\n",
    "  0.6 & -2 & 1.4\\\\\n",
    "  0.6 & 0.4 & -1\n",
    "\\end{pmatrix} = 0.\n",
    "$$\n",
    "\n",
    "$$\n",
    "\\begin{cases}\n",
    "  \\displaystyle -0.5 \\pi_1 + 0.6 \\pi_2 + 0.6 \\pi_3=0,\\\\\n",
    "  \\displaystyle 0.1 \\pi_1 - 2 \\pi_2 + 0.4 \\pi_3=0,\\\\\n",
    "  \\displaystyle 0.4 \\pi_1 + 1.4 \\pi_2 - 1 \\pi_3=0.\n",
    "\\end{cases}\n",
    "$$\n",
    "\n",
    "Resolviendo el sistema de ecuaciones obtenemos:\n",
    "$$\n",
    "\\pi^T=\\left( \\frac{6}{11}, \\frac{13}{132}, \\frac{47}{132}\\right).\n",
    "$$"
   ]
  },
  {
   "cell_type": "markdown",
   "metadata": {},
   "source": []
  },
  {
   "cell_type": "markdown",
   "metadata": {},
   "source": [
    "**g)**"
   ]
  },
  {
   "cell_type": "code",
   "execution_count": 8,
   "metadata": {},
   "outputs": [
    {
     "data": {
      "image/png": "[encoded data removed]",
      "text/plain": [
       "<Figure size 1008x1152 with 5 Axes>"
      ]
     },
     "metadata": {
      "needs_background": "light"
     },
     "output_type": "display_data"
    }
   ],
   "source": [
    "# Simulation of a few trajectories\n",
    "T, M = 5, 5\n",
    "t0, t1 = 0., 200.\n",
    "\n",
    "# Get arrival times and trajectories\n",
    "arrival_times_CTMC, trajectories_CTMC = pe.simulate_continuous_time_Markov_Chain(P, lambda_rates, 0, M, t0, t1)\n",
    "\n",
    "# Plot simulation\n",
    "pe.plot_ctmc_simulation(arrival_times_CTMC, trajectories_CTMC, M)"
   ]
  },
  {
   "cell_type": "markdown",
   "metadata": {},
   "source": [
    "**h)**"
   ]
  },
  {
   "cell_type": "code",
   "execution_count": 9,
   "metadata": {},
   "outputs": [],
   "source": [
    "# Save arrival times and trajectories\n",
    "times, trajectories = arrival_times_CTMC[0], trajectories_CTMC[0]"
   ]
  },
  {
   "cell_type": "code",
   "execution_count": 10,
   "metadata": {},
   "outputs": [
    {
     "name": "stdout",
     "output_type": "stream",
     "text": [
      "Stationary distribution of the jump process from a single trajectory: [0.32777778 0.25       0.42222222]\n"
     ]
    }
   ],
   "source": [
    "# Stationary distribution of the jump process from a single trajectory\n",
    "\n",
    "# Get number of states\n",
    "_, total = np.unique(trajectories, return_counts=True)\n",
    "\n",
    "# Get distribution\n",
    "total = total/np.sum(total)\n",
    "\n",
    "print(\"Stationary distribution of the jump process from a single trajectory: {}\".format(total))"
   ]
  },
  {
   "cell_type": "code",
   "execution_count": 11,
   "metadata": {},
   "outputs": [
    {
     "name": "stdout",
     "output_type": "stream",
     "text": [
      "Stationary distribution of the CTMC from a single trajectory: [0.52577849 0.09590195 0.37831956]\n"
     ]
    }
   ],
   "source": [
    "# Stationary distribution of the CTMC from a single trajectory ## REVISAR\n",
    "\n",
    "# Store n states\n",
    "n_states = len(lambda_rates)\n",
    "\n",
    "# Add final time to arrival times\n",
    "times = np.append(np.array(times), t1)\n",
    "\n",
    "# Compute jumps which correspond to each state\n",
    "jumps = [np.where(np.array(trajectories) == st)[0] for st in range(n_states)]\n",
    "\n",
    "# Final time\n",
    "final_time = [np.sum(times[j+1]) - np.sum(times[j]) for j in jumps]\n",
    "\n",
    "print(\"Stationary distribution of the CTMC from a single trajectory: {}\".format(final_time/np.array(t1-t0)))"
   ]
  },
  {
   "cell_type": "code",
   "execution_count": 12,
   "metadata": {},
   "outputs": [
    {
     "name": "stdout",
     "output_type": "stream",
     "text": [
      "Stationary distribution of the CTMC from the final state in a sample of M trajectories: [0.564 0.104 0.332]\n"
     ]
    }
   ],
   "source": [
    "# Stationary distribution of the CTMC from the final state in a sample of M trajectories\n",
    "\n",
    "# Number of trajectories\n",
    "M = 1000\n",
    "\n",
    "# New simulation\n",
    "arrival_times_CTMC, trajectories_CTMC = pe.simulate_continuous_time_Markov_Chain(P, lambda_rates, 0, M, t0, t1)\n",
    "\n",
    "# Get final distribution\n",
    "final_states = [tr[-1] for tr in trajectories_CTMC]\n",
    "_, total = np.unique(final_states, return_counts=True)\n",
    "total = total/np.sum(total)\n",
    "\n",
    "print(\"Stationary distribution of the CTMC from the final state in a sample of M trajectories: {}\".format(total))"
   ]
  },
  {
   "cell_type": "markdown",
   "metadata": {},
   "source": [
    "## Exercise 2: Simulation of a Brownian bridge process"
   ]
  },
  {
   "cell_type": "markdown",
   "metadata": {},
   "source": [
    "### Expected value of the standard Wiener process"
   ]
  },
  {
   "cell_type": "markdown",
   "metadata": {},
   "source": [
    "Consider the expression for the standard Brownian bridge\n",
    "$$ \n",
    "BB_{std}(t) = W(t) - W(1) \\, t \n",
    "$$\n",
    "\n",
    "The mean of this process is\n",
    "$$ \n",
    "\\mathbb{E}\\left[ BB_{std}(t) \\right] = \\mathbb{E}\\left[ W(t) - W(1) \\, t \\right]\n",
    "$$\n",
    "The expected value operator is linear. Therefore, \n",
    "$$ \n",
    "\\mathbb{E}\\left[ BB_{std}(t) \\right] = \\mathbb{E}\\left[ W(t) \\right] - \\mathbb{E}\\left[ W(1) \\right] t.\n",
    "$$\n",
    "Since process $W(t)$ has zero mean $\\mathbb{E}\\left[ W(t) \\right] = 0, \\ \\forall t \\ge 0$\n",
    "$$ \n",
    "\\mathbb{E}\\left[ BB_{std}(t) \\right] = 0, \\quad \\forall t \\in \\left[0, 1 \\right].\n",
    "$$"
   ]
  },
  {
   "cell_type": "markdown",
   "metadata": {},
   "source": [
    "### Covariance function for the standard Brownian bridge"
   ]
  },
  {
   "cell_type": "markdown",
   "metadata": {},
   "source": [
    "The covariance function for the standard Brownian bridge is defined as\n",
    "$$ \n",
    "\\gamma(t,s) = \n",
    " \\mathbb{E} \\left[\\left(BB_{std}(s) - \\mathbb{E}\\left[ BB_{std}(s) \\right] \\right)  \\left(BB_{std}(t) \\right] - \\mathbb{E}\\left[ BB_{std}(t) \\right] \\right). \n",
    "$$ \n",
    "Using \n",
    "$$ \n",
    "BB_{std}(t) = W(t) - W(1) \\, t, \\quad \\mathbb{E}\\left[ BB_{std}(t) \\right] = 0\n",
    ",$$ \n",
    "and \n",
    "$$\n",
    "\\gamma(s, t) = \n",
    " \\mathbb{E} \\left[ \\left(W(s) - W(1) \\, s \\right) \\left(W(t) - W(1) \\,  t \\right)\\right] =\n",
    " \\mathbb{E} \\left[ W(s) W(t) \\right]  + \\mathbb{E} \\left[W^2(1)\\right] s t - \\mathbb{E} \\left[W(1) W(t)\\right] \\, s \n",
    "- \\mathbb{E} \\left[W(s) W(1) \\right]  \\, t. \n",
    "$$ \n",
    "Finally, taking into account that\n",
    "$$ \n",
    "\\mathbb{E}\\left[ W(s) W(t) \\right] = \\min(s, t), $$ \n",
    "one gets \n",
    "$$ \n",
    "\\gamma(s, t) =  \\min(s, t) + s t - t s - s t = \\min(s, t) - s t. \n",
    "$$ \n"
   ]
  },
  {
   "cell_type": "markdown",
   "metadata": {},
   "source": [
    "### Mean function for a general Brownian bridge"
   ]
  },
  {
   "cell_type": "markdown",
   "metadata": {},
   "source": []
  },
  {
   "cell_type": "markdown",
   "metadata": {},
   "source": [
    "### Covariance function for a general Brownian bridge"
   ]
  },
  {
   "cell_type": "markdown",
   "metadata": {},
   "source": []
  },
  {
   "cell_type": "code",
   "execution_count": 8,
   "metadata": {
    "scrolled": true
   },
   "outputs": [
    {
     "data": {
      "image/png": "[encoded data removed]",
      "text/plain": [
       "<Figure size 432x288 with 1 Axes>"
      ]
     },
     "metadata": {
      "needs_background": "light"
     },
     "output_type": "display_data"
    }
   ],
   "source": [
    "## Brownian bridge simulation\n",
    "\n",
    "t0, t1 = 4., 7.\n",
    "B0, B1 = 1., 3.\n",
    "M, N = 5000, 100\n",
    "sigma = 2.\n",
    "t_ref =  5.3\n",
    "\n",
    "ts, BB = bm.simulate_Brownian_bridge(t0, B0, t1, B1, sigma, M, N)\n",
    "\n",
    "ts_ref = np.where(ts >= t_ref)[0][0]\n",
    "\n",
    "covar = [np.mean((BB[:,t] - np.mean(BB[:,t])) * (BB[:,ts_ref] - np.mean(BB[:,ts_ref]))) for t in range(len(ts))]\n",
    "\n",
    "def cov_th(t, s, sigma, t1, t0):\n",
    "    return sigma**2 * (np.minimum(t-t0, s-t0) - ((s-t0)*(t-t0))/(t1-t0))\n",
    "\n",
    "plt.plot(ts, covar, label=\"Simulation\")\n",
    "plt.plot(ts, cov_th(ts, t_ref, sigma, t1, t0), \"--\", label=\"Theorical value\")\n",
    "\n",
    "plt.legend()\n",
    "plt.show()\n"
   ]
  },
  {
   "cell_type": "markdown",
   "metadata": {},
   "source": [
    "# Exercise 3: Simulation of a stochastic volatility model"
   ]
  },
  {
   "cell_type": "markdown",
   "metadata": {},
   "source": [
    "### Derivation of $\\mathbb{E}\\left[\\sigma(t)\\right]$"
   ]
  },
  {
   "cell_type": "markdown",
   "metadata": {},
   "source": [
    "Consider the Ito SDE\n",
    "$$\n",
    "d \\sigma(t) = - \\alpha \\left( \\sigma(t) -  \\sigma_{\\infty} \\right) dt + \\xi dW(t),   \n",
    "$$\n",
    "where $\\alpha > 0$ is the reversion rate, $\\xi > 0$ is the volatility of the stochastic process $\\sigma(t)$. \n",
    "\n",
    "Define the process $X(t) = \\sigma(t) - \\sigma_{\\infty}$. Since $ \\sigma_{\\infty} $ is constant, $dX(t) = d \\sigma(t)$, and the equation becomes\n",
    "$$\n",
    "d X(t) = - \\alpha X(t) dt + \\xi dW(t).\n",
    "$$\n",
    "\n",
    "\n",
    "Let's take the expected value on both sizes of the equation \n",
    "$$\n",
    "\\mathbb{E}\\left[dX(t) \\right] = \\mathbb{E}\\left[ - \\alpha  X(t) dt + \\xi  dW(t) \\right].\n",
    "$$\n",
    "\n",
    "Using the fact that the expected value is a linear operator, we get\n",
    "$$\n",
    "d\\mathbb{E} \\left[X(t) \\right] = - \\alpha \\mathbb{E}\\left[ X(t) \\right] dt + \\xi \\mathbb{E}\\left[ dW(t) \\right].\n",
    "$$\n",
    "Since the Wiener process has zero mean, the equation becomes \n",
    "$$\n",
    "d \\mathbb{E} \\left[ X(t) \\right] = - \\alpha  \\mathbb{E} \\left[ X(t) \\right] dt.\n",
    "$$\n",
    "Using the method of separation of variables\n",
    "$$\n",
    "\\frac{1}{ \\mathbb{E} \\left[ X(t) \\right]} d \\mathbb{E} \\left[ X(t) \\right] = - \\alpha dt,\n",
    "$$\n",
    "the equation can be integrated between $(t_0, X_0)$, where $X_0 = \\sigma_0 - \\sigma_{\\infty}$, and $\\left(t,  \\mathbb{E} \\left[ X(t) \\right] \\right)$\n",
    "$$\n",
    "\\int_{X_0}^{\\mathbb{E} \\left[ X(t) \\right]} \\frac{1}{ \\mathbb{E} \\left[ X \\right]} d \\mathbb{E} \\left[ X \\right]  = - \\alpha \\int_{t_0}^t d\\tau. \n",
    "$$\n",
    "The solution is\n",
    "$$\n",
    "\\log \\frac{ \\mathbb{E}\\left[X(t) \\right] }{ X_0 } = - \\alpha \\left(t- t_0 \\right).\n",
    "$$\n",
    "After some straightforward algebraic manipulation, one obtains\n",
    "$$\n",
    "\\mathbb{E} \\left[ X(t) \\right] =  X_0  e^{- \\alpha \\left(t- t_0 \\right)}.\n",
    "$$\n",
    "Undoing the change of variable, we obtain\n",
    "$$\n",
    "\\mathbb{E} \\left[ \\sigma(t) \\right] = \\sigma_{\\infty} + \\left(\\sigma_0  - \\sigma_{\\infty} \\right)  e^{- \\alpha \\left(t- t_0 \\right)}.\n",
    "$$"
   ]
  },
  {
   "cell_type": "markdown",
   "metadata": {},
   "source": [
    "### Derivation of $\\text{Var}\\left[\\sigma(t)\\right]$"
   ]
  },
  {
   "cell_type": "markdown",
   "metadata": {},
   "source": []
  },
  {
   "cell_type": "markdown",
   "metadata": {},
   "source": [
    "### Derivation of the conditional pdf:  $\\text{pdf}\\left[\\left.  t, \\sigma(t) \\right| t_0, \\sigma_0 \\right]$"
   ]
  },
  {
   "cell_type": "markdown",
   "metadata": {},
   "source": []
  },
  {
   "cell_type": "markdown",
   "metadata": {},
   "source": [
    "### Simulation of the SDE $\n",
    "d \\sigma(t) = - \\alpha \\left( \\sigma(t) -  \\sigma_{\\infty} \\right) dt + \\xi dW(t),   \n",
    "$\n"
   ]
  },
  {
   "cell_type": "code",
   "execution_count": 9,
   "metadata": {},
   "outputs": [],
   "source": [
    "# Simulation of a sample of trajectories"
   ]
  },
  {
   "cell_type": "code",
   "execution_count": 10,
   "metadata": {},
   "outputs": [],
   "source": [
    "# Mean and stdev of the trajectories simulated           \n",
    "                              "
   ]
  },
  {
   "cell_type": "code",
   "execution_count": 11,
   "metadata": {},
   "outputs": [],
   "source": [
    "# Asymptotic stationary pdf of the process"
   ]
  },
  {
   "cell_type": "markdown",
   "metadata": {},
   "source": [
    "# Exercise 4: Pricing of a European call option"
   ]
  },
  {
   "cell_type": "markdown",
   "metadata": {},
   "source": [
    "## Pricing by quadrature"
   ]
  },
  {
   "cell_type": "code",
   "execution_count": 12,
   "metadata": {},
   "outputs": [
    {
     "name": "stdout",
     "output_type": "stream",
     "text": [
      "Price = 26.2402\n"
     ]
    }
   ],
   "source": [
    "# Parameters that characterize underlying \n",
    "S0 = 100.0\n",
    "sigma = 0.3\n",
    "\n",
    "# Parameters of the EU call option\n",
    "K = 90.0\n",
    "T = 2.0\n",
    "\n",
    "# Risk-free interest rate\n",
    "r = 0.05\n",
    "\n",
    "price_EU_call = pe.price_EU_call(S0, K, r, sigma, T)\n",
    "\n",
    "print('Price = {:.4f}'.format(price_EU_call))"
   ]
  },
  {
   "cell_type": "markdown",
   "metadata": {},
   "source": [
    "## Monte Carlo pricing of a European call option"
   ]
  },
  {
   "cell_type": "code",
   "execution_count": null,
   "metadata": {},
   "outputs": [],
   "source": []
  },
  {
   "cell_type": "code",
   "execution_count": null,
   "metadata": {},
   "outputs": [],
   "source": []
  },
  {
   "cell_type": "code",
   "execution_count": null,
   "metadata": {},
   "outputs": [],
   "source": []
  }
 ],
 "metadata": {
  "kernelspec": {
   "display_name": "Python 3",
   "language": "python",
   "name": "python3"
  },
  "language_info": {
   "codemirror_mode": {
    "name": "ipython",
    "version": 3
   },
   "file_extension": ".py",
   "mimetype": "text/x-python",
   "name": "python",
   "nbconvert_exporter": "python",
   "pygments_lexer": "ipython3",
   "version": "3.9.9"
  }
 },
 "nbformat": 4,
 "nbformat_minor": 4
}
