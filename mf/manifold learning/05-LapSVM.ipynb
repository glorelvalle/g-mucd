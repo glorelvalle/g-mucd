{
 "cells": [
  {
   "cell_type": "markdown",
   "id": "corrected-disease",
   "metadata": {},
   "source": [
    "<div style=\"font-weight: bold; color:#5D8AA8\" align=\"center\">\n",
    "    <div style=\"font-size: xx-large\">Métodos Funcionales en Aprendizaje Automático</div><br>\n",
    "    <div style=\"font-size: x-large; color:gray\">Laplacian SVM</div><br>\n",
    "    <div style=\"font-size: large\">Ángela Fernández Pascual - Universidad Autónoma de Madrid</div><br></div><hr>\n",
    "</div>"
   ]
  },
  {
   "cell_type": "markdown",
   "id": "approved-reflection",
   "metadata": {},
   "source": [
    "**Initial Configuration**"
   ]
  },
  {
   "cell_type": "markdown",
   "id": "prostate-hometown",
   "metadata": {},
   "source": [
    "This cell defines the configuration of Jupyter Notebooks."
   ]
  },
  {
   "cell_type": "code",
   "execution_count": 1,
   "id": "chinese-female",
   "metadata": {},
   "outputs": [
    {
     "data": {
      "text/html": [
       "<style>\n",
       "    .qst {background-color: #b1cee3; padding:10px; border-radius: 5px; border: solid 2px #5D8AA8;}\n",
       "    .qst:before {font-weight: bold; content:\"Exercise\"; display: block; margin: 0px 10px 10px 10px;}\n",
       "    h1, h2, h3 {color: #5D8AA8;}\n",
       "                \n",
       "    .tqst {background-color: #97d0a7; padding:10px; border-radius: 5px; border: solid 2px #63BA97;}\n",
       "    .tqst:before {font-weight: bold; content:\"Team Exercise\"; display: block; margin: 0px 10px 10px 10px;}\n",
       "    \n",
       "           .text_cell_render p {text-align: justify; text-justify: inter-word;}\n",
       "</style>\n"
      ],
      "text/plain": [
       "<IPython.core.display.HTML object>"
      ]
     },
     "metadata": {},
     "output_type": "display_data"
    }
   ],
   "source": [
    "%%html\n",
    "<style>\n",
    "    .qst {background-color: #b1cee3; padding:10px; border-radius: 5px; border: solid 2px #5D8AA8;}\n",
    "    .qst:before {font-weight: bold; content:\"Exercise\"; display: block; margin: 0px 10px 10px 10px;}\n",
    "    h1, h2, h3 {color: #5D8AA8;}\n",
    "                \n",
    "    .tqst {background-color: #97d0a7; padding:10px; border-radius: 5px; border: solid 2px #63BA97;}\n",
    "    .tqst:before {font-weight: bold; content:\"Team Exercise\"; display: block; margin: 0px 10px 10px 10px;}\n",
    "    \n",
    "           .text_cell_render p {text-align: justify; text-justify: inter-word;}\n",
    "</style>"
   ]
  },
  {
   "cell_type": "code",
   "execution_count": 2,
   "id": "emotional-simon",
   "metadata": {},
   "outputs": [],
   "source": [
    "%matplotlib inline\n",
    "%load_ext autoreload\n",
    "%autoreload 2"
   ]
  },
  {
   "cell_type": "markdown",
   "id": "pressed-burlington",
   "metadata": {},
   "source": [
    "This cell imports the packages to be used."
   ]
  },
  {
   "cell_type": "code",
   "execution_count": 3,
   "id": "about-wellington",
   "metadata": {},
   "outputs": [],
   "source": [
    "from matplotlib import pyplot as plt\n",
    "import numpy as np\n",
    "from sklearn.datasets import make_circles\n",
    "\n",
    "import matplotlib\n",
    "import matplotlib.pyplot as plt\n",
    "matplotlib.rc('figure', figsize=(15, 5))"
   ]
  },
  {
   "cell_type": "markdown",
   "id": "warming-intervention",
   "metadata": {},
   "source": [
    "# Semi-supervised Learning"
   ]
  },
  {
   "cell_type": "code",
   "execution_count": 4,
   "id": "junior-player",
   "metadata": {},
   "outputs": [],
   "source": [
    "n_pat = 200\n",
    "n_lab = 2\n",
    "X, y = make_circles(n_samples=n_pat, random_state=123)\n",
    "ind = np.argsort(- X[:, 1])\n",
    "X = X[ind]\n",
    "y = y[ind]\n",
    "\n",
    "ind_l = np.array((np.where(y == 0)[0][0], np.where(y == 1)[0][0]))\n",
    "ind_u = np.arange(n_pat)\n",
    "ind_u = np.logical_and(ind_u != ind_l[0], ind_u != ind_l[1])\n",
    "ind_u0 = np.where(np.logical_and(ind_u, y == 0))[0]\n",
    "ind_u1 = np.where(np.logical_and(ind_u, y == 1))[0]"
   ]
  },
  {
   "cell_type": "markdown",
   "id": "portable-python",
   "metadata": {},
   "source": [
    "<div class=\"tqst\">\n",
    "\n",
    "* For `n_unl = 0` what classifier will you define?\n",
    "    \n",
    "* For the next example try the values {2, 10, 50, 100} for the variable `n_unl` (the number of unlabeled points).\n",
    "    \n",
    "* Would you change now your initial choice about the classifier? Why?\n",
    "\n",
    "</div>"
   ]
  },
  {
   "cell_type": "code",
   "execution_count": 14,
   "id": "jewish-peace",
   "metadata": {
    "scrolled": true
   },
   "outputs": [
    {
     "data": {
      "image/png": "[encoded data removed]",
      "text/plain": [
       "<Figure size 720x720 with 1 Axes>"
      ]
     },
     "metadata": {},
     "output_type": "display_data"
    }
   ],
   "source": [
    "n_unl = 100\n",
    "\n",
    "n_unl = int(min(n_unl, (n_pat - n_lab) / 2))\n",
    "plt.figure(figsize=(10, 10))\n",
    "plt.scatter(X[ind_l, 0], X[ind_l, 1], c=y[ind_l], cmap=\"bwr\")\n",
    "plt.scatter(X[ind_u0[:n_unl], 0], X[ind_u0[:n_unl], 1], c=\"gray\")\n",
    "plt.scatter(X[ind_u1[:n_unl], 0], X[ind_u1[:n_unl], 1], c=\"gray\")\n",
    "plt.plot([-1.1, 1.1], [0.9, 0.9], \"--k\")\n",
    "plt.axis([-1.1, 1.1, -1.1, 1.1])\n",
    "plt.xticks([])\n",
    "plt.yticks([])\n",
    "plt.show()"
   ]
  },
  {
   "cell_type": "markdown",
   "id": "loved-address",
   "metadata": {},
   "source": [
    "# LapSVM"
   ]
  },
  {
   "cell_type": "markdown",
   "id": "attached-teddy",
   "metadata": {},
   "source": [
    "Code from https://github.com/GuHongyang/LapSVM-python"
   ]
  },
  {
   "cell_type": "code",
   "execution_count": 15,
   "id": "worthy-inventory",
   "metadata": {},
   "outputs": [],
   "source": [
    "from scipy.optimize import minimize\n",
    "from scipy.spatial.distance import cdist\n",
    "from sklearn.neighbors import kneighbors_graph\n",
    "from scipy import sparse\n",
    "\n",
    "class LapSVM(object):\n",
    "    def __init__(self,opt):\n",
    "        self.opt=opt\n",
    "\n",
    "\n",
    "    def fit(self,X,Y,X_u):\n",
    "        #construct graph\n",
    "        self.X=np.vstack([X,X_u])\n",
    "        Y=np.diag(Y)\n",
    "        if self.opt['neighbor_mode']=='connectivity':\n",
    "            W = kneighbors_graph(self.X, self.opt['n_neighbor'], mode='connectivity',include_self=False)\n",
    "            W = (((W + W.T) > 0) * 1)\n",
    "        elif self.opt['neighbor_mode']=='distance':\n",
    "            W = kneighbors_graph(self.X, self.opt['n_neighbor'], mode='distance',include_self=False)\n",
    "            W = W.maximum(W.T)\n",
    "            W = sparse.csr_matrix((np.exp(-W.data**2/4/self.opt['t']),W.indices,W.indptr),shape=(self.X.shape[0],self.X.shape[0]))\n",
    "        else:\n",
    "            raise Exception()\n",
    "\n",
    "        # Computing Graph Laplacian\n",
    "        L = sparse.diags(np.array(W.sum(0))[0]).tocsr() - W\n",
    "\n",
    "        # Computing K with k(i,j) = kernel(i, j)\n",
    "        K = self.opt['kernel_function'](self.X,self.X,**self.opt['kernel_parameters'])\n",
    "\n",
    "        l=X.shape[0]\n",
    "        u=X_u.shape[0]\n",
    "        # Creating matrix J [I (l x l), 0 (l x (l+u))]\n",
    "        J = np.concatenate([np.identity(l), np.zeros(l * u).reshape(l, u)], axis=1)\n",
    "\n",
    "        # Computing \"almost\" alpha\n",
    "        almost_alpha = np.linalg.inv(2 * self.opt['gamma_A'] * np.identity(l + u) \\\n",
    "                                     + ((2 * self.opt['gamma_I']) / (l + u) ** 2) * L.dot(K)).dot(J.T).dot(Y)\n",
    "\n",
    "        # Computing Q\n",
    "        Q = Y.dot(J).dot(K).dot(almost_alpha)\n",
    "        Q = (Q+Q.T)/2\n",
    "\n",
    "        del W, L, K, J\n",
    "\n",
    "        e = np.ones(l)\n",
    "        q = -e\n",
    "\n",
    "        # ===== Objectives =====\n",
    "        def objective_func(beta):\n",
    "            return (1 / 2) * beta.dot(Q).dot(beta) + q.dot(beta)\n",
    "\n",
    "        def objective_grad(beta):\n",
    "            return np.squeeze(np.array(beta.T.dot(Q) + q))\n",
    "\n",
    "        # =====Constraint(1)=====\n",
    "        #   0 <= beta_i <= 1 / l\n",
    "        bounds = [(0, 1 / l) for _ in range(l)]\n",
    "\n",
    "        # =====Constraint(2)=====\n",
    "        #  Y.dot(beta) = 0\n",
    "        def constraint_func(beta):\n",
    "            return beta.dot(np.diag(Y))\n",
    "\n",
    "        def constraint_grad(beta):\n",
    "            return np.diag(Y)\n",
    "\n",
    "        cons = {'type': 'eq', 'fun': constraint_func, 'jac': constraint_grad}\n",
    "\n",
    "        # ===== Solving =====\n",
    "        x0 = np.zeros(l)\n",
    "\n",
    "        beta_hat = minimize(objective_func, x0, jac=objective_grad, constraints=cons, bounds=bounds)['x']\n",
    "\n",
    "        # Computing final alpha\n",
    "        self.alpha = almost_alpha.dot(beta_hat)\n",
    "\n",
    "        del almost_alpha, Q\n",
    "\n",
    "        # Finding optimal decision boundary b using labeled data\n",
    "        new_K = self.opt['kernel_function'](self.X,X,**self.opt['kernel_parameters'])\n",
    "        f = np.squeeze(np.array(self.alpha)).dot(new_K)\n",
    "\n",
    "        self.sv_ind=np.nonzero((beta_hat>1e-7)*(beta_hat<(1/l-1e-7)))[0]\n",
    "\n",
    "        ind=self.sv_ind[0]\n",
    "        self.b=np.diag(Y)[ind]-f[ind]\n",
    "\n",
    "\n",
    "    def decision_function(self,X):\n",
    "        new_K = self.opt['kernel_function'](self.X, X, **self.opt['kernel_parameters'])\n",
    "        f = np.squeeze(np.array(self.alpha)).dot(new_K)\n",
    "        return f+self.b\n",
    "\n",
    "def rbf(X1,X2,**kwargs):\n",
    "    return np.exp(-cdist(X1,X2)**2*kwargs['gamma'])"
   ]
  },
  {
   "cell_type": "markdown",
   "id": "personalized-seeking",
   "metadata": {},
   "source": [
    "<div class=\"tqst\">\n",
    "\n",
    "* For the following example try the values {1, 3, 5} for the variable `l` (the number of labeled points per class). How it affects the different models?\n",
    "    \n",
    "* In the case of the LapSVM, try different values for `gamma_I` to see how much it affects to its decision boundary.\n",
    "\n",
    "</div>"
   ]
  },
  {
   "cell_type": "code",
   "execution_count": 23,
   "id": "animal-surgeon",
   "metadata": {},
   "outputs": [
    {
     "data": {
      "image/png": "[encoded data removed]",
      "text/plain": [
       "<Figure size 1080x360 with 2 Axes>"
      ]
     },
     "metadata": {
      "needs_background": "light"
     },
     "output_type": "display_data"
    }
   ],
   "source": [
    "from sklearn.datasets import make_moons\n",
    "import matplotlib.pyplot as plt\n",
    "np.random.seed(5)\n",
    "\n",
    "X, Y = make_moons(n_samples=200, noise=0.05)\n",
    "ind_0 = np.nonzero(Y == 0)[0]\n",
    "ind_1 = np.nonzero(Y == 1)[0]\n",
    "Y[ind_0] = -1\n",
    "\n",
    "###################################\n",
    "## VARIABLES:\n",
    "l = 12\n",
    "###################################\n",
    "\n",
    "ind_l0=np.random.choice(ind_0,l,False)\n",
    "ind_u0=np.setdiff1d(ind_0,ind_l0)\n",
    "\n",
    "ind_l1 = np.random.choice(ind_1, l, False)\n",
    "ind_u1 = np.setdiff1d(ind_1, ind_l1)\n",
    "\n",
    "Xl=np.vstack([X[ind_l0,:],X[ind_l1,:]])\n",
    "Yl=np.hstack([Y[ind_l0],Y[ind_l1]])\n",
    "Xu=np.vstack([X[ind_u0,:],X[ind_u1,:]])\n",
    "\n",
    "######################################\n",
    "### LapSVM\n",
    "plt.subplot(1,2,1)\n",
    "plt.scatter(Xl[:,0],Xl[:,1],marker='+',c=Yl)\n",
    "plt.scatter(Xu[:,0],Xu[:,1],marker='.')\n",
    "plt.title('LapSVM')\n",
    "\n",
    "opt={'neighbor_mode':'connectivity',\n",
    "        'n_neighbor'   : 5,\n",
    "        't':            1,\n",
    "        'kernel_function':rbf,\n",
    "        'kernel_parameters':{'gamma':10},\n",
    "        'gamma_A':0.03125,\n",
    "        'gamma_I':10000}\n",
    "\n",
    "s=LapSVM(opt)\n",
    "s.fit(Xl,Yl,Xu)\n",
    "plt.scatter(Xl[s.sv_ind,0],Xl[s.sv_ind,1],marker='o',c=Yl[s.sv_ind])\n",
    "\n",
    "Y_=s.decision_function(X)\n",
    "Y_pre=np.ones(X.shape[0])\n",
    "Y_pre[Y_<0]=-1\n",
    "\n",
    "xv, yv = np.meshgrid(np.linspace(X[:,0].min(),X[:,0].max(),100), np.linspace(X[:,1].min(),X[:,1].max(),100))\n",
    "XX=s.decision_function(np.hstack([xv.reshape([-1,1]),yv.reshape([-1,1])])).reshape([xv.shape[0],yv.shape[0]])\n",
    "plt.contour(xv,yv,XX,[-1,0,1])\n",
    "\n",
    "######################################\n",
    "### LapSVM without geometry influence\n",
    "plt.subplot(1,2,2)\n",
    "plt.scatter(Xl[:, 0], Xl[:, 1], marker='+', c=Yl)\n",
    "plt.scatter(Xu[:, 0], Xu[:, 1], marker='.')\n",
    "plt.title('LapSVM without geometric influence')\n",
    "\n",
    "opt = {'neighbor_mode': 'connectivity',\n",
    "        'n_neighbor': 5,\n",
    "        't': 1,\n",
    "        'kernel_function': rbf,\n",
    "        'kernel_parameters': {'gamma': 10},\n",
    "        'gamma_A': 0.03125,\n",
    "        'gamma_I': 0}\n",
    "\n",
    "s = LapSVM(opt)\n",
    "s.fit(Xl, Yl, Xu)\n",
    "plt.scatter(Xl[s.sv_ind, 0], Xl[s.sv_ind, 1], marker='o', c=Yl[s.sv_ind])\n",
    "\n",
    "Y_ = s.decision_function(X)\n",
    "Y_pre = np.ones(X.shape[0])\n",
    "Y_pre[Y_ < 0] = -1\n",
    "\n",
    "xv, yv = np.meshgrid(np.linspace(X[:, 0].min(), X[:, 0].max(), 100), np.linspace(X[:, 1].min(), X[:, 1].max(), 100))\n",
    "XX = s.decision_function(np.hstack([xv.reshape([-1, 1]), yv.reshape([-1, 1])])).reshape([xv.shape[0], yv.shape[0]])\n",
    "plt.contour(xv, yv, XX, [-1, 0, 1])\n",
    "plt.show()"
   ]
  },
  {
   "cell_type": "code",
   "execution_count": null,
   "id": "35ba1de9",
   "metadata": {},
   "outputs": [],
   "source": []
  }
 ],
 "metadata": {
  "kernelspec": {
   "display_name": "Python 3 (ipykernel)",
   "language": "python",
   "name": "python3"
  },
  "language_info": {
   "codemirror_mode": {
    "name": "ipython",
    "version": 3
   },
   "file_extension": ".py",
   "mimetype": "text/x-python",
   "name": "python",
   "nbconvert_exporter": "python",
   "pygments_lexer": "ipython3",
   "version": "3.9.9"
  },
  "toc": {
   "base_numbering": 1,
   "nav_menu": {},
   "number_sections": false,
   "sideBar": true,
   "skip_h1_title": false,
   "title_cell": "Table of Contents",
   "title_sidebar": "Contents",
   "toc_cell": false,
   "toc_position": {},
   "toc_section_display": true,
   "toc_window_display": false
  }
 },
 "nbformat": 4,
 "nbformat_minor": 5
}
