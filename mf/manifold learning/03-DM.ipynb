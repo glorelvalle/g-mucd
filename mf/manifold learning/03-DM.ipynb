{
 "cells": [
  {
   "cell_type": "markdown",
   "metadata": {},
   "source": [
    "<div style=\"font-weight: bold; color:#5D8AA8\" align=\"center\">\n",
    "    <div style=\"font-size: xx-large\">Métodos Funcionales en Aprendizaje Automático</div><br>\n",
    "    <div style=\"font-size: x-large; color:gray\">Diffusion Maps</div><br>\n",
    "    <div style=\"font-size: large\">Ángela Fernández Pascual - Universidad Autónoma de Madrid</div><br></div><hr>\n",
    "</div>"
   ]
  },
  {
   "cell_type": "markdown",
   "metadata": {},
   "source": [
    "**Initial Configuration**"
   ]
  },
  {
   "cell_type": "markdown",
   "metadata": {},
   "source": [
    "This cell defines the configuration of Jupyter Notebooks."
   ]
  },
  {
   "cell_type": "code",
   "execution_count": 1,
   "metadata": {},
   "outputs": [
    {
     "data": {
      "text/html": [
       "<style>\n",
       "    .qst {background-color: #b1cee3; padding:10px; border-radius: 5px; border: solid 2px #5D8AA8;}\n",
       "    .qst:before {font-weight: bold; content:\"Exercise\"; display: block; margin: 0px 10px 10px 10px;}\n",
       "                   \n",
       "    .tqst {background-color: #97d0a7; padding:10px; border-radius: 5px; border: solid 2px #63BA97;}\n",
       "    .tqst:before {font-weight: bold; content:\"Team Exercise\"; display: block; margin: 0px 10px 10px 10px;}\n",
       "           \n",
       "    h1, h2, h3 {color: #5D8AA8;}\n",
       "    .text_cell_render p {text-align: justify; text-justify: inter-word;}\n",
       "</style>\n"
      ],
      "text/plain": [
       "<IPython.core.display.HTML object>"
      ]
     },
     "metadata": {},
     "output_type": "display_data"
    }
   ],
   "source": [
    "%%html\n",
    "<style>\n",
    "    .qst {background-color: #b1cee3; padding:10px; border-radius: 5px; border: solid 2px #5D8AA8;}\n",
    "    .qst:before {font-weight: bold; content:\"Exercise\"; display: block; margin: 0px 10px 10px 10px;}\n",
    "                   \n",
    "    .tqst {background-color: #97d0a7; padding:10px; border-radius: 5px; border: solid 2px #63BA97;}\n",
    "    .tqst:before {font-weight: bold; content:\"Team Exercise\"; display: block; margin: 0px 10px 10px 10px;}\n",
    "           \n",
    "    h1, h2, h3 {color: #5D8AA8;}\n",
    "    .text_cell_render p {text-align: justify; text-justify: inter-word;}\n",
    "</style>"
   ]
  },
  {
   "cell_type": "code",
   "execution_count": 2,
   "metadata": {},
   "outputs": [],
   "source": [
    "%matplotlib inline\n",
    "%load_ext autoreload\n",
    "%autoreload 2"
   ]
  },
  {
   "cell_type": "markdown",
   "metadata": {},
   "source": [
    "This cell imports the packages to be used."
   ]
  },
  {
   "cell_type": "code",
   "execution_count": 3,
   "metadata": {},
   "outputs": [],
   "source": [
    "import numpy as np\n",
    "\n",
    "import matplotlib\n",
    "import matplotlib.pyplot as plt\n",
    "from matplotlib import colors\n",
    "\n",
    "from sklearn.datasets import make_swiss_roll\n",
    "\n",
    "from mpl_toolkits.mplot3d import Axes3D\n",
    "Axes3D\n",
    "\n",
    "matplotlib.rc('figure', figsize=(15, 5))\n",
    "\n",
    "seed = 123\n",
    "my_cmap = plt.cm.Spectral"
   ]
  },
  {
   "cell_type": "markdown",
   "metadata": {},
   "source": [
    "# Dataset"
   ]
  },
  {
   "cell_type": "code",
   "execution_count": 4,
   "metadata": {},
   "outputs": [
    {
     "data": {
      "image/png": "[encoded data removed]",
      "text/plain": [
       "<Figure size 1080x360 with 1 Axes>"
      ]
     },
     "metadata": {
      "needs_background": "light"
     },
     "output_type": "display_data"
    }
   ],
   "source": [
    "N=50\n",
    "d=2\n",
    "\n",
    "np.random.seed(seed)\n",
    "X=np.random.randn(N,d)\n",
    "plt.scatter(X[:,0], X[:,1], marker='*', cmap=my_cmap)\n",
    "plt.axis('equal')\n",
    "plt.show()"
   ]
  },
  {
   "cell_type": "markdown",
   "metadata": {},
   "source": [
    "# Building a Graph\n",
    "\n",
    "## Defining the affinity matrix"
   ]
  },
  {
   "cell_type": "markdown",
   "metadata": {},
   "source": [
    "The first step in **Diffusion Maps** consist of building a symmetric weighted graph. For doing this, let's define the affinity matrix via a kernel matrix."
   ]
  },
  {
   "cell_type": "markdown",
   "metadata": {},
   "source": [
    "<div class=\"tqst\">\n",
    "\n",
    "* Define the affinity matrix in terms of the Gaussian Kernel.\n",
    "\n",
    "    **Remark**: Do not compute the distance point by point, but in an efficient way for the whole matrix. You can use *scikit-learn* functions for computing the matrix distance. \n",
    "</div>"
   ]
  },
  {
   "cell_type": "code",
   "execution_count": 5,
   "metadata": {},
   "outputs": [],
   "source": [
    "from scipy.spatial import distance\n",
    "\n",
    "def kernel_gram(X, Y, sigma):\n",
    "    d = distance.cdist(X, Y, metric='euclidean')\n",
    "    return np.exp(-0.5 * (d / sigma)**2)"
   ]
  },
  {
   "cell_type": "code",
   "execution_count": null,
   "metadata": {},
   "outputs": [],
   "source": [
    "plt.figure()"
   ]
  },
  {
   "cell_type": "markdown",
   "metadata": {},
   "source": [
    "# Random Walk over the graph\n",
    "\n",
    "## Transition Probability"
   ]
  },
  {
   "cell_type": "markdown",
   "metadata": {},
   "source": [
    "Once the graph is built, let's define a **transition probability** from the affinity matrix,to simulate a random walk over the graph."
   ]
  },
  {
   "cell_type": "markdown",
   "metadata": {},
   "source": [
    "<div class=\"tqst\">\n",
    "\n",
    "* Define the transition probability.\n",
    "\n",
    "    **Remark**: To be efficient, you should not use a for loop. Try to do it using matrices and arrays  operations. Check at the end that each row sum 1.\n",
    "</div>"
   ]
  },
  {
   "cell_type": "code",
   "execution_count": null,
   "metadata": {},
   "outputs": [],
   "source": []
  },
  {
   "cell_type": "markdown",
   "metadata": {},
   "source": [
    "## Steps in the probability"
   ]
  },
  {
   "cell_type": "markdown",
   "metadata": {},
   "source": [
    "In Diffusion Maps, as it is studied as a diffusion process, it is important to check how the process evolves with time. Let's check the effect of the steps $t$ over the graph."
   ]
  },
  {
   "cell_type": "markdown",
   "metadata": {},
   "source": [
    "<div class=\"tqst\">\n",
    "\n",
    "* Compute $P^{t}$ for t=1..10.\n",
    "\n",
    "* Check how much it affects the graph, for example by plotting it. \n",
    "\n",
    "</div>"
   ]
  },
  {
   "cell_type": "code",
   "execution_count": null,
   "metadata": {},
   "outputs": [],
   "source": []
  },
  {
   "cell_type": "markdown",
   "metadata": {},
   "source": [
    "## MC Distribution $\\pi$"
   ]
  },
  {
   "cell_type": "markdown",
   "metadata": {},
   "source": [
    "Let's analyze how evolves the graph and the stationary distribution $\\pi$ with time. We are going to check how we tend to the stationary distribution, no matter how far we start from it."
   ]
  },
  {
   "cell_type": "markdown",
   "metadata": {},
   "source": [
    "<div class=\"tqst\">\n",
    "\n",
    "* Compute the stationary distribution $pi$.\n",
    "    \n",
    "* Check that $\\pi_{t+1} = P \\pi_{t} \\to \\pi$ (when $t\\to\\infty$), starting at an initial distribution far from the stationary one, for example $\\pi_{0} = [1, 0, 0, ..., 0]$.\n",
    "    \n",
    "</div>"
   ]
  },
  {
   "cell_type": "code",
   "execution_count": null,
   "metadata": {},
   "outputs": [],
   "source": [
    "#pi=\n",
    "print(\"Original Distribution: \", pi)\n",
    "\n",
    "pi_t=np.zeros((N,1));pi_t[0]=1\n",
    "for t in range(100):\n",
    "#    pi_t = \n",
    "    print(\"Step \", t, \": \", pi_t)"
   ]
  },
  {
   "cell_type": "markdown",
   "metadata": {},
   "source": [
    "# Spectral Theory"
   ]
  },
  {
   "cell_type": "markdown",
   "metadata": {},
   "source": [
    "<div class=\"tqst\">\n",
    "\n",
    "* Compute the eigendecomposition of $P$.\n",
    "\n",
    "* Plot the eigenvalues to check how fast they tend to $0$.\n",
    "    \n",
    "* Compute the diffusion coordinates for `t=1`.\n",
    "   \n",
    "    **Remark**: Now the most important eigenvalues are the biggest ones.\n",
    "</div>"
   ]
  },
  {
   "cell_type": "code",
   "execution_count": null,
   "metadata": {},
   "outputs": [],
   "source": []
  }
 ],
 "metadata": {
  "@webio": {
   "lastCommId": null,
   "lastKernelId": null
  },
  "kernelspec": {
   "display_name": "Python 3 (ipykernel)",
   "language": "python",
   "name": "python3"
  },
  "language_info": {
   "codemirror_mode": {
    "name": "ipython",
    "version": 3
   },
   "file_extension": ".py",
   "mimetype": "text/x-python",
   "name": "python",
   "nbconvert_exporter": "python",
   "pygments_lexer": "ipython3",
   "version": "3.9.9"
  },
  "toc": {
   "base_numbering": 1,
   "nav_menu": {},
   "number_sections": false,
   "sideBar": true,
   "skip_h1_title": false,
   "title_cell": "Table of Contents",
   "title_sidebar": "Contents",
   "toc_cell": false,
   "toc_position": {
    "height": "calc(100% - 180px)",
    "left": "10px",
    "top": "150px",
    "width": "352px"
   },
   "toc_section_display": true,
   "toc_window_display": false
  }
 },
 "nbformat": 4,
 "nbformat_minor": 2
}
