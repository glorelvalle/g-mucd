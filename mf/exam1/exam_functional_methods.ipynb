{
 "cells": [
  {
   "cell_type": "markdown",
   "metadata": {},
   "source": [
    "# The exponential kernel."
   ]
  },
  {
   "cell_type": "markdown",
   "metadata": {},
   "source": [
    "## Functional Methods in Machine Learning \n",
    "Final exam\n",
    "\n",
    "Due date: Monday, 2022/03/07, 13:00\n"
   ]
  },
  {
   "cell_type": "code",
   "execution_count": 1,
   "metadata": {},
   "outputs": [],
   "source": [
    "%load_ext autoreload\n",
    "%autoreload 2\n",
    "import numpy as np\n",
    "import numpy as np\n",
    "from scipy import stats\n",
    "from sklearn import datasets\n",
    "import matplotlib.pyplot as plt\n",
    "\n",
    "\n",
    "import kernel_approximation as ka\n",
    "import kernel_machine_learning as kml\n",
    "import stochastic_plots as stoch\n",
    "\n",
    "np.random.seed(123)"
   ]
  },
  {
   "cell_type": "markdown",
   "metadata": {},
   "source": [
    "## Generation of random samples: Inverse transform sampling.\n",
    "\n",
    "Consider a real-valued random variable whose pdf is $f(x)$. \n",
    "The corresponding cdf is\n",
    "$$\n",
    "F(x) = \\int_{-\\infty}^{x} dx' f(x').\n",
    "$$\n",
    "This inverse of the cdf ($F^{-1}(p)$) can be used to generate random numbers from this distribution using the following algorithm:\n",
    "\n",
    "1. Generate a sample from the $U[0,1]$ distribution $\\left\\{u_m \\right\\}_{m=1}^M $ with $ u_m \\sim U[0,1]$.\n",
    "2. The sample $\\left\\{w_m = F^{-1}(u_m) \\right\\}_{m=1}^M $ is such that $w_m \\sim f(w)$. \n",
    "\n",
    "For instance, the pdf of an exponential distribution defined on the set of non-negative real numbers is\n",
    "$$\n",
    "f(x) = \\lambda e^{-\\lambda x},   x \\ge 0,\n",
    "$$\n",
    "with $\\lambda > 0$.\n",
    "\n",
    "The corresponding cdf is\n",
    "$$\n",
    "F(x) = \\int_{0}^{x} dx \\lambda e^{-\\lambda x} = 1 - e^{-\\lambda x}, \\  x \\ge 0.\n",
    "$$\n",
    "The inverse of the cdf is such that $ F^{-1}(p) = x$.\n",
    "Since $p = F(x) = 1 -e^{-\\lambda x}$, $x = - \\log (1-p) / \\lambda$. Therefore, \n",
    "$$\n",
    "F^{-1}(p) = -\\frac{1}{\\lambda} \\log (1-p), \\ 0 \\le p \\le 1.\n",
    "$$\n",
    "See, for instance, [ https://en.wikipedia.org/wiki/Exponential_distribution ]"
   ]
  },
  {
   "cell_type": "code",
   "execution_count": 22,
   "metadata": {},
   "outputs": [
    {
     "data": {
      "image/png": "[encoded data removed]",
      "text/plain": [
       "<Figure size 432x288 with 1 Axes>"
      ]
     },
     "metadata": {
      "needs_background": "light"
     },
     "output_type": "display_data"
    }
   ],
   "source": [
    "# Generate samples from the exponential distribution.\n",
    "\n",
    "# Exponential distribution\n",
    "def exp_pdf(x, gamma):\n",
    "    return np.exp(-x / gamma) / gamma\n",
    "\n",
    "\n",
    "def exp_cdf(x, lambd):\n",
    "    return 1.0 - np.exp(-x / gamma)\n",
    "\n",
    "\n",
    "def exp_inverse_cdf(p, gamma):\n",
    "    return -gamma * np.log(1.0 - p)\n",
    "\n",
    "\n",
    "# Inverse transform sampling.\n",
    "\n",
    "gamma = 2.0\n",
    "\n",
    "n_samples = 10000\n",
    "U = np.random.rand(n_samples)  # U ~ U[0, 1]\n",
    "X = exp_inverse_cdf(U, gamma)\n",
    "\n",
    "# Define a range for the plot.\n",
    "\n",
    "X_min, X_max = (np.min(X), np.max(X))\n",
    "\n",
    "fontsize = 14\n",
    "fig, ax = stoch.plot_pdf(\n",
    "    X,\n",
    "    lambda x: exp_pdf(x, gamma),\n",
    "    fontsize=fontsize,\n",
    "    fig_num=1,\n",
    ")\n",
    "_ = ax.set_xlabel(\"$x$\", fontsize=fontsize)\n",
    "_ = ax.set_ylabel(\"pdf($x$)\", fontsize=fontsize)"
   ]
  },
  {
   "cell_type": "markdown",
   "metadata": {},
   "source": [
    "## Exponential kernel in 1 dimension\n",
    "\n",
    "The exponential kernel in 1 dimension is\n",
    "$$\n",
    "k(x, x') = k(x - x') = \\exp\\left(- \\frac{\\left|x - x' \\right|}{\\gamma} \\right).\n",
    "$$\n",
    "\n",
    "####  Q1. Express this kernel as the Fourier transform of a density $\\hbox{pdf}(x)$.\n",
    "$$\n",
    "k(x) = \\int_{-\\infty}^{\\infty} e^{i w x} \\text{pdf}(w) dw.\n",
    "$$\n",
    "The density is proportional to the  the inverse Fourier transform of $k(x)$\n",
    "$$\n",
    "\\hbox{pdf}(w) = \\frac{1}{2 \\pi} \\int_{-\\infty}^{\\infty} e^{-i x w} k(x) dx \n",
    "$$\n",
    "\n",
    "**Solution**.\n",
    "\n",
    "We take $k(x) = e^{\\frac{-|x|}{\\gamma}}$, with $\\gamma > 0$. If we evaluate in $x=0$, then $k(0) = 1$.\n",
    "\n",
    "$$\n",
    "\\begin{align*}\n",
    "\\hbox{pdf}(w)  = \\frac{1}{2 \\pi} \\int_{-\\infty}^{\\infty} e^{-i x w} e^{\\frac{|x|}{\\gamma}} dx\n",
    "              &= \\frac{1}{2 \\pi} \\int_{-\\infty}^{0}  e^{-i x w - \\frac{x}{\\gamma}} dx + \\frac{1}{2 \\pi} \\int_{0}^{\\infty} e^{-i x w - \\frac{x}{\\gamma}} dx \\\\\n",
    "              &= \\frac{1}{2\\pi} \\left[ \\left[- \\frac{e^{-i x w - \\frac{x}{\\gamma}}}{i w - \\frac{x}{\\gamma}} \\right]_{-\\infty}^0 + \\left[ - \\frac{e^{-i x w - \\frac{x}{\\gamma}}}{i w + \\frac{x}{\\gamma}} \\right]_0^{\\infty}\\right] \\\\\n",
    "              &= \\frac{1}{2\\pi} \\left[ \\left( \\frac{-1}{iw-\\frac{1}{\\gamma}} \\right) + \\lim_{x \\to -\\infty} \\left( \\frac{e^{-ixw}e^{\\frac{-x}{\\gamma}}}{iw - \\frac 1 \\gamma }\\right)   -    \\left( \\frac{1}{iw+\\frac{1}{\\gamma}} \\right) + \\lim_{x \\to \\infty} \\left( \\frac{e^{-ixw}e^{\\frac{-x}{\\gamma}}}{iw + \\frac 1 \\gamma }\\right) \\right] \\\\\n",
    "              (*) &= \\frac{1}{2\\pi} \\left( \\frac{-1}{iw - \\frac{1}{\\gamma}} - \\frac{1}{iw + \\frac{1}{\\gamma}} \\right) \\\\\n",
    "              &= \\frac 1 \\pi \\left( \\frac{-1}{-\\gamma w^2 - \\frac 1 \\gamma} \\right) \\\\\n",
    "              &= \\frac 1 \\pi \\frac \\gamma \\gamma \\frac{1}{\\gamma w^2 + \\frac 1 \\gamma} \\\\\n",
    "              &= \\frac{\\gamma}{\\pi\\gamma^2 w^2 + \\pi}.\n",
    "\\end{align*}\n",
    "$$\n",
    "\n",
    "(\\*) *Note that $e^{-iwx}$ is bounded and $e^{\\frac{-x}{\\gamma}}$ tends to zero, so all expression tends to zero.*\n",
    "\n",
    "We see that this is pretty similar to a Cauchy PDF. In fact, we could transform this expression, setting scale parameter as $\\frac 1 \\gamma$:\n",
    "\n",
    "$$\n",
    "\\hbox{pdf}(w) =  \\frac{\\gamma}{\\pi\\gamma^2 w^2 + \\pi} = \\frac{\\gamma}{\\pi \\left( w^2 \\gamma^2 + 1 \\right)} = \\frac{1}{\\pi \\gamma' \\left[ \\left( \\frac{x - x_0}{\\gamma'} \\right)^2 + 1 \\right]}.\n",
    "$$\n",
    "\n",
    "We prove our intuition by setting $x_0 = 0$ . Notice that $\\gamma$ and $\\gamma'$ are not the same parameter, so $\\gamma$ is our rate parameter and $\\gamma'$ is the Cauchy scale parameter. *See [Cauchy distribution](https://en.wikipedia.org/wiki/Cauchy_distribution)*.\n",
    "\n",
    "    \n",
    "####  Q2. Derive the cdf and inverse of the cdf for $\\hbox{pdf}(w)$. \n",
    "The corresponding cumulative distribution function is:\n",
    "$$\n",
    "\\hbox{cdf}(w) = \\int_{-\\infty}^w \\hbox{pdf}(w') dw'\n",
    "$$\n",
    "  \n",
    "**Solution**.\n",
    "\n",
    "Following the expression above,\n",
    "\n",
    "$$\n",
    "\\begin{align*}\n",
    "F(w) = \\int_{-\\infty}^w \\hbox{pdf}(x) dx = \\int_{-\\infty}^w  \\frac{\\gamma}{\\pi\\gamma^2 w^2 + \\pi} dx = \\frac \\gamma \\pi \\int_{-\\infty}^w \\frac{1}{\\gamma^2 x^2 + 1} dx.   \n",
    "\\end{align*}\n",
    "$$\n",
    "\n",
    "We solve this integral via [WolframAlpha](https://www.wolframalpha.com/input?i2d=true&i=Divide%5Bγ%2Cπ%5DIntegrate%5BDivide%5B1%2CPower%5Bγ%2C2%5DPower%5Bx%2C2%5D%2B1%5D%2C%7Bx%2C-∞%2Cω%7D%5D),\n",
    "\n",
    "\n",
    "$$\n",
    "\\begin{align*}\n",
    "F(w) = \\frac{2 \\arctan (\\gamma w) + \\pi}{2\\pi} = \\frac{\\arctan (\\gamma w)}{\\pi} + \\frac 1 2.\n",
    "\\end{align*}\n",
    "$$\n",
    "\n",
    "If we take again $w = \\frac{x - x_0}{\\gamma}$, we clearly see that this result corresponds to the [Cauchy CDF](https://en.wikipedia.org/wiki/Cauchy_distribution).\n",
    "\n",
    "Finally, we get the inverse:\n",
    "\n",
    "$$\n",
    "F^{-1} (p) = \\frac 1 \\gamma \\tan \\left( \\pi \\left( p - \\frac 1 2 \\right) \\right).\n",
    "$$\n"
   ]
  },
  {
   "cell_type": "markdown",
   "metadata": {},
   "source": [
    "#### Q3. Use the method of the inverse to generate random numbers sampled from this $\\text{pdf}(w)$."
   ]
  },
  {
   "cell_type": "markdown",
   "metadata": {},
   "source": [
    "First, we define all *pdf* and *cdf* calculated above."
   ]
  },
  {
   "cell_type": "code",
   "execution_count": 2,
   "metadata": {},
   "outputs": [],
   "source": [
    "def kernel_exp_pdf(gamma, x):\n",
    "    \"\"\"Computes exponential kernel pdf\"\"\"\n",
    "    return gamma / np.pi * 1 / (gamma**2 * x**2 + 1)\n",
    "\n",
    "\n",
    "def kernel_exp_cdf(gamma, x):\n",
    "    \"\"\"Computes exponential kernel cdf\"\"\"\n",
    "    return np.arctan(gamma * x) / np.pi + 0.5\n",
    "\n",
    "\n",
    "def kernel_exp_inverse_cdf(gamma, p):\n",
    "    \"\"\"Computes inverse of the cdf functionn from exponential kernel\"\"\"\n",
    "    return 1 / gamma * np.tan(np.pi * (p - 0.5))"
   ]
  },
  {
   "cell_type": "markdown",
   "metadata": {},
   "source": [
    "Then, we generate random numbers sampled from *pdf(w)* using the method of the inverse."
   ]
  },
  {
   "cell_type": "code",
   "execution_count": 5,
   "metadata": {},
   "outputs": [
    {
     "data": {
      "text/plain": [
       "Text(0.5, 1.0, 'Inverse transform sampling from pdf $(x)$ fixed')"
      ]
     },
     "execution_count": 5,
     "metadata": {},
     "output_type": "execute_result"
    },
    {
     "data": {
      "image/png": "[encoded data removed]",
      "text/plain": [
       "<Figure size 1008x360 with 2 Axes>"
      ]
     },
     "metadata": {
      "needs_background": "light"
     },
     "output_type": "display_data"
    }
   ],
   "source": [
    "# Number of samples\n",
    "n = 10000\n",
    "\n",
    "# Gamma parameter\n",
    "gamma = 2.0\n",
    "\n",
    "# u ~ U[0, 1]\n",
    "u = np.random.rand(n)\n",
    "\n",
    "# Inverse transform sampling\n",
    "X = kernel_exp_inverse_cdf(gamma, u)\n",
    "\n",
    "# Plots\n",
    "_, ax = plt.subplots(1, 2, figsize=(14, 5))\n",
    "\n",
    "_ = stoch.plot_pdf(\n",
    "    X,\n",
    "    lambda x: kernel_exp_pdf(gamma, x),\n",
    "    fontsize=14,\n",
    "    ax=ax[0],\n",
    ")\n",
    "\n",
    "# Try clipping axis\n",
    "X_ = X[np.abs(X) < 10.0]\n",
    "\n",
    "_ = stoch.plot_pdf(\n",
    "    X_,\n",
    "    lambda x: kernel_exp_pdf(gamma, x),\n",
    "    fontsize=14,\n",
    "    ax=ax[1],\n",
    ")\n",
    "\n",
    "# Set titles\n",
    "ax[0].set_title(r\"Inverse transform sampling from pdf $(x)$\")\n",
    "ax[1].set_title(r\"Inverse transform sampling from pdf $(x)$ fixed\")"
   ]
  },
  {
   "cell_type": "markdown",
   "metadata": {},
   "source": [
    "## Exponential kernel in $D$ dimensions.\n",
    "\n",
    "Consider the exponential kernel in $D$ dimensions\n",
    "$$ k(\\mathbf{x}, \\mathbf{x}') = k(\\mathbf{x}- \\mathbf{x}') = \\exp\\left\\{- \\frac{\\lVert \\mathbf{x}- \\mathbf{x}' \\rVert_1}{\\gamma} \\right\\},$$\n",
    "with the $L_1$ norm\n",
    "$$ \\lVert \\mathbf{x}- \\mathbf{x}' \\rVert_1 = \\sum_{d=1}^D \\left|x_d \\right|.$$\n",
    "\n",
    "The Fourier transform of the exponential kernel in $D$ dimensions is proportional to a pdf:\n",
    "$$\n",
    "\\text{pdf}(\\mathbf{w}) \\propto \\int_{\\mathbb{R}^D} e^{-i \\mathbf{w}^T \\mathbf{x}} \\exp\\left\\{- \\frac{\\lVert \\mathbf{x} \\rVert_1}{\\gamma} \\right\\} d \\mathbf{x}.\n",
    "$$\n",
    "\n",
    "#### Q4. Compute the Fourier transform of the exponential kernel in $D$ dimensions.\n",
    "The inverse Fourier transform of a translationally invariante kernel\n",
    "$$\n",
    "k(\\mathbf{x}, \\mathbf{x}') = k(\\mathbf{x} - \\mathbf{x}').\n",
    "$$\n",
    "is\n",
    "$$\n",
    "\\text{pdf}(\\mathbf{w}) = \\frac{1}{\\left(2 \\pi\\right)^D} \\int_{\\mathbb{R}^D} e^{- i \\mathbf{w}^T \\mathbf{x}} k(\\mathbf{x}) d\\mathbf{x}\n",
    "$$\n",
    "\n",
    "**Solution**.\n",
    "\n",
    "$$\n",
    "\\begin{align*}\n",
    "\\hbox{pdf}(\\mathbf{w}) \n",
    "    &= \\frac{1}{\\left(2 \\pi\\right)^D} \\int_{\\mathbb{R}^D} e^{- i \\mathbf{w}^T \\mathbf{x}} k(\\mathbf{x}) d\\mathbf{x} \\\\\n",
    "    &= \\frac{1}{\\left(2 \\pi\\right)^D} \\int_{\\mathbb{R}^D} \\exp \\left\\{ -i w^T x \\right\\} \\exp \\left\\{ \\frac{- \\lVert \\mathbf{x} \\rVert_1}{\\gamma} \\right\\} d\\mathbf{x}.\n",
    "\\end{align*}\n",
    "$$\n",
    "\n",
    "We apply previous definition of $L_1$ norm. Notice that we have $D$ dimensions and $\\mathbf{x}$ and $\\mathbf{w}$ are vectors of size $D$. Then we have,\n",
    "\n",
    "$$\n",
    "\\begin{align*}\n",
    "\\hbox{pdf}(\\mathbf{w})\n",
    "    &= \\frac{1}{\\left(2 \\pi\\right)^D} \\int_{\\mathbb{R}^D} \\exp \\left\\{ - \\sum_{d=1}^D i w_d x_d - \\frac{| \\mathbf{x_d}|}{\\gamma} \\right\\} d\\mathbf{x}.\n",
    "\\end{align*}\n",
    "$$\n",
    "\n",
    "Now we notice that in $D$ dimensions space it is equivalent to the expression below.\n",
    "\n",
    "$$\n",
    "\\hbox{pdf}(\\mathbf{w})\n",
    "    = \\prod_{d=1}^{D} \\frac{1}{\\left(2 \\pi\\right)^D} \\int_{\\mathbb{R}^D} \\exp \\left\\{ - i w_d x_d \\right\\} \\exp \\left\\{ - \\frac{| \\mathbf{x_d}|}{\\gamma} \\right\\} d\\mathbf{x}\n",
    "    = \\prod_{d=1}^{D} \\hbox{pdf}(w).\n",
    "$$\n",
    "\n"
   ]
  },
  {
   "cell_type": "markdown",
   "metadata": {},
   "source": [
    "#### Q5. Use the method of the inverse to generate random numbers sampled from $\\text{pdf}(\\mathbf{w})$.\n",
    "\n",
    "*Hint:* If the 1D implementation is vectorized, the answer to this question is straightforward.\n",
    "\n",
    "As we noticed before, it seems that we can sample from the multivariate probability distribution assuming that every *pdf* is independent."
   ]
  },
  {
   "cell_type": "code",
   "execution_count": 6,
   "metadata": {},
   "outputs": [
    {
     "data": {
      "image/png": "[encoded data removed]",
      "text/plain": [
       "<Figure size 1008x360 with 2 Axes>"
      ]
     },
     "metadata": {
      "needs_background": "light"
     },
     "output_type": "display_data"
    }
   ],
   "source": [
    "# Set n dimensions\n",
    "D = 2\n",
    "\n",
    "# Sampling parameters\n",
    "gamma = 2.0\n",
    "n = 10000\n",
    "\n",
    "# u ~ U[0, 1]\n",
    "u = np.random.rand(n, D)\n",
    "\n",
    "# Inverse transform sampling\n",
    "X = kernel_exp_inverse_cdf(gamma, u)\n",
    "\n",
    "# Plot histogram vs pdf on each dimension\n",
    "_, ax = plt.subplots(1, 2, figsize=(14, 5))\n",
    "\n",
    "# Clipping axis\n",
    "X_ = X[np.array(np.abs(X) < 12.0).all(axis=1)].T\n",
    "\n",
    "_ = stoch.plot_pdf(\n",
    "    X_[0],\n",
    "    lambda x: kernel_exp_pdf(gamma, x),\n",
    "    ax=ax[0],\n",
    "    fontsize=14,\n",
    ")\n",
    "\n",
    "_ = stoch.plot_pdf(\n",
    "    X_[1],\n",
    "    lambda x: kernel_exp_pdf(gamma, x),\n",
    "    ax=ax[1],\n",
    "    fontsize=14,\n",
    ")\n",
    "\n",
    "ax[0].set_title(r\"Inverse transform sampling from pdf $(x, y)$ projected on $x$\")\n",
    "ax[1].set_title(r\"Inverse transform sampling from pdf $(x, y)$ projected on $y$\")\n",
    "ax[1].set_ylabel(r\"pdf$(y)$\")\n",
    "ax[1].set_xlabel(r\"y\")\n",
    "plt.show()"
   ]
  },
  {
   "cell_type": "markdown",
   "metadata": {},
   "source": [
    "\n",
    "\n",
    "\n",
    "#### Q6. Write code to generate random Fourier Features corresponding to the exponential kernel in D dimensions.\n",
    "\n",
    "Complete the code for the class \n",
    "\n",
    "```python\n",
    "class RandomFeaturesSamplerExp(RandomFeaturesSampler):\n",
    "```\n",
    "in the file \n",
    "``` \n",
    "kernel_approximation.py\n",
    "```\n",
    "\n"
   ]
  },
  {
   "cell_type": "markdown",
   "metadata": {},
   "source": [
    "### Generation of Random Fourier Features: Alternative sampling scheme.\n",
    "\n",
    "Consider the translationally invariant kernel $k\\left(\\mathbf{x}, \\mathbf{x}'\\right) = k\\left(\\mathbf{x} - \\mathbf{x}'\\right)$, with $\\mathbf{x}, \\mathbf{x}' \\in \\mathbb{R}^D$.\n",
    "\n",
    "Acording to Bochner's theorem, this type of kernel can be expressed as the Fourier transform of a (possibly not normalized) density $p(\\mathbf{w})$\n",
    "$$\n",
    "k\\left(\\mathbf{x} - \\mathbf{x}'\\right) = \\int_{-\\infty}^{\\infty} d\\mathbf{w} p\\left(\\mathbf{w}\\right) e^{i \\mathbf{w}^T \\left(\\mathbf{x} - \\mathbf{x}'\\right)}.\n",
    "$$\n",
    "Since the kernel funtion is real and symmetric, this expression can be written as \n",
    "$$\n",
    "k\\left(\\mathbf{x} - \\mathbf{x}'\\right) = \\int_{-\\infty}^{\\infty} d\\mathbf{w} p\\left(\\mathbf{w}\\right) \\cos \\left(\\mathbf{w}^T \\left(\\mathbf{x} - \\mathbf{x}'\\right) \\right).\n",
    "$$\n",
    "\n",
    "Show that the set of random features\n",
    "$$\n",
    "\\left\\{ \\left( \\cos \\mathbf{w}^T \\mathbf{x}, \\sin \\mathbf{w}^T \\mathbf{x} \\right); \\mathbf{w} \\sim p(\\mathbf{w})\\right\\}.\n",
    "$$\n",
    "and the set \n",
    "$$\n",
    "\\left\\{\\sqrt{2} \\cos \\left(\\mathbf{w}^T \\mathbf{x} + b \\right); \\ \\mathbf{w} \\sim p(\\mathbf{w}); \\ b \\sim U[0 , 2 \\pi]; \\ \\mathbf{w} \\perp b\\right\\}\n",
    "$$\n",
    "provide the same approximation of the kernel."
   ]
  },
  {
   "cell_type": "markdown",
   "metadata": {},
   "source": [
    "#### The kernel approximation using the first type of features is\n",
    "$$\n",
    "k\\left(\\mathbf{x}, \\mathbf{x}'\\right) = \\int_{-\\infty}^{\\infty} d\\mathbf{w} p(\\mathbf{w}) \\left( \\cos \\mathbf{w}^T \\mathbf{x}, \\, \\sin \\mathbf{w}^T \\mathbf{x} \\right) \\left( \\cos \\mathbf{w}^T \\mathbf{x}', \\, \\sin \\mathbf{w}^T \\mathbf{x}' \\right)^T \n",
    "= \\int_{-\\infty}^{\\infty} d\\mathbf{w} p(\\mathbf{w}) \\left( \\cos \\mathbf{w}^T \\mathbf{x}  \\, \\cos \\mathbf{w}^T \\mathbf{x}' + \\sin \\mathbf{w}^T \\mathbf{x} \\,  \\sin \\mathbf{w}^T \\mathbf{x}' \\right) = \\int_{-\\infty}^{\\infty} d\\mathbf{w} p(\\mathbf{w}) \\cos \\left( \\mathbf{w}^T \\left( \\mathbf{x} - \\mathbf{x}' \\right) \\right).\n",
    "$$\n",
    "\n",
    "#### Q7. Derive the kernel approximation using the second type of features.\n",
    "\n",
    "**Solution**.\n",
    "\n",
    "We can denote the first set as $\\Phi_w^{(1)}$, and the second set as $\\Phi_{w,b}^{(2)}$, so $k(x-x') = \\mathbb{E} \\left[ \\Phi^{T}(x) \\Phi (x') \\right]$. Following the approximation above, we can derive the kernel approximation using the second type of features as follows:\n",
    "\n",
    "$$\n",
    "\\begin{align*}\n",
    "    \\mathbb{E}_{w,b} \\left[ \\left( \\Phi^{(2)}_{w} (x) \\right)^T \\Phi^{(2)} (x') \\right] &= \\mathbb{E}_{w,b} \\left[ 2\\cos(w^Tx+b)\\cos(w^Tx'+b) \\right] \\\\\n",
    "                                                                                    (1^*) &= \\mathbb{E}_{w,b} \\left[ \\cos(w^Tx + b + w^Tx' + b) + \\cos(w^Tx + b - w^Tx' - b) \\right] \\\\\n",
    "                                                                                          &= \\mathbb{E}_{w,b} \\left[ \\cos (w^T(x + x') + 2b)) + \\cos(w^T(x - x'))\\right] \\\\\n",
    "                                                                                    (2^*) &= \\mathbb{E}_w \\big[ \\underbrace{\\mathbb{E}_b \\left[ \\cos (w^T(x + x') + \\cancel{2b}^{0})) \\right]}_{0} \n",
    "                                                                                                                            + \\mathbb{E}_b \\left[ \\cos(w^T(x - x')) \\right] \\big] \\\\\n",
    "                                                                                          &= \\mathbb{E}_w \\left[ \\mathbb{E}_b (\\cos (w^T (x-x'))) \\right] \\\\\n",
    "                                                                                    (3^*) &= \\int_{-\\infty}^{\\infty} d\\mathbf{w} p(\\mathbf{w}) \\cos \\left( \\mathbf{w}^T \\left( \\mathbf{x} - \\mathbf{x}' \\right) \\right) \\\\\n",
    "                                                                                          &= k(x-x').\n",
    "\\end{align*}\n",
    "$$\n",
    "\n",
    "*$(1^{*})$* Remember that $2\\cos \\alpha \\cos \\beta = \\cos(\\alpha + \\beta) + \\cos(\\alpha - \\beta)$.\n",
    "\n",
    "*$(2^{*})$* Linearity of expectation.\n",
    "\n",
    "*$(3^{*})$* Böchner theorem.\n",
    "\n",
    "*Bibliography: [Random Features for Large-Scale Kernel Machines](https://people.eecs.berkeley.edu/~brecht/papers/07.rah.rec.nips.pdf)*"
   ]
  },
  {
   "cell_type": "markdown",
   "metadata": {},
   "source": []
  },
  {
   "cell_type": "markdown",
   "metadata": {},
   "source": [
    "#### Q8. Implement the sampling method based on the second type of random features.\n",
    "\n",
    "Fill in the corresponding code in the file \n",
    "``` \n",
    "kernel_approximation.py\n",
    "```\n",
    "We implemented this sampling method following a Monte Carlo sampling scheme. First, we generate an *iid* sample  $\\left\\{ \\mathbf{w} \\sim p(\\mathbf{w}); j = 1,...,J \\right\\}$. Then, we compute the random features, approximating the expression above to a finite series\n",
    "\n",
    "$$\n",
    "\\begin{align*}\n",
    "    k(x-x') &\\approx \\frac 1 J \\sum_{j=1}^J \\left(  \\left( \\Phi^{(2)}_{w} (x) \\right)^T \\Phi^{(2)} (x') \\right)\n",
    "            &=^* \\sum_{j=1}^J \\sqrt{\\frac 2 J} \\left( \\hat \\Phi^{(2)}_{w} (x) \\right)^T  \\sqrt{\\frac 2 J}  \\hat \\Phi^{(2)} (x') \\underset{J \\to \\infty}{\\to} k(x-x')\n",
    "\\end{align*}\n",
    "$$\n",
    "\n",
    "*(\\*)* Note that $\\left( \\Phi^{(2)}_{w} (x) \\right)^T \\Phi^{(2)} (x') = 2\\cos(w^Tx+b)\\cos(w^Tx'+b)$.\n"
   ]
  },
  {
   "cell_type": "markdown",
   "metadata": {},
   "source": [
    "#### Q9. Illustrate that both types of feaures approximate the exponential kernel when $p(\\mathbf{w})$ is the inverse Fourier transform of the exponential kernel in $D$ dimensions. \n",
    "\n"
   ]
  },
  {
   "cell_type": "code",
   "execution_count": 34,
   "metadata": {},
   "outputs": [],
   "source": [
    "## Generate data\n",
    "# 3-D data\n",
    "n_instances = 1000\n",
    "X, t = datasets.make_s_curve(n_instances, noise=0.1)\n",
    "X = X[np.argsort(t)]"
   ]
  },
  {
   "cell_type": "code",
   "execution_count": 5,
   "metadata": {},
   "outputs": [],
   "source": [
    "# Approximate the exponential kernel using Random Fourier Features.\n",
    "\n",
    "length_scale = 2.0\n",
    "A = 1.0\n",
    "\n",
    "\n",
    "def kernel(X, Y):\n",
    "    return kml.exponential_kernel(X, Y, A=1.0, l=length_scale)\n",
    "\n",
    "\n",
    "## Create instances of the random features sampler\n",
    "\n",
    "#  <YOUR ANSWER HERE>"
   ]
  },
  {
   "cell_type": "markdown",
   "metadata": {},
   "source": [
    "### Q10. Train and evaluate different classifiers.\n",
    "\n",
    "Solve the classification problem using different kernel methods using the same data in\n",
    "\n",
    "https://scikit-learn.org/stable/auto_examples/miscellaneous/plot_kernel_approximation.html#sphx-glr-auto-examples-miscellaneous-plot-kernel-approximation-py\n",
    "\n",
    "**To get more stable results, the process should be repeated for $10$ different random train / test partitions of the data.**\n",
    "\n",
    "Using 5-fold cross validation on the training data, determine the optimal values of the hyperparameter for the following cases: \n",
    "1. Non-linear SVM + RBF kernel [C, gamma]\n",
    "2. Linear SVM + RBF random features [C, gamma, n_features]\n",
    "3. Linear SVM + RBF Nyström features [C, gamma, n_features]\n",
    "4. Non-linear SVM + exponential kernel [C, length_scale] \n",
    "5. Linear SVM + exponential random features [C, length_scale, n_features]\n",
    "6. Linear SVM + exponential Nyström features [C, length_scale, n_features]\n",
    "\n",
    "##### NOTES\n",
    "* Determine the hyperparameter grid on which the search is made using references from the literature. Include those references in the Chicago citation format ( https://www.chicagomanualofstyle.org/tools_citationguide/citation-guide-2.html).\n",
    "\n",
    "* It may be useful to vary one of the hyperparameters while keeping the other fixed (include those plots in your report). For instance, for $n_{features}$. \n",
    "\n",
    "##### REPORT:\n",
    "* Plot the curve that traces the dependence of the CV, training and test error as a function of $n_{features}$ for a fixed value of the other parameters.\n",
    "* Train final models with the values of the optimal hyperparameters.  \n",
    "* Provide in a table the mean and the standard deviation of the training error, the cross-validation error and test error for each of the 6 methods considered.\n",
    "* Provide in a table the mean and the standard deviation of the times for the cross-validation step, for the final training time, and for the prediction time in the test set. To this end, use the Python library $\\texttt{timeit}$."
   ]
  },
  {
   "cell_type": "markdown",
   "metadata": {},
   "source": [
    "### Sklearn resources.\n",
    "\n",
    "1. Non-linear SVM for classification: https://scikit-learn.org/stable/modules/generated/sklearn.svm.SVC.html\n",
    "\n",
    "2. Linear SVM for classification: https://scikit-learn.org/stable/modules/generated/sklearn.svm.LinearSVC.html\n",
    "\n",
    "3. Cross-validation: https://scikit-learn.org/stable/modules/generated/sklearn.model_selection.GridSearchCV.html#sklearn.model_selection.GridSearchCV\n",
    "\n",
    "4. Timing and accuracy plots for random Fourier Features and Nyström features: https://scikit-learn.org/stable/modules/generated/sklearn.kernel_approximation.RBFSampler.html"
   ]
  },
  {
   "cell_type": "code",
   "execution_count": null,
   "metadata": {},
   "outputs": [],
   "source": []
  }
 ],
 "metadata": {
  "kernelspec": {
   "display_name": "Python 3 (ipykernel)",
   "language": "python",
   "name": "python3"
  },
  "language_info": {
   "codemirror_mode": {
    "name": "ipython",
    "version": 3
   },
   "file_extension": ".py",
   "mimetype": "text/x-python",
   "name": "python",
   "nbconvert_exporter": "python",
   "pygments_lexer": "ipython3",
   "version": "3.9.9"
  }
 },
 "nbformat": 4,
 "nbformat_minor": 4
}
