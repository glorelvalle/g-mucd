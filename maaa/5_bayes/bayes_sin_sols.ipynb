{
 "cells": [
  {
   "cell_type": "markdown",
   "metadata": {},
   "source": [
    "# Introducción a Métodos Bayesianos\n",
    "\n",
    "Índice:\n",
    "* Bases de probabilidad\n",
    "* Marginalización, probabilidades condicionadas (reducción) y factorización de probabilidad: redes bayesianas\n",
    "* Independencia y caminos activos\n",
    "* Algoritmo de eliminación de variables \n",
    "\n",
    "## Bases de probabilidad\n",
    "\n",
    "Dominio de una variable determina el conjunto de valores que puede tomar. Los dominios puedes ser discretos o continuos. Algunos ejemplos:\n",
    "* dom(tirar un dado) = {1,2,3,4,5,6}\n",
    "* dom(moneda) = {cara, cruz}\n",
    "* dom(nota) = [1, 10]\n",
    "\n",
    "Notación: Para las variables aleatorias vamos a usar letras mayúsculas y para posibles asignaciones letras minúsculas. Por ejemplo, si X representa tirar una moneda podríamos poner dom(X)={cara,cruz} y decir que P(X=cara)=0'5\n",
    "\n",
    "#### Reglas de probabilidad:\n",
    "\n",
    "* Regla de la suma: $P(A) + P(\\bar{A}) = 1$ y en general \n",
    "\n",
    "$$ \\sum_{x \\in dom(X)} P(X=x) = 1 $$\n",
    "\n",
    "* Regla del producto: $P(A,B) = P(A|B)P(B) = P(B|A)P(A)$\n",
    "* Regla de la cadena (extensión de la regla del producto):     \n",
    "\n",
    "$$P(A,B,C,D) = P(A|B,C,D)P(B,C,D) = \\\\ = P(A|B,C,D)P(B|C,D)P(C,D) = \\\\ = P(A|B,C,D)P(B|C,D)P(C|D)P(D) $$\n",
    "\n",
    "* Regla de Bayes:\n",
    "Es despejar en la regla del producto $P(A|B)P(B) = P(B|A)P(A)$ para obtener\n",
    "\n",
    "$$ P(A|B) = \\frac{P(B|A)P(A)}{P(B)} $$\n",
    "\n",
    "En general se utiliza para tomar decisiones. Cambiando A por hipóstesis (H) y B por datos (D) tenemos\n",
    "\n",
    "$$ P(H|D) = \\frac{P(D|H)P(H)}{P(D)} $$\n",
    "\n",
    "y cada término es\n",
    "\n",
    "* P(H): Probabilidad a priori de la hipótesis\n",
    "* P(D|H): Verosimilitud de los datos suponiendo H es cierta\n",
    "* P(D): Evidencia\n",
    "* P(H|D): Probabilidad a posteriori\n",
    "\n",
    "### Marginalización de una variable\n",
    "\n",
    "Si tenemos una distribución de probabilidad de dos variables P(A,B) y queremos saber P(A), debemos marginalizar B, esto es\n",
    "\n",
    "$$P(A|I)=\\sum_{i=1}^K P(A,B = b_k|I)$$\n",
    "\n",
    "asumiendo que el dominio de B es $dom(B)=\\{b_1,\\dots,b_K\\}$. Donde se está aplicando la regla de la suma. \n",
    "\n",
    "Ej. ¿Cuál es la probabilidad de sacar sobresaliente, P(N=sob)? Podríamos decir que depende de la dificultad del examen (El examen puede se fácil, normal o difícil)\n",
    "\n",
    "$ P(N=sob) = P(N=sob, Ex=facil) +  P(N=sob, Ex=normal)  + P(N=sob, Ex=dificil)$\n",
    "\n",
    "### Independencia de variables\n",
    "\n",
    "Si A y B son independientes entonces:\n",
    "\n",
    "$$ P(A,B) = P(A|B)P(B) = P(A)P(B) $$\n",
    "\n",
    "Independencia significa que conocer una de las variables no nos aporta información adicional sobre el estado de la otra.\n",
    "\n",
    "### Distribución conjunta\n",
    "\n",
    "Una distribución de probabilidad en varias variables"
   ]
  },
  {
   "cell_type": "markdown",
   "metadata": {},
   "source": [
    "#### Ejemplo \n",
    "\n",
    "Consideramos la distribución conjunta que relaciona para un estudiante con las variables nota examen (G), dificultad examen (D) e Inteligencia (I)\n",
    "\n",
    "* Nota examen (G): g0 (sobresaliente), g1 (notable), g2 (aprobado)\n",
    "* Dificultad examen (D): d0 (fácil) y d1 (difícil)\n",
    "* Inteligencia (I): i0 (normal), i1 (alta)\n",
    "\n",
    "| I | D | G | P(I,D,G)  |\n",
    "|---|---|---|---|\n",
    "| i0  | d0  | g0  | 0.126  |\n",
    "| i0  | d0  | g1  | 0.168  |\n",
    "| i0  | d0  | g2  | 0.126  |\n",
    "| i0  | d1  | g0  | 0.014  |\n",
    "| i0  | d1  | g1  | 0.070  |\n",
    "| i0  | d1  | g2  | 0.196  |\n",
    "| i1  | d0  | g0  | 0.162  |\n",
    "| i1  | d0  | g1  | 0.0144  |\n",
    "| i1  | d0  | g2  | 0.0036  |\n",
    "| i1  | d1  | g0  | 0.06  |\n",
    "| i1  | d1  | g1  | 0.036  |\n",
    "| i1  | d1  | g2  | 0.024  |\n",
    "\n",
    "\n",
    "Algunas consideraciones:\n",
    "\n",
    "* La suma de todas las probs de esta tabla debe ser 1, ya que es una distribución de probabilidad\n",
    "* La tabla asigna una probabilidad a cada combinación posible, esto es a 2 x 2 x 3 combinaciones\n",
    "* Hay $12 - 1$ parámetros independientes\n",
    "\n"
   ]
  },
  {
   "cell_type": "code",
   "execution_count": 1,
   "metadata": {},
   "outputs": [
    {
     "data": {
      "text/plain": [
       "array([[[0.126 , 0.168 , 0.126 ],\n",
       "        [0.014 , 0.07  , 0.196 ]],\n",
       "\n",
       "       [[0.162 , 0.0144, 0.0036],\n",
       "        [0.06  , 0.036 , 0.024 ]]])"
      ]
     },
     "execution_count": 1,
     "metadata": {},
     "output_type": "execute_result"
    }
   ],
   "source": [
    "# Definimos la distrb de arriba como una matriz de 2 x 2 x 3\n",
    "\n",
    "import numpy as np\n",
    "\n",
    "probs = np.array([0.126, 0.168, 0.126, 0.014, 0.07, 0.196, 0.162, 0.0144, 0.0036, 0.06, 0.036, 0.024])\n",
    "probs = probs.reshape((2,2,3))\n",
    "probs\n",
    "# Definimos el orden de las variables en las dimensiones de una\n",
    "# matriz de 3D como \n",
    "#\n",
    "# Dimensión -> 0  1  2\n",
    "# Variable  -> I, D, G"
   ]
  },
  {
   "cell_type": "markdown",
   "metadata": {},
   "source": [
    "##### Ejercicio\n",
    "Algunas consultas:\n",
    " \n",
    "1. ¿Cuál es la probabilidad de que un estudiante al azar tenga inteligencia normal, saque sobresaliente y el examen sea fácil? \n",
    "2. ¿Cuál es la probabilidad de sacar sobresaliente sin tener en cuenta nada más? ¿Y notable? ¿Y aprobado?\n",
    "3. Dado que el examen era fácil y que el estudiante tiene una inteligencia alta, ¿Cuál es la distribucion de probabilidad de las notas?"
   ]
  },
  {
   "cell_type": "code",
   "execution_count": 32,
   "metadata": {},
   "outputs": [],
   "source": [
    "# respuesta 1\n",
    "#print('P(G=g0,D=d0,I=i0) =', XXX) \n",
    "\n",
    "# respuesta 2 -> Marginalizar variables\n",
    "#print('P(G=g0) =', XXX)\n",
    "#print('P(G=g1) =', XXX)\n",
    "#print('P(G=g2) =', XXX)\n",
    "\n",
    "# respuesta 3  -> Reducir y renormalizar\n",
    "#print('P(G|D=d0,I=i1) = P(G,D=d0,I=i1)/P(D=d0,I=i1)', XXX)"
   ]
  },
  {
   "cell_type": "markdown",
   "metadata": {},
   "source": [
    "### Marginalizar\n",
    "\n",
    "| I | D | G | P(I,D,G)  |\n",
    "|---|---|---|---|\n",
    "| i0  | d0  | g0  | 0.126  |\n",
    "| i0  | d0  | g1  | 0.168  |\n",
    "| i0  | d0  | g2  | 0.126  |\n",
    "| i0  | d1  | g0  | 0.014  |\n",
    "| i0  | d1  | g1  | 0.070  |\n",
    "| i0  | d1  | g2  | 0.196  |\n",
    "| i1  | d0  | g0  | 0.162  |\n",
    "| i1  | d0  | g1  | 0.0144  |\n",
    "| i1  | d0  | g2  | 0.0036  |\n",
    "| i1  | d1  | g0  | 0.06  |\n",
    "| i1  | d1  | g1  | 0.036  |\n",
    "| i1  | d1  | g2  | 0.024  |\n",
    "\n",
    "$$ P(D,G) = \\sum_{i=i0}^{i1} P(I=i,D,G)  $$\n",
    "\n",
    "| D | G | P(D,G)  |\n",
    "|---|---|---|\n",
    "| d0  | g0  | 0.126 + 0.162  = 0.288 |\n",
    "| d0  | g1  | 0.168 + 0.0144 = 0.1824 |\n",
    "| d0  | g2  | 0.126 + 0.0036 = 0.1296 |\n",
    "| d1  | g0  | 0.014 + 0.06   = 0.074 |\n",
    "| d1  | g1  | 0.070 + 0.036  = 0.106 |\n",
    "| d1  | g2  | 0.196 + 0.024  = 0.22 |\n",
    "\n",
    "$$ P(G) = \\sum_{d=d0}^{d1} P(D=d,G)  $$\n",
    "\n",
    "| G | P(D,G)  |\n",
    "|---|---|\n",
    "| g0  |  0.288 + 0.074 = 0.362     |\n",
    "| g1  | 0.1824 + 0.106 = 0.2884   |\n",
    "| g2  | 0.1296 + 0.22  = 0.3496 |\n",
    "\n",
    "### Condicionar (reducir y normalizar)\n",
    "Si sabemos ya algunos valores (p.e. examen era fácil y el estudiante tiene una inteligencia alta), podemos eliminar todas las combinaciones no compatibles con las observaciones. Para D=d0 y I=i1 la tabla se reduce a:\n",
    "\n",
    "| I | D | G | P(I,D,G)  |\n",
    "|---|---|---|---|\n",
    "| i0  | d0  | g0  | ~~0.126~~  |\n",
    "| i0  | d0  | g1  | ~~0.168~~  |\n",
    "| i0  | d0  | g2  | ~~0.126~~  |\n",
    "| i0  | d1  | g0  | ~~0.014~~  |\n",
    "| i0  | d1  | g1  | ~~0.070~~  |\n",
    "| i0  | d1  | g2  | ~~0.196~~  |\n",
    "| i1  | d0  | g0  | 0.162  |\n",
    "| i1  | d0  | g1  | 0.0144  |\n",
    "| i1  | d0  | g2  | 0.0036  |\n",
    "| i1  | d1  | g0  | ~~0.06~~ |\n",
    "| i1  | d1  | g1  | ~~0.036~~  |\n",
    "| i1  | d1  | g2  | ~~0.024~~  |\n",
    "\n",
    "Los valores resultantes no son una distriibución de probabilidad ya que no suman 1. Para hacer que lo sea se pueden renormalizar y tendríamos\n",
    "\n",
    "$$ P(G|I=i1,D=d0) = \\frac{P(G,I=i1,D=d0)}{P(I=i1,D=d0)} $$\n",
    "\n",
    "| G | P(G\\|I=i1,D=d0) |\n",
    "|---|---|\n",
    "| g0  | 0.9   |\n",
    "| g1  | 0.08   |\n",
    "| g2  | 0.02   |\n",
    "\n"
   ]
  },
  {
   "cell_type": "code",
   "execution_count": 3,
   "metadata": {},
   "outputs": [
    {
     "data": {
      "text/plain": [
       "array([[[0.9 , 0.08, 0.02]]])"
      ]
     },
     "execution_count": 3,
     "metadata": {},
     "output_type": "execute_result"
    }
   ],
   "source": [
    "def normalize(distribution):\n",
    "    return distribution/np.sum(distribution)\n",
    "\n",
    "def reduce(distribution, variables, asignments, normalize_output=True):\n",
    "    \"\"\" This function receives a distribution, \n",
    "        a list of indices to variables and \n",
    "        a list of the assignements to those variables \"\"\"\n",
    "    \n",
    "    reduced = distribution.copy()\n",
    "    \n",
    "    for variable, asignment in zip(variables,asignments):\n",
    "        reduced = np.swapaxes(reduced, 0, variable)[[asignment]]\n",
    "        reduced = np.swapaxes(reduced, 0, variable)\n",
    "        \n",
    "    return normalize(reduced) if normalize_output else reduced\n",
    "\n",
    "dr = reduce(probs, [0,1], [1,0])\n",
    "dr"
   ]
  },
  {
   "cell_type": "code",
   "execution_count": 4,
   "metadata": {},
   "outputs": [
    {
     "data": {
      "text/plain": [
       "array([[[0.362 , 0.2884, 0.3496]]])"
      ]
     },
     "execution_count": 4,
     "metadata": {},
     "output_type": "execute_result"
    }
   ],
   "source": [
    "def marginal(distribution, variables):\n",
    "    \"\"\" Marginalizes the distributions for the given list of variables \"\"\"\n",
    "    \n",
    "    return np.sum(distribution, axis=tuple(variables), keepdims=True)\n",
    "\n",
    "P_G = marginal(probs, [0,1])\n",
    "P_G"
   ]
  },
  {
   "cell_type": "markdown",
   "metadata": {},
   "source": [
    "##### Ejercicio\n",
    "Comprueba si las variables I y D son independientes, esto es si $P(I,D) = P(I)P(D)$\n",
    "\n",
    "Pista 1: Primero debes marginalizar G para obtener $P(I,D)$\n",
    "\n",
    "Pista 2: A continuación puedes comprobar si $P(I|D)$ es igual a $P(I)$ y $P(D|I)$ es igual a $P(D)$.\n"
   ]
  },
  {
   "cell_type": "code",
   "execution_count": null,
   "metadata": {},
   "outputs": [],
   "source": []
  },
  {
   "cell_type": "markdown",
   "metadata": {},
   "source": [
    "### Factorización\n",
    "\n",
    "Cuando dos probabilidades son independientes se dice que su distribución conjunta factoriza, es decir, que se puede descomponer en el producto de dos factores o distribuciones independientes. Para la distribución anterior podemos escribir aplicando la regla de la cadena y el hecho de que I y D son independientes:\n",
    "\n",
    "$$ P(I,D,G) = P(G|I,D)P(I,D) = P(G|I,D)P(I)P(D) $$\n",
    "\n",
    "es decir la distribución conjunta se puede escribir como el producto de tres factores.\n",
    "\n",
    "\n",
    "\n",
    "### Redes de Bayes\n",
    "\n",
    "Este tipo de relaciones en una distribución se pueden representar con un grafo denominado red bayesiana. \n",
    "Una red bayesiana reresenta una distribución conjunta a través de la regla de la cadena en forma de grafo acíclico dirigido, donde:\n",
    "\n",
    "* Los vértices del grafo son las distribuciones condicionadas de probabilidad (CPD) asociadas a cada una de las variables de la distribución $\\{X_1, X_2, \\dots, X_N\\}$\n",
    "* Las aristas son las dependencias de probabilidad entre las variables dadas por la regla de la cadena.\n",
    "\n",
    "Esta representación utiliza que cualquier distribución conjunta de variables se puede escribir mediante la regla de la cadena como un producto de distribuciones condicionadas\n",
    "\n",
    "$$ P(X_1, X_2, \\dots, X_N) = \\prod_{i=1}^N P(X_i|Par(X_i))$$\n",
    "\n",
    "donde $Par(X_i)$ son el conjunto de variables que condicionan a $X_i$ (o variables progenitores).\n",
    "\n",
    "Por ejemplo, para la siguiente distribución y descomposición con la regla de la cadena:\n",
    "\n",
    "$$ P(A,B,C,D) = P(A|B,C,D)P(B|C,D)P(C|D)(D) $$\n",
    "\n",
    "la red de bayes asociada sería\n",
    "\n",
    "![bayesnet](g920.png)\n",
    "\n",
    "Este caso, la distribución no incluye ninguna independencia entre variables y de hecho podría tener muchas representaciones equivalentes si aplicamos la regla de la cadena de otra forma. \n",
    "\n",
    "Si existen independencias entre las varibables de la distribución entonces la distribución conjunta y los grafos asociados se simplifican.\n",
    "Por ejemplo, para el caso del estudiante de arriba la red byesiana sería\n",
    "\n",
    "![estu](estu1.png)\n",
    "\n",
    "ya que su distribución conjunta es $ P(I,D,G) = P(G|I,D)P(I)P(D) $. A cada nodo del grafo se le asocia el factor o distribución condicionada de probabilidad (CPD). Es decir, $P(G|I,D)$ se asocia al nodo G, $P(D)$ al nodo D y $P(I)$ al nodo I.\n",
    "\n"
   ]
  },
  {
   "cell_type": "code",
   "execution_count": 33,
   "metadata": {},
   "outputs": [
    {
     "name": "stdout",
     "output_type": "stream",
     "text": [
      "[[[0.3  0.4  0.3 ]\n",
      "  [0.05 0.25 0.7 ]]\n",
      "\n",
      " [[0.9  0.08 0.02]\n",
      "  [0.5  0.3  0.2 ]]]\n",
      "[[[0.6]\n",
      "  [0.4]]]\n",
      "[[[0.7]]\n",
      "\n",
      " [[0.3]]]\n"
     ]
    }
   ],
   "source": [
    "# Calculamos de todas la distribución condicionada de P(G|D,I) asociada al nodo G\n",
    "d = np.zeros_like(probs)\n",
    "for i in [0,1]:\n",
    "    for j in [0,1]:\n",
    "        d[i,j,:] = reduce(probs, [0,1], [i,j])\n",
    "        \n",
    "P_G_ID = d\n",
    "\n",
    "# Calcula P(D)\n",
    "#P_D = XXX\n",
    "\n",
    "# Calcula P(I)\n",
    "#P_I = XXX\n",
    "\n",
    "print(P_G_ID)\n",
    "print(P_D)\n",
    "print(P_I)"
   ]
  },
  {
   "cell_type": "markdown",
   "metadata": {},
   "source": [
    "##### Producto de factores\n",
    "\n",
    "En general, dos factores $\\phi_1(A,B)$ y $\\phi_2(B,C)$ se multiplican para obtener otro factor $\\phi(A,B,C)$ multiplicando las entradas compatibles de las tablas. Es decir:\n",
    "\n",
    "$$ \\phi(A=ai,B=bj,C=ck) = \\phi_1(A=ai,B=bj) \\phi_2(B=bj, C=ck) $$"
   ]
  },
  {
   "cell_type": "code",
   "execution_count": 7,
   "metadata": {},
   "outputs": [
    {
     "data": {
      "text/plain": [
       "array([[0.126]])"
      ]
     },
     "execution_count": 7,
     "metadata": {},
     "output_type": "execute_result"
    }
   ],
   "source": [
    "# Tal como hemos definido las tablas de probabilidad con una variable por dimensión,\n",
    "# el producto de factores es simplemente hacer el producto\n",
    "P_DIG = P_G_ID * P_I * P_D\n",
    "P_DIG \n",
    "\n",
    "# Comprueba que es igual a la distribución original\n",
    "\n",
    "# Cómo calculas el valor de probabilidad de la consulta 1 de \n",
    "# arriba, P(I=i0, G=g0, D=d0), a partir de los factores...pues \n",
    "# igual P(I=i0, G=g0, D=d0) = P(G=g0|I=i0,D=d0)P(I=i0)P(D=d0)\n",
    "# Ojo con los índices\n",
    "#\n",
    "\n",
    " \n"
   ]
  },
  {
   "cell_type": "markdown",
   "metadata": {},
   "source": [
    "#### Red del estudiante ampliada\n",
    "\n",
    "Este ejemplo ha sido adaptado Probabilistic Graphical Model (Daphne Koller). Relaciona las sguientes variables\n",
    "\n",
    "* Nota examen (G): g0 (sobresaliente), g1 (notable), g2 (aprobado)\n",
    "* Dificultad examen (D): d0 (fácil) y d1 (difícil)\n",
    "* Inteligencia (I): i0 (normal), i1 (alta)\n",
    "* Nota Selectividad (S): s0 (baja), s1 (alta)\n",
    "* Carta de recomendación (L): l0 (regular), l1 (buena)\n",
    "\n",
    "![estu](estu2.png)\n",
    "\n",
    "ya que su distribución conjunta es $ P(D,I,G,L,S) = P(G|I,D)P(I)P(D)P(S|I)P(L|G) $\n",
    "\n",
    "Las CPDs (distribuciones codicionadas de probabilidad) vienen dadas por:\n",
    "\n",
    "$ P(I):$\n",
    "\n",
    "| i0| i1|\n",
    "|---|---|\n",
    "| 0.7| 0.3|\n",
    "\n",
    "$ P(D):$\n",
    "\n",
    "| d0| d1|   \n",
    "|---|---|   \n",
    "| 0.6| 0.4| \n",
    "\n",
    "$ P(G|I,D):$\n",
    "\n",
    "| | g0 | g1 | g2 |\n",
    "|---|---|---|---|\n",
    "| i0,d0 | 0.3| 0.4 | 0.3 |\n",
    "| i0,d1 | 0.05| 0.25 | 0.7 |\n",
    "| i1,d0 | 0.9| 0.08 | 0.02 |\n",
    "| i1,d1 | 0.5| 0.3 | 0.2 |\n",
    "\n",
    "$ P(L|G):$\n",
    "\n",
    "| | l0 | l1 |\n",
    "|---|---|---|\n",
    "| g0 | 0.1| 0.9 |\n",
    "| g1 | 0.4| 0.6 |\n",
    "| g2 | 0.99| 0.01 |\n",
    "\n",
    "$ P(S|I):$\n",
    "\n",
    "| | s0 | s1 |\n",
    "|---|---|---|\n",
    "| i0 | 0.95| 0.05 |\n",
    "| i1 | 0.2| 0.8 |\n",
    "\n",
    "Vamos a comprobar si esta factorización es una distribución de probabilidad válida. Para ello debemos comprobar si suma 1. Es decir debemos comprobar si:\n",
    "\n",
    "$$ \\sum_{D,I,G,L,S}P(D,I,G,L,S) = \\sum_{D,I,G,L,S} P(G|I,D)P(I)P(D)P(S|I)P(L|G) = 1 $$\n",
    "\n",
    "No todas las sumatorias afectan a todos los factores por lo que podemos mover algunas dentro. Empezamos con S, ya que solo hay un factor que depende de esa variable\n",
    "\n",
    "$$ \\sum_{D,I,G} P(G|I,D)P(I)P(D)P(L|G)\\sum_S P(S|I)  = \\sum_{D,I,G,L} P(G|I,D)P(I)P(D)P(L|G) $$\n",
    "\n",
    "donde hemos aplicado que $\\sum_S P(S|I)=1$ ya que es una distribución válida sobre S independientemente del valor de I. Podemos continuar \n",
    "\n",
    "$$ \\sum_{D,I,G,L} P(G|I,D)P(I)P(D)P(L|G) =  \\sum_{I} P(I)\\sum_{D}P(D)\\sum_G P(G|I,D) \\sum_L P(L|G) = 1 $$\n"
   ]
  },
  {
   "cell_type": "code",
   "execution_count": 8,
   "metadata": {},
   "outputs": [
    {
     "data": {
      "text/plain": [
       "array([[[[[1.]]]]])"
      ]
     },
     "execution_count": 8,
     "metadata": {},
     "output_type": "execute_result"
    }
   ],
   "source": [
    "# Definamos los factores del problema con el siguiente orden de \n",
    "# variables\n",
    "\n",
    "# Dimensión -> 0  1  2  3  4\n",
    "# Variable  -> I, D, G, L, S\n",
    "\n",
    "PI = np.array([0.7, 0.3]).reshape((2,1,1,1,1))\n",
    "PD = np.array([0.6, 0.4]).reshape((1,2,1,1,1))\n",
    "PG_ID = np.array([0.3, 0.4, 0.3, 0.05, 0.25, 0.7, 0.9, 0.08, 0.02, 0.5, 0.3, 0.2]).reshape((2,2,3,1,1))\n",
    "PL_G = np.array([0.1, 0.9, 0.4, 0.6, 0.99, 0.01]).reshape((1,1,3,2,1))\n",
    "PS_I = np.array([0.95, 0.05, 0.2, 0.8]).reshape((2,1,1,1,2))\n",
    "\n",
    "# Distribución conjunta\n",
    "PIDGLS = PI*PD* PG_ID * PL_G* PS_I\n",
    "\n",
    "# Comprueba que es una distribución válida que suma a 1\n",
    "# Usando la distrib conjunta\n",
    "np.sum(PIDGLS)\n",
    "\n",
    "# Hazlo pero siguiendo los pasos de arriba, sumando en orden: S, L, etc\n"
   ]
  },
  {
   "cell_type": "markdown",
   "metadata": {},
   "source": [
    "### Razonamiento causal\n",
    "Razonamiento que va desde las causas a las consecuencias. Cuando observamos que una variable progenitor tiene un valor, esto afecta a la probabilidad de las variables descendientes\n",
    "\n",
    "##### Ejemplo\n",
    "\n",
    "![causal1](causal1.png)\n",
    "![causal2](causal2.png)"
   ]
  },
  {
   "cell_type": "code",
   "execution_count": 9,
   "metadata": {},
   "outputs": [
    {
     "name": "stdout",
     "output_type": "stream",
     "text": [
      "[[[[[0.497664]\n",
      "    [0.502336]]]]]\n",
      "[[[[[0.497664]\n",
      "    [0.502336]]]]]\n",
      "-------\n",
      "[[[[[0.6114]\n",
      "    [0.3886]]]]]\n",
      "[[[[[0.6114]\n",
      "    [0.3886]]]]]\n",
      "-------\n",
      "[[[[[0.487]\n",
      "    [0.513]]]]]\n",
      "[[[[[0.487]\n",
      "    [0.513]]]]]\n"
     ]
    }
   ],
   "source": [
    "# Consultas\n",
    "# Prob de conseguir una carta de recomendación buena P(L=l1) \n",
    "#   -> hay que marginalizar todas las variables menos L\n",
    "\n",
    "# Prob de conseguir una carta de recomendación buena dado que el estudiante es normal P(L=l1|I=i0) \n",
    "#   -> hay que reducir el factor a los valores compatibles con I=i0 y normalizarlo\n",
    "#   -> y luego marginalizar todas las variables menos L\n",
    "\n",
    "# La prob de l1 baja\n",
    "\n",
    "# Prob de conseguir una carta de recomendación buena dado que \n",
    "#          el estudiante es normal pero el examen fue fácil P(L=l1|I=i0,D=i0) \n",
    "#   -> hay que reducir el factor a los valores compatibles con I=i0,D=d0 y normalizarlo\n",
    "#   -> y luego marginalizar todas las variables menos L\n",
    "\n",
    "# La prob de l1 vuelve a subir\n",
    "\n"
   ]
  },
  {
   "cell_type": "markdown",
   "metadata": {},
   "source": [
    "### Razonamiento evidencial\n",
    "Es el inverso del causal. Cuando se observa que una variable descendiente tiene un valor, esto afecta a la probabilidad de las variables progenitores\n",
    "\n",
    "##### Ejemplo\n",
    "![evidencial](evidential.png)"
   ]
  },
  {
   "cell_type": "code",
   "execution_count": 10,
   "metadata": {},
   "outputs": [
    {
     "name": "stdout",
     "output_type": "stream",
     "text": [
      "[[[[0.6]]]\n",
      "\n",
      "\n",
      " [[[0.4]]]]\n",
      "[[[[[0.37070938]]]\n",
      "\n",
      "\n",
      "  [[[0.62929062]]]]]\n"
     ]
    }
   ],
   "source": [
    "## ¿Cual es la probabilidad de que el examen sea difícil?\n",
    "\n",
    "\n",
    "# Dado que la nota ha sido aprobado, ¿Cuál es la prob de examen difícil?\n"
   ]
  },
  {
   "cell_type": "markdown",
   "metadata": {},
   "source": [
    "### Independencia condicionada\n",
    "La independencia se puede peder tras condicionar una variable. Por ejemplo, P(I,D)=P(I)P(D) pero si condicionamos a G, esta independencia se pierde. \n"
   ]
  },
  {
   "cell_type": "code",
   "execution_count": 11,
   "metadata": {
    "scrolled": true
   },
   "outputs": [
    {
     "name": "stdout",
     "output_type": "stream",
     "text": [
      "[[[[[0.3480663 ]]]\n",
      "\n",
      "\n",
      "  [[[0.03867403]]]]\n",
      "\n",
      "\n",
      "\n",
      " [[[[0.44751381]]]\n",
      "\n",
      "\n",
      "  [[[0.16574586]]]]]\n",
      "------------\n",
      "[[[[[0.30768292]]]\n",
      "\n",
      "\n",
      "  [[[0.07905742]]]]\n",
      "\n",
      "\n",
      "\n",
      " [[[[0.48789719]]]\n",
      "\n",
      "\n",
      "  [[[0.12536247]]]]]\n",
      "------------\n",
      "[[[[[0.3480663 ]]\n",
      "\n",
      "   [[0.58252427]]\n",
      "\n",
      "   [[0.3604119 ]]]\n",
      "\n",
      "\n",
      "  [[[0.03867403]]\n",
      "\n",
      "   [[0.24271845]]\n",
      "\n",
      "   [[0.56064073]]]]\n",
      "\n",
      "\n",
      "\n",
      " [[[[0.44751381]]\n",
      "\n",
      "   [[0.04993065]]\n",
      "\n",
      "   [[0.01029748]]]\n",
      "\n",
      "\n",
      "  [[[0.16574586]]\n",
      "\n",
      "   [[0.12482663]]\n",
      "\n",
      "   [[0.06864989]]]]]\n",
      "------------\n",
      "[[[[[0.30768292]]\n",
      "\n",
      "   [[0.52192882]]\n",
      "\n",
      "   [[0.34144285]]]\n",
      "\n",
      "\n",
      "  [[[0.07905742]]\n",
      "\n",
      "   [[0.3033139 ]]\n",
      "\n",
      "   [[0.57960978]]]]\n",
      "\n",
      "\n",
      "\n",
      " [[[[0.48789719]]\n",
      "\n",
      "   [[0.1105261 ]]\n",
      "\n",
      "   [[0.02926653]]]\n",
      "\n",
      "\n",
      "  [[[0.12536247]]\n",
      "\n",
      "   [[0.06423118]]\n",
      "\n",
      "   [[0.04968084]]]]]\n"
     ]
    }
   ],
   "source": [
    "# Comprueba que esto es así \n",
    "# Pista 1: Prueba una asignación de G que no se cumple.\n",
    "# Por ejemplo para G=g0 ver si P(D|G=g0)*P(I|G=g0)=P(D,I|G=g0)\n",
    "\n",
    "#Pista 2: A continuación puedes comprobar si 𝑃(𝐼|𝐷)\n",
    "# es igual a 𝑃(𝐼) y 𝑃(𝐷|𝐼) es igual a 𝑃(𝐷)."
   ]
  },
  {
   "cell_type": "markdown",
   "metadata": {},
   "source": [
    "### Razonamiento intercausal\n",
    "Es un tipo de razonamiento menos habitual que tiene que ver con el flujo de información entre dos causas con el mismo efecto\n",
    "\n",
    "##### Ejemplo\n",
    "\n",
    "![intercausal](intercausal.png)"
   ]
  },
  {
   "cell_type": "code",
   "execution_count": 12,
   "metadata": {},
   "outputs": [
    {
     "name": "stdout",
     "output_type": "stream",
     "text": [
      "0.3\n",
      "[[[[[0.92105263]]]]\n",
      "\n",
      "\n",
      "\n",
      " [[[[0.07894737]]]]]\n",
      "[[[[[0.89090909]]]]\n",
      "\n",
      "\n",
      "\n",
      " [[[[0.10909091]]]]]\n"
     ]
    }
   ],
   "source": [
    "# CAlcula la probabilidad de que un estudiante tenga\n",
    "# inteligencia alta P(I=i1)\n",
    "0.3\n",
    "\n",
    "# Si sabemos que la nota del examen es aprobado, ¿Cuál es la prob de inteligencia alta? \n",
    "# P(I=i1|G=g2)\n",
    "\n",
    "# y si además el examen es difícil\n",
    "# P(I=i1|G=g2,D=d1)\n"
   ]
  },
  {
   "cell_type": "markdown",
   "metadata": {},
   "source": [
    "### Razonamiento a través de un camino\n",
    "\n",
    "¿Cómo influye en la dificultad del examen si sabemos que la nota es aprobado (G=g0)? ¿y si además sabemos que la nota de selectividad es alta (S=s1)?\n",
    "\n",
    "![intercausal](flow.png)"
   ]
  },
  {
   "cell_type": "code",
   "execution_count": 13,
   "metadata": {},
   "outputs": [
    {
     "name": "stdout",
     "output_type": "stream",
     "text": [
      "[[[[[0.37070938]]]\n",
      "\n",
      "\n",
      "  [[[0.62929062]]]]]\n",
      "[[[[[0.24044002]]]\n",
      "\n",
      "\n",
      "  [[[0.75955998]]]]]\n"
     ]
    }
   ],
   "source": [
    "# Probabilidad de examen difícil D=d1?\n",
    "0.4\n",
    "\n",
    "# Probabilidad de examen difícil D=d1|G=aprobado?\n",
    "\n",
    "\n",
    "# Probabilidad de examen difícil D=d1|G=g2,S=s1?\n",
    "\n"
   ]
  },
  {
   "cell_type": "markdown",
   "metadata": {},
   "source": [
    "##### Ejercicio\n",
    "Si no se conoce G, ¿Influye la nota de selectividad en la dificultad del examen?"
   ]
  },
  {
   "cell_type": "code",
   "execution_count": null,
   "metadata": {},
   "outputs": [],
   "source": []
  },
  {
   "cell_type": "markdown",
   "metadata": {},
   "source": [
    "### Flujo de información y caminos activos\n",
    "* En una red de bayes dos variables son independientes dado un conjunto de variables, si no hay ningún camino activo entre ellas. \n",
    "* Un camino activo indica que existe flujo de información. \n",
    "* Los casos de razomaniento de arriba son caminos activos\n",
    "\n",
    "En general: ¿Cuándo X influye sobre Y a través de W?\n",
    "\n",
    "* X --> W --> Y: Causal     ->  SI\n",
    "* X <-- W <-- Y: Evidencial ->  SI\n",
    "* X <-- W --> Y: Evidencial + Causal -> SI\n",
    "* X --> W <-- Y: **Se denomina estructura en V** ->  NO\n",
    "\n",
    "##### Ejemplo independencia\n",
    "\n",
    "![estu2](estu2.png)\n",
    "\n",
    "* Conocer D afecta a L -> SÍ\n",
    "* Conocer L afecta a D -> SÍ\n",
    "* Conocer G afecta a S -> SÍ\n",
    "* Conocer D afecta a I -> NO\n",
    "\n",
    "--\n",
    "\n",
    "Ahora, suponiendo que hemos observado un conjunto de variables $\\mathbf{Z}$: ¿Cuándo X influye sobre Y a través de W dado $\\mathbf{Z}$?\n",
    "\n",
    "|   | $$ W\\in Z $$ | $$ W \\notin Z $$  |\n",
    "|---|---|---|\n",
    "| X --> W --> Y| NO |       SI |\n",
    "| X <-- W <-- Y| NO |       SI |\n",
    "| X <-- W --> Y| NO |       SI |\n",
    "| X --> W <-- Y| SI* |       NO** |\n",
    "\n",
    "\\* Siempre que W o alguno de sus descendientes esté en Z\n",
    "\n",
    "\\*\\* Siempre que ni W, ni ninguno de sus descendientes esté en Z\n",
    "\n",
    "##### Ejemplo independencia dada una evidencia\n",
    "Para la red de arriba tenemos que\n",
    "\n",
    "* Conocer D afecta a L dado G -> NO\n",
    "* Conocer L afecta a D dado G -> NO\n",
    "* Conocer G afecta a S dado I -> NO\n",
    "* Conocer D afecta a I dado G -> SÍ\n",
    "* Conocer D afecta a I dado L -> SÍ\n",
    "\n",
    "Veamos un ejemplo más complejo\n",
    "\n",
    "### Camino activo\n",
    "Dado un camino en el grafo  $X_1 - X_{2} - \\dots - X_{n}$, se dice que está activo si\n",
    "\n",
    "* Para todas las estructras en V del camino, $X_i \\rightarrow X_i \\leftarrow X_{i+1}$, tenemos que o bien $X_i$, o bien al menos uno de sus descendientes, es observado\n",
    "* El resto de nodos del camino no han sido observados\n",
    "\n",
    "##### Ejemplo caminos activos\n",
    "\n",
    "<p><img src=\"estudiante3.svg\" width=\"200\" style=\"margin:30px;float:right;\"> Indica cuáles de los siguientes caminos están activos:\n",
    "<ul style=\"font-family:monospace;\">\n",
    "    <li>C ‐&gt; D ‐&gt; G &lt;- I ‐&gt; S</li>\n",
    "    <li>I ‐&gt; G ‐&gt; L ‐&gt; J ‐&gt; H</li>\n",
    "    <li>I -&gt; S ‐&gt; J ‐&gt; H</li>\n",
    "    <li>C ‐&gt; D -&gt; G &lt;- I ‐&gt; S ‐&gt; J &lt;‐ L</li>\n",
    "    <li>C -&gt; D -&gt; G &lt;- I -&gt; S -&gt; J &lt;- L | H</li>\n",
    "    <li>C -&gt; D -&gt; G -&gt; H &lt;- J | H</li>\n",
    "    <li>C -&gt; D -&gt; G &lt;- I -&gt; S -&gt; J &lt;- L | G</li>\n",
    "    <li>I ‐&gt; G ‐&gt; L ‐&gt; J ‐&gt; H | G</li>\n",
    "    <li>D -&gt; G &lt;- I -&gt; S | L</li>\n",
    "    <li>D -&gt; G -&gt; L -&gt; J | L</li>\n",
    "    <li>G -&gt; H &lt;- J &lt;- S | L</li>\n",
    "    </ul>\n",
    "</p>\n",
    "\n",
    "\n",
    "<p style=\"clear:left\"></p>\n",
    "\n",
    "\n",
    "\n",
    "### Independencia en una red\n",
    "Para la factorización dada por una red de bayes, dos variables X,Y son independientes dada una evidencia Z, esto es $X \\perp Y | Z $, si no existe ningún camino activo entre ellas\n",
    "\n",
    "##### Ejercicio\n",
    "Analiza bajo qué condiciones S influye a D en el grafo de arriba"
   ]
  },
  {
   "cell_type": "code",
   "execution_count": null,
   "metadata": {},
   "outputs": [],
   "source": []
  },
  {
   "cell_type": "markdown",
   "metadata": {},
   "source": [
    "#### De las independencias del grafo se recupera la factorización\n",
    "\n",
    "<img src=\"estu2.png\" width=\"150\">\n",
    "\n",
    "Aplicamos la regla de la cadena (no supone ninguna independencia entre variables)\n",
    "\n",
    "$$ P(D,I,G,L,S) = P(D)P(I|D)P(G|D,I)P(L|D,I,G)P(S|D,I,G,L) $$\n",
    "\n",
    "Ahora veamos las independencias de los factores en la grafo:\n",
    "* P(D): No se puede simplificar más\n",
    "* P(I|D): Del grafo vemos que no hay camino activo entre I y D por tanto $ I\\perp  D $ y entonces P(I|D)=P(I)\n",
    "* P(G|D,I): Este factor queda igual ya que sí que hay dependencias entre G y D y entre G e I\n",
    "* P(L|D,I,G): Existe una dependencia entre G y L que tienen enlace directo, por lo tanto G permanece. Vemos que dado G el resto de variables son independientes  $ L \\perp I | G$ y $ L \\perp D | G$. Por tanto el factor queda como $P(L|D,I,G)=P(L|G)$\n",
    "* P(S|D,I,G,L): Existe dependencia directa entre I y S, por tanto I permanece. Y dado I la dependencia con el resto de variables se bloquea, es decir $ S \\perp G | I$, $ S \\perp D | I$ y $ S \\perp L | I$. Por tanto el factor queda como $P(S|L,D,I,G)=P(S|I)$\n",
    "\n",
    "Y la factorización queda:\n",
    "\n",
    "$$ P(D,I,G,L,S) = P(D)P(I)P(G|D,I)P(L|G)P(S|I) $$\n"
   ]
  },
  {
   "cell_type": "markdown",
   "metadata": {},
   "source": [
    "## Algoritmo de Eliminación de Variables\n",
    "\n",
    "Este algoritmo es para hacer inferencia en redes. Supongamos que tenemos la factorización de una distribución conjunta \n",
    "\n",
    "$$ P(\\mathbf{X}) = P(X_1, X_2, \\dots, X_N) = \\prod_{i=1}^N P(X_i|Par(X_i))$$ \n",
    "\n",
    "y una evidenica $ \\mathbf{Z}=\\mathbf{z} $, donde $\\mathbf{Z} \\subset \\mathbf{X}$ es un subconjunto de las variables del problema y $\\mathbf{z}$ son sus valores observados. El objetivo es obtener la distribución de parte de las variables del problema, $\\mathbf{W} \\subset \\mathbf{X}$ dada la evidencia $\\mathbf{Z}=\\mathbf{z}$. Es decir queremos obtener $P(\\mathbf{W}|\\mathbf{Z}=\\mathbf{z})$. Para ello debemos:\n",
    "* Reducir los factores que incluyan $\\mathbf{Z}$\n",
    "* Eliminar el resto de variables no incluidas $\\mathbf{W}$\n",
    "\n",
    "$$ P(\\mathbf{W}|\\mathbf{Z}=\\mathbf{z}) = \\sum_{X \\setminus (W\\cup Z)} \\frac{P(\\mathbf{X}\\setminus \\mathbf{Z},\\mathbf{Z}=\\mathbf{z})}{P(\\mathbf{Z}=\\mathbf{z})} \\propto \\sum_{X \\setminus (W\\cup Z)} P(\\mathbf{X}\\setminus \\mathbf{Z},\\mathbf{Z}=\\mathbf{z}) $$\n",
    "\n",
    "\n",
    "Algoritmo de eliminación de variables esquemático para un conjunto de factores $\\mathbf{\\Phi}=\\{\\Phi_1,\\dots,\\Phi_N\\}$:\n",
    "1.  Reducir todos los factores que contengan alguna variable de $\\mathbf{Z}$ en su dominio, usando la evidencia dada $\\mathbf{Z}=\\mathbf{z}$\n",
    "2.  Para cada varible X no en $\\mathbf{X} \\setminus (\\mathbf{W} \\cup \\mathbf{Z})$, eliminar variable X mediante marginalización:\n",
    "    1. Hacer el producto de todos los factores que tienen X es su dominio: $\\psi = \\prod_{\\Phi_i \\mid X\\in Dom(\\Phi_i) }\\Phi_i$ \n",
    "    2. Marginalizar X del factor producto obtenido en A: $\\tau = \\sum_X \\psi$\n",
    "    3. Actualizar la lista de factores quitando los factores que incluyen X y añadiendo el factor marginalizado $\\tau$: $\\mathbf{\\Phi} = (\\mathbf{\\Phi} \\setminus {\\psi}) \\cup \\tau$\n",
    "3. Multiplicar factores restantes\n",
    "4. Renormalizar para obtener una distribución"
   ]
  },
  {
   "cell_type": "code",
   "execution_count": 35,
   "metadata": {},
   "outputs": [],
   "source": [
    "def VA(factor_list, W, Zs=[], zs=[], order=[]):\n",
    "    \"\"\" Implementar variable elimination algorithm\n",
    "    \n",
    "        Entrada:\n",
    "           * factor_list: lista con los factores a procesar\n",
    "           * W:           lista de variables en el factor de salida\n",
    "           * Zs:          lista de variables observadas\n",
    "           * zs:          lista de valores de las variables observadas\n",
    "           * order:       orden en que se procesan las variables. Si no se \n",
    "                          indica nada se hacer en orden ascendente\n",
    "        Salida:\n",
    "           * Factor con la distribucion conjunta W dada la evidencia\n",
    "           * El tamaño del factor más grande que se procese\n",
    "        \n",
    "           \"\"\"\n",
    "    pass\n",
    "    "
   ]
  },
  {
   "cell_type": "code",
   "execution_count": null,
   "metadata": {},
   "outputs": [],
   "source": [
    "# Calcula la distribución P(I)\n",
    "factor, maxsize = VA([PI, PD, PG_ID, PL_G, PS_I],[0])\n",
    "assert(np.allclose(np.array([[[[[0.7]]]],[[[[0.3]]]]]),factor))\n",
    "assert(maxsize==12)\n",
    "\n",
    "# Si sabemos que la nota del examen es aprobado, ¿Cuál es la prob de inteligencia? \n",
    "# P(I|G=g2)\n",
    "factor, maxsize = VA([PI, PD, PG_ID, PL_G, PS_I],[0],[2],[2])\n",
    "assert(np.allclose(np.array([[[[[0.92105263]]]],[[[[0.07894737]]]]]), factor))\n",
    "assert(maxsize==4)\n",
    "\n",
    "# y si además el examen es difícil\n",
    "# P(I|G=g2,D=d1)\n",
    "factor, maxsize = VA([PI, PD, PG_ID, PL_G, PS_I],[0],[1,2],[1,2])\n",
    "assert(np.allclose(np.array([[[[[0.89090909]]]],[[[[0.10909091]]]]]), factor))\n",
    "assert(maxsize==4)\n"
   ]
  },
  {
   "cell_type": "code",
   "execution_count": null,
   "metadata": {},
   "outputs": [],
   "source": [
    "# Prob examen: Calcula la distribución: P(D)\n",
    "factor, maxsize = VA([PI, PD, PG_ID, PL_G, PS_I],[1])\n",
    "assert(np.allclose(np.array([[[[[0.6]]],[[[0.4]]]]]),factor))\n",
    "assert(maxsize==24)\n",
    "\n",
    "# Prob examen | nota aprobado: P(D|G=g2)\n",
    "factor, maxsize = VA([PI, PD, PG_ID, PL_G, PS_I],[1],[2],[2])\n",
    "assert(np.allclose(np.array([[[[[0.37070938]]],[[[0.62929062]]]]]),factor))\n",
    "assert(maxsize==8)\n",
    "\n",
    "# Probabilidad de examen difícil D=d1|G=g2,S=s1?\n",
    "factor, maxsize = VA([PI, PD, PG_ID, PL_G, PS_I],[1],[2,4],[2,1])\n",
    "assert(np.allclose(np.array([[[[[0.24044002]]],[[[0.75955998]]]]]),factor))\n",
    "assert(maxsize==4)\n"
   ]
  },
  {
   "cell_type": "code",
   "execution_count": null,
   "metadata": {},
   "outputs": [],
   "source": [
    "# Si no se conoce G, ¿Influye la nota de selectividad en la dificultad del examen?\n",
    "# dif examen\n",
    "print(VA([PI, PD, PG_ID, PL_G, PS_I],[1]))\n",
    "\n",
    "# dif examen si sat=1\n",
    "print(VA([PI, PD, PG_ID, PL_G, PS_I],[1],[4],[1])) # No cambia\n",
    "\n",
    "# Ahora sabiendo que nota es aprobado\n",
    "print(VA([PI, PD, PG_ID, PL_G, PS_I],[1],[2],[2])) \n",
    "print(VA([PI, PD, PG_ID, PL_G, PS_I],[1],[2,4],[2,1])) # Sí cambia\n",
    "\n"
   ]
  }
 ],
 "metadata": {
  "kernelspec": {
   "display_name": "Python 3",
   "language": "python",
   "name": "python3"
  },
  "language_info": {
   "codemirror_mode": {
    "name": "ipython",
    "version": 3
   },
   "file_extension": ".py",
   "mimetype": "text/x-python",
   "name": "python",
   "nbconvert_exporter": "python",
   "pygments_lexer": "ipython3",
   "version": "3.6.10"
  }
 },
 "nbformat": 4,
 "nbformat_minor": 4
}
