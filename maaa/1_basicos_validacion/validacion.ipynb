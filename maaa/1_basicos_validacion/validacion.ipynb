{
 "cells": [
  {
   "cell_type": "code",
   "execution_count": 17,
   "metadata": {},
   "outputs": [
    {
     "name": "stdout",
     "output_type": "stream",
     "text": [
      "              precision    recall  f1-score   support\n",
      "\n",
      "           0       1.00      0.91      0.95        68\n",
      "           1       0.94      1.00      0.97       103\n",
      "\n",
      "    accuracy                           0.96       171\n",
      "   macro avg       0.97      0.96      0.96       171\n",
      "weighted avg       0.97      0.96      0.96       171\n",
      "\n",
      "              precision    recall  f1-score   support\n",
      "\n",
      "           0       0.90      0.91      0.91        68\n",
      "           1       0.94      0.93      0.94       103\n",
      "\n",
      "    accuracy                           0.92       171\n",
      "   macro avg       0.92      0.92      0.92       171\n",
      "weighted avg       0.92      0.92      0.92       171\n",
      "\n"
     ]
    },
    {
     "name": "stderr",
     "output_type": "stream",
     "text": [
      "/home/gonzalo/anaconda3/lib/python3.6/site-packages/sklearn/model_selection/_search.py:813: DeprecationWarning: The default of the `iid` parameter will change from True to False in version 0.22 and will be removed in 0.24. This will change numeric results when test-set sizes are unequal.\n",
      "  DeprecationWarning)\n",
      "/home/gonzalo/anaconda3/lib/python3.6/site-packages/sklearn/model_selection/_search.py:813: DeprecationWarning: The default of the `iid` parameter will change from True to False in version 0.22 and will be removed in 0.24. This will change numeric results when test-set sizes are unequal.\n",
      "  DeprecationWarning)\n"
     ]
    }
   ],
   "source": [
    "import numpy as np\n",
    "\n",
    "from sklearn.model_selection import StratifiedKFold\n",
    "from sklearn.model_selection import train_test_split\n",
    "\n",
    "from sklearn.pipeline import Pipeline\n",
    "from sklearn.model_selection import GridSearchCV\n",
    "\n",
    "from sklearn import datasets\n",
    "\n",
    "from sklearn.tree import DecisionTreeClassifier\n",
    "from sklearn.svm import SVC\n",
    "\n",
    "from sklearn.preprocessing import StandardScaler\n",
    "\n",
    "from sklearn.metrics import classification_report\n",
    "\n",
    "# Dataset\n",
    "dataset = datasets.load_breast_cancer()\n",
    "X = dataset.data\n",
    "y = dataset.target\n",
    "X_train, X_test, y_train, y_test = train_test_split(X, y, test_size=0.3)\n",
    "\n",
    "# CV \n",
    "n_folds = 10\n",
    "kfold = n_folds # or StratifiedKFold(n_splits = n_folds, shuffle = True)\n",
    "\n",
    "#Pipe\n",
    "with_pipeline = True #or False\n",
    "pipe = [('scaler', StandardScaler())]\n",
    "\n",
    "# Models\n",
    "models = [ SVC(kernel='rbf'), DecisionTreeClassifier()]\n",
    "if with_pipeline:\n",
    "    h_param_grids = [{'clf__gamma': [1e-3, 1e-4],'clf__C': [1, 10, 100, 1000]},\n",
    "                    {'clf__min_samples_split':[2,5,10]}]\n",
    "else:\n",
    "    h_param_grids = [{'gamma': [1e-3, 1e-4],'C': [1, 10, 100, 1000]},\n",
    "                    {'min_samples_split':[2,5,10]}]\n",
    "\n",
    "# Metrics\n",
    "metrics =  None #{'accuracy': 'accuracy',\n",
    "                #'average_precision': 'average_precision'}\n",
    "best_scoring = 'accuracy'\n",
    "\n",
    "for model, grid in zip(models,h_param_grids):\n",
    "    # Pipeline or model\n",
    "    estimator = Pipeline(pipe + [('clf', model)]) if with_pipeline else model\n",
    "\n",
    "    # GridCV\n",
    "    grid_search = GridSearchCV(estimator, grid, cv = kfold, \n",
    "                               scoring = metrics, refit = best_scoring)\n",
    "    # Fit\n",
    "    grid_search.fit(X_train, y_train)\n",
    "\n",
    "    # Predictions\n",
    "    y_pred = grid_search.predict(X_test)\n",
    "\n",
    "    print(classification_report(y_test, y_pred))        "
   ]
  },
  {
   "cell_type": "code",
   "execution_count": null,
   "metadata": {},
   "outputs": [],
   "source": []
  }
 ],
 "metadata": {
  "kernelspec": {
   "display_name": "Python 3",
   "language": "python",
   "name": "python3"
  },
  "language_info": {
   "codemirror_mode": {
    "name": "ipython",
    "version": 3
   },
   "file_extension": ".py",
   "mimetype": "text/x-python",
   "name": "python",
   "nbconvert_exporter": "python",
   "pygments_lexer": "ipython3",
   "version": "3.6.10"
  }
 },
 "nbformat": 4,
 "nbformat_minor": 4
}
